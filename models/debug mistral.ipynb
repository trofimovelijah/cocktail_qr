{
 "cells": [
  {
   "cell_type": "markdown",
   "metadata": {},
   "source": [
    "## Импорт и определение библиотек"
   ]
  },
  {
   "cell_type": "code",
   "execution_count": 4,
   "metadata": {},
   "outputs": [],
   "source": [
    "# отключение параллелизма\n",
    "import os\n",
    "os.environ[\"TOKENIZERS_PARALLELISM\"] = \"false\""
   ]
  },
  {
   "cell_type": "code",
   "execution_count": 5,
   "metadata": {},
   "outputs": [],
   "source": [
    "# ставим разные пакеты оттуда\n",
    "!pip install langchain langchain-community langchain_huggingface unstructured pypandoc -q\n",
    "!pip install faiss-cpu -q\n",
    "!pip install langchain-ollama -q"
   ]
  },
  {
   "cell_type": "code",
   "execution_count": 6,
   "metadata": {},
   "outputs": [
    {
     "name": "stderr",
     "output_type": "stream",
     "text": [
      "USER_AGENT environment variable not set, consider setting it to identify your requests.\n"
     ]
    }
   ],
   "source": [
    "# импортируем библиотеки\n",
    "from langchain.document_loaders import WebBaseLoader, PyPDFLoader, UnstructuredEPubLoader\n",
    "from langchain_core.documents import Document\n",
    "from langchain.prompts import PromptTemplate\n",
    "from langchain.tools import Tool\n",
    "from langchain.agents import initialize_agent\n",
    "from langchain.chains import RetrievalQA\n",
    "from langchain_huggingface import HuggingFaceEmbeddings\n",
    "import tqdm as notebook_tqdm\n",
    "from langchain_community.vectorstores import FAISS\n",
    "from langchain.llms import Ollama\n",
    "from langchain_ollama import OllamaLLM\n",
    "from langchain.text_splitter import TextSplitter\n",
    "from typing import List"
   ]
  },
  {
   "cell_type": "markdown",
   "metadata": {},
   "source": [
    "# Готовим коктейль с помощью RAG\n",
    "## Чутка `embeddings` с `HuggingFace` для оснастки"
   ]
  },
  {
   "cell_type": "code",
   "execution_count": 120,
   "metadata": {},
   "outputs": [],
   "source": [
    "# Чтение токена из файла\n",
    "def read_token(file_path): \n",
    "    with open(file_path, 'r') as f:\n",
    "        for line in f:\n",
    "            if line.startswith(\"HUGGINGFACEHUB_API_TOKEN\"):\n",
    "                return line.split('=')[1].strip()\n",
    "    raise ValueError(\"Token not found in the specified file.\")\n",
    "\n",
    "# Загрузка токена\n",
    "#hf_token = read_token('../utils.key')\n",
    "\n",
    "# Формирование эмбеддингов\n",
    "hf_embeddings_model = HuggingFaceEmbeddings(\n",
    "    model_name=\"cointegrated/LaBSE-en-ru\",  \n",
    "    #\"sentence-transformers/paraphrase-multilingual-mpnet-base-v2\", \n",
    "    model_kwargs={\"device\": \"cpu\"},\n",
    "    encode_kwargs={\n",
    "        'normalize_embeddings': True  # Для косинусной схожести\n",
    "    }\n",
    ")"
   ]
  },
  {
   "cell_type": "markdown",
   "metadata": {},
   "source": [
    "## Можно пропустить (если используете наполненную чашу векторного хранилища)\n",
    "### Немного `Document Loader`"
   ]
  },
  {
   "cell_type": "code",
   "execution_count": 211,
   "metadata": {},
   "outputs": [
    {
     "name": "stdout",
     "output_type": "stream",
     "text": [
      "pages count: 1\n",
      "max chars on page: 107261\n"
     ]
    }
   ],
   "source": [
    "# Загрузка EPUB файла от бармена-литературоведа\n",
    "loader = UnstructuredEPubLoader('../docs/Federle.epub', show_progress=True)\n",
    "doc_epub_mistral = loader.load()\n",
    "\n",
    "# смотрим, скока получилось загрузить\n",
    "print('pages count:', len(doc_epub_mistral))\n",
    "print('max chars on page:', max([len(page.page_content) for page in doc_epub_mistral]))"
   ]
  },
  {
   "cell_type": "code",
   "execution_count": 238,
   "metadata": {},
   "outputs": [
    {
     "data": {
      "text/plain": [
       "'\\n#!pip install unstructured \"unstructured[pdf]\" -q\\nfrom langchain_community.document_loaders import DirectoryLoader\\nloader = DirectoryLoader(\"../docs\", glob=\"**/*.pdf\", show_progress=True)\\ndata = loader.load()'"
      ]
     },
     "execution_count": 238,
     "metadata": {},
     "output_type": "execute_result"
    }
   ],
   "source": [
    "\"\"\"# Загружаем книгу от крутого бармена\n",
    "#loader = WebBaseLoader(url)\n",
    "loader = PyPDFLoader('../docs/Bortnik_1000.pdf')\n",
    "data_pdf = loader.load()\n",
    "\n",
    "print('pages count:', len(data_pdf))\n",
    "print('max chars on page:', max([len(page.page_content) for page in data_pdf]))\"\"\"\n",
    "\n",
    "# на тот случай, если решим загружать подобную литературу пачкой pdf\n",
    "\"\"\"\n",
    "#!pip install unstructured \"unstructured[pdf]\" -q\n",
    "from langchain_community.document_loaders import DirectoryLoader\n",
    "loader = DirectoryLoader(\"../docs\", glob=\"**/*.pdf\", show_progress=True)\n",
    "data = loader.load()\"\"\""
   ]
  },
  {
   "cell_type": "markdown",
   "metadata": {},
   "source": [
    "### Исполним `Text splitters` и разобьём на чанки"
   ]
  },
  {
   "cell_type": "code",
   "execution_count": 239,
   "metadata": {},
   "outputs": [],
   "source": [
    "class RecipeSplitter(TextSplitter):\n",
    "    def __init__(self):\n",
    "        super().__init__(chunk_size=1000, chunk_overlap=300)\n",
    "    \n",
    "    def split_text(self, text: str) -> List[str]:\n",
    "        # Убираем все пустые строки и лишние пробелы\n",
    "        cleaned_text = \"\\n\".join([line.strip() for line in text.split(\"\\n\") if line.strip()])\n",
    "        \n",
    "        # Разделяем текст на рецепты по маркеру \"НАЗВАНИЕ_РЕЦЕПТА\\nАВТОР\"\n",
    "        chunks = []\n",
    "        current_chunk = []\n",
    "        lines = cleaned_text.split(\"\\n\")\n",
    "        \n",
    "        i = 0\n",
    "        while i < len(lines):\n",
    "            line = lines[i]\n",
    "            # Проверяем начало нового рецепта\n",
    "            if i + 1 < len(lines) and lines[i+1].isupper() and \"(\" in lines[i+1] and \")\" in lines[i+1]:\n",
    "                if current_chunk:\n",
    "                    chunks.append(\"\\n\".join(current_chunk))\n",
    "                    current_chunk = []\n",
    "                current_chunk.append(line)\n",
    "                current_chunk.append(lines[i+1])\n",
    "                i += 2\n",
    "                continue\n",
    "            \n",
    "            current_chunk.append(line)\n",
    "            i += 1\n",
    "        \n",
    "        if current_chunk:\n",
    "            chunks.append(\"\\n\".join(current_chunk))\n",
    "        \n",
    "        return chunks\n",
    "    \n",
    "splitter = RecipeSplitter()"
   ]
  },
  {
   "cell_type": "code",
   "execution_count": 240,
   "metadata": {},
   "outputs": [
    {
     "name": "stdout",
     "output_type": "stream",
     "text": [
      "Количество чанков: 73\n"
     ]
    }
   ],
   "source": [
    "split_documents = []\n",
    "for page in doc_epub_mistral: #data_pdf\n",
    "    split_documents += splitter.create_documents([page.page_content], metadatas=[page.metadata])\n",
    "\n",
    "print('Количество чанков:', len(split_documents))"
   ]
  },
  {
   "cell_type": "markdown",
   "metadata": {},
   "source": [
    "### Наполним чашу `Vector Store`"
   ]
  },
  {
   "cell_type": "code",
   "execution_count": 241,
   "metadata": {},
   "outputs": [],
   "source": [
    "# Если нужно сохранить новый документ в базу\n",
    "try:\n",
    "    db_embed = FAISS.from_documents(\n",
    "            split_documents, \n",
    "            hf_embeddings_model\n",
    "        )\n",
    "except Exception as e:\n",
    "    raise RuntimeError(f\"Ошибка при создании базы данных FAISS: {e}\")\n",
    "\n",
    "\n",
    "# Сохраняем векторную базу локально\n",
    "db_embed.save_local(\"../data/faiss_db_epub_mistral\")"
   ]
  },
  {
   "cell_type": "markdown",
   "metadata": {},
   "source": [
    "## Нужно запустить (если используете готовое векторное хранилище)\n",
    "### Испьём чашу `Vector Store`"
   ]
  },
  {
   "cell_type": "code",
   "execution_count": 242,
   "metadata": {},
   "outputs": [],
   "source": [
    "# Если нужно изъять из уже сохранённого документа из базы\n",
    "# Загрузка векторной базы данных из локального файла\n",
    "db_embed = FAISS.load_local(\n",
    "        \"../data/faiss_db_epub_mistral\", \n",
    "        hf_embeddings_model,\n",
    "        allow_dangerous_deserialization = True\n",
    "    )"
   ]
  },
  {
   "cell_type": "code",
   "execution_count": 243,
   "metadata": {},
   "outputs": [
    {
     "data": {
      "text/plain": [
       "'!pip install rank_bm25 -q\\n\\nfrom langchain.retrievers import BM25Retriever, EnsembleRetriever\\n\\n# Создаем гибридный поиск (семантический + ключевые слова)\\nbm25_retriever = BM25Retriever.from_documents(split_documents)\\nbm25_retriever.k = 3\\n\\nfaiss_retriever = db_embed.as_retriever(search_kwargs={\"k\": 1})\\n\\nensemble_retriever = EnsembleRetriever(\\n    retrievers=[bm25_retriever, faiss_retriever],\\n    weights=[0.2, 0.8]\\n)\\n\\n# Использование:\\nprocessed_query = \"ингредиенты: \" + query  # Добавляем контекст для поиска\\nresults = ensemble_retriever.invoke(processed_query)\\nfor result in results:\\n    print(result.metadata[\\'ingredients\\'])'"
      ]
     },
     "execution_count": 243,
     "metadata": {},
     "output_type": "execute_result"
    }
   ],
   "source": [
    "# альтернативный подход для гибридного поиска\n",
    "# возможно нужно будет позже вернуться\n",
    "\"\"\"!pip install rank_bm25 -q\n",
    "\n",
    "from langchain.retrievers import BM25Retriever, EnsembleRetriever\n",
    "\n",
    "# Создаем гибридный поиск (семантический + ключевые слова)\n",
    "bm25_retriever = BM25Retriever.from_documents(split_documents)\n",
    "bm25_retriever.k = 3\n",
    "\n",
    "faiss_retriever = db_embed.as_retriever(search_kwargs={\"k\": 1})\n",
    "\n",
    "ensemble_retriever = EnsembleRetriever(\n",
    "    retrievers=[bm25_retriever, faiss_retriever],\n",
    "    weights=[0.2, 0.8]\n",
    ")\n",
    "\n",
    "# Использование:\n",
    "processed_query = \"ингредиенты: \" + query  # Добавляем контекст для поиска\n",
    "results = ensemble_retriever.invoke(processed_query)\n",
    "for result in results:\n",
    "    print(result.metadata['ingredients'])\"\"\""
   ]
  },
  {
   "cell_type": "code",
   "execution_count": 245,
   "metadata": {},
   "outputs": [
    {
     "name": "stdout",
     "output_type": "stream",
     "text": [
      "Лорд Крюшон\n",
      "ЛОРД ДЖИМ (1899)\n",
      "ДЖОЗЕФ КОНРАД\n",
      "Помните мистера Марлоу из «Сердца тьмы»? (Да бросьте, это было всего-то десять рецептов назад.) На сей раз наш знакомец ведет рассказ не о себе. Молодой моряк Джим грезил героическими подвигами – и бросил на произвол судьбы терпящее бедствие судно с направлявшимися в Мекку паломниками. (На заметку: для быстрого обогащения на литературной ниве возвращайтесь в позапрошлый век и описывайте человеческие драмы на фоне морской пучины.) Хотя повествование ведется от лица нескольких рассказчиков, а нарушенная хронология событий должна бы добавлять интриги, «Лорд Джим» местами тяжеловат. Предлагаем оживить постных британцев их же знаменитым крюшоном (этот напиток любого тихоню превратит в героя):\n",
      "1 огурец, нарезанный кружочками, и ломтик для украшения;\n",
      "60 мл крюшона «Пиммз № 1» (Pimm’s № 1);\n",
      "1 банка (0,33 л) лимонно-лаймовой газировки (кстати, «Буратино» или «Лимонад» отлично подойдут для подобных миксов!);\n",
      "долька лимона.\n",
      "Помещаем в коллинз несколько кружочков огурца, добавляем лед и крюшон. Доливаем доверху содовой, дольку лимона выжимаем в стакан и бросаем туда же; украшаем ломтиком огурца. Огромная просьба: как настоящие моряки, обслужите первыми дам и инфантильных господ.\n",
      "Последний из Мохито\n",
      "ПОСЛЕДНИЙ ИЗ МОГИКАН (1826)\n",
      "ДЖЕЙМС ФЕНИМОР КУПЕР\n",
      "Задолго до выхода одноименного фильма «Последний из могикан» считался классическим литературным произведением (хотя и слегка сомнительным в плане историзма). Живописуя хронику борьбы коренного населения против завоевателей, Купер вплетает в повествование многословные пассажи вроде: «Дункан пошел бродить между хижинами, стараясь найти какие-нибудь следы той, ради которой он подвергался опасности. Никто не обращал на него внимания, он мог бы легко бежать…»[1] Мы поможем вам преодолеть самые тягучие отрывки текста. Вооружимся же мохито и развернем свою атаку, для аутентичности заменив сахар сиропом агавы:\n",
      "5 свежих вымытых ягод черники;\n",
      "3 свежих вымытых ягоды земляники;\n",
      "8 свежих тщательно промытых веточек мяты;\n",
      "15 мл лимонного сока;\n",
      "30 мл сиропа агавы;\n",
      "50 мл светлого рома;\n",
      "сильногазированная вода для долива.\n",
      "В стакане коллинз толчем мадлером ягоды, мяту, сок и сироп. Добавляем две пригоршни льда и ром, тщательно перемешиваем, доверху доливаем газировкой. Замираем в ожидании, когда прольются слезы радости.\n",
      "Облегчение невыносимости бытия\n",
      "НЕВЫНОСИМАЯ ЛЕГКОСТЬ БЫТИЯ (1984)\n",
      "МИЛАН КУНДЕРА\n",
      "В своем романе, признанном классикой чешской и мировой литературы, Милан Кундера оставляет открытым вопрос о парализующих последствиях наших, казалось бы, несущественных повседневных решений. (Что-то подсказывает: Кундеру не часто приглашали на коктейльные вечеринки.) Герой Кундеры – хирург и записной бабник, нашедший удивительный баланс в отношениях в браке и на стороне. Но подождите с выводами! Под конец все герои либо мертвы, либо раздавлены жизнью, и у читателя поневоле закрадывается вопрос: как сложилась бы моя жизнь, не попадись мне в руки этот сексуально-политический поток сознания? Поднимите же себе настроение обожаемым в Праге напитком (по крайней мере, у туристов он в большой чести), который заходит настолько легче романа, что пара-тройка жадных глотков – и вы уже спешите в уборную облегчать временную невыносимость своего бытия:\n",
      "100 мл ананасового сока;\n",
      "30 мл абсента;\n",
      "1 слайс лимона для украшения.\n",
      "На дно стакана рокс бросаем колотый лед, добавляем абсент и сок. Элегантно подвешиваем на ободке слайс лимона. Пьем небольшими глотками (абсент – напиток коварный!), не то утром придется ломать голову: где это я?\n",
      "Преступление и мятное наказание\n",
      "ПРЕСТУПЛЕНИЕ И НАКАЗАНИЕ (1866)\n",
      "ФЕДОР МИХАЙЛОВИЧ ДОСТОЕВСКИЙ\n",
      "Когда главный герой сравнивает себя с Наполеоном, да еще и в свою пользу, с первой же страницы понимаешь, что закадровый смех здесь неуместен. Читатели, впервые взявшиеся за «Преступление и наказание» – мучительно-болезненную историю о молодом человеке, возомнившем себя вправе убить старушку-процентщицу и по своему разумению перераспределить ее богатство, – чего доброго заподозрят, что перед ними литературная основа «Закона и порядка». И ошибутся. Преступление? Безусловно! Наказание? А вот тут нет: забудьте и думать о сценах из полицейских сериалов, где зло немедленно получает по заслугам; в романе главным наказанием преступнику будет пожизненное осознание своей вины. Соединим же самый русский напиток – да-да, именно водку – с изрядной дозой кофеина: для хорошей встряски; ну а мята пусть обуздает ваши страсти, прежде чем вы вздумаете выкинуть что-нибудь совсем уж из ряда вон:\n",
      "50 мл водки;\n",
      "20 мл кофейного ликера;\n",
      "15 мл мятного ликера;\n",
      "нежирные сливки.\n",
      "В стакан рокс со льдом на дне наливаем водку и ликеры. Заполняем доверху нежирными сливками, а хотите, так и жирными – живем-то один раз!\n",
      "Сговор «Сазераков»\n",
      "СГОВОР ОСТОЛОПОВ (1980)\n",
      "ДЖОН КЕННЕДИ ТУЛ\n",
      "Только после самоубийства Джона Кеннеди Тула его мать узнала, что сын втайне от всех написал роман, – и сразу принялась обивать пороги издательских домов Луизианы, убеждая, что это алмаз американской прозы. (Вот так-то, друзья, и матери иногда бывают правы!) Этот увенчанный Пулитцеровской премией роман о причуднике из Нового Орлеана гармонично сочетается с такой же знаменитой новоорлеанской достопримечательностью – коктейлем «Сазерак». Итак, за безвременно покинувшего нас писателя – и за произведения, которые он мог бы нам оставить!\n",
      "15 мл анисового ликера (например, «Хербсайнт»);\n",
      "50 мл ржаного виски;\n",
      "1 чайная ложка (5 г) сахара;\n",
      "3 дэша биттера «Пишо» (Pechaud);\n",
      "2 дэша биттера «Ангостура»;\n",
      "завиток (твист) цедры лимона для украшения.\n",
      "Ликер наливаем в предварительно охлажденный стакан рокс и плавными круговыми движениями омываем стенки; остатки выплескиваем. Прочие ингредиенты взбалтываем в шейкере со льдом и процеживаем в стакан. У вас гости? Тогда украшаем напиток завитком из лимонной цедры. Гостей не предвидится? Пропускаем церемонии и сразу к делу – читаем, смакуем.\n"
     ]
    }
   ],
   "source": [
    "query = \"ликер, лимонный сок\"\n",
    "results = db_embed.similarity_search(query, k=5)\n",
    "for result in results:\n",
    "    print(result.page_content)"
   ]
  },
  {
   "cell_type": "markdown",
   "metadata": {},
   "source": [
    "# Месье системный промт"
   ]
  },
  {
   "cell_type": "code",
   "execution_count": 246,
   "metadata": {},
   "outputs": [],
   "source": [
    "system_prompt = \"\"\"\n",
    "        Ты — помощник для поиска рецептов коктейлей. У тебя есть доступ к базе данных с рецептами, вдохновлёнными литературными произведениями.\n",
    "        Когда пользователь вводит ингредиенты, используй инструмент \"Cocktail Recipe Finder\", чтобы найти подходящие рецепты.\n",
    "        Если рецепт не найден, предложи альтернативные варианты или уточни запрос.\n",
    "\n",
    "        ===\n",
    "        \n",
    "        Пример:\n",
    "        Пользователь: Какие коктейли можно сделать из водки и апельсинового сока?\n",
    "        Агент: Использую инструмент \"Cocktail Recipe Finder\" для поиска рецептов. Вот что найдено: [рецепт].\n",
    "\n",
    "        ===\n",
    "\n",
    "        Пример корректного ответа по введённым ингредиентам (ржаной виски, грейпфрутовый сок):\n",
    "        Коктейль \"Рожь и предубеждение\"\n",
    "        Состав:\n",
    "        - Ржаной виски (50 мл)\n",
    "        - Грейпфрутовый сок (90 мл)\n",
    "        Способ приготовления:\n",
    "        - Ингредиенты выливаем в стакан рокс поверх кубиков льда\n",
    "    \"\"\""
   ]
  },
  {
   "cell_type": "code",
   "execution_count": 247,
   "metadata": {},
   "outputs": [],
   "source": [
    "# Промпт для LangChain\n",
    "qa_prompt = PromptTemplate(\n",
    "    template=system_prompt + \"\\nКонтекст: {context}\\nВопрос: {question}\\nОтвет:\",\n",
    "    input_variables=[\"style\", \"context\", \"question\"]\n",
    ")"
   ]
  },
  {
   "cell_type": "markdown",
   "metadata": {},
   "source": [
    "## Полирнём `Retriver` и инициализирует `llm` для вкуса"
   ]
  },
  {
   "cell_type": "code",
   "execution_count": 248,
   "metadata": {},
   "outputs": [],
   "source": [
    "# Инициализация модели\n",
    "llm = OllamaLLM(\n",
    "    model=\"mistral:instruct\",\n",
    "    temperature=0.2,          # Для креативности\n",
    "    num_predict=512,         # Увеличенная длина ответа\n",
    "    stop=[\"\\\\n\\\\n\", \"###\"],   # Стоп-токены\n",
    "    top_k=40\n",
    ")"
   ]
  },
  {
   "cell_type": "code",
   "execution_count": 257,
   "metadata": {},
   "outputs": [],
   "source": [
    "# Модифицируем параметры ретривера\n",
    "retriever = db_embed.as_retriever(\n",
    "    search_type=\"mmr\",              # Maximal Marginal Relevance\n",
    "    search_kwargs={\n",
    "        \"k\": 5,                     # Уменьшаем количество возвращаемых документов\n",
    "        \"fetch_k\": 20,              # Уменьшаем общий пул для поиска\n",
    "        #\"lambda_mult\": 0.5          # Баланс между релевантностью и разнообразием\n",
    "    }\n",
    ")\n",
    "\n",
    "# Инициализация цепочки RetrievalQA\n",
    "retrieval_qa = RetrievalQA.from_chain_type(\n",
    "    llm=llm,\n",
    "    retriever=retriever,  # Ваш ретривер (например, FAISS)\n",
    "    #chain_type_kwargs={\"prompt\": qa_prompt},\n",
    "    return_source_documents=True\n",
    ")"
   ]
  },
  {
   "cell_type": "markdown",
   "metadata": {},
   "source": [
    "# Миксуем рецепт коктейля `agent` 00х"
   ]
  },
  {
   "cell_type": "code",
   "execution_count": 258,
   "metadata": {},
   "outputs": [],
   "source": [
    "# Создание инструмента\n",
    "agent_tools = [\n",
    "    Tool(\n",
    "        name=\"Cocktail Recipe Finder\",\n",
    "        func=retrieval_qa.run,\n",
    "        description=\"Используй этот инструмент, чтобы найти рецепты коктейлей по заданным ингредиентам. Вводи список ингредиентов, и инструмент вернёт подходящие рецепты. Пример: ['сок', 'виски'].\"\n",
    "    )\n",
    "]\n",
    "\n",
    "# создание агента\n",
    "agent = initialize_agent(\n",
    "    tools=agent_tools, \n",
    "    llm=llm, \n",
    "    agent=\"conversational-react-description\",       #\"zero-shot-react-description\", \"plan-and-execute\"\n",
    "    verbose=True,\n",
    "    system_prompt=system_prompt                     # не забыть указать системный промт для вкуса\n",
    ")"
   ]
  },
  {
   "cell_type": "markdown",
   "metadata": {},
   "source": [
    "# Задаём общие параметры, после чего коктейль готов\n",
    "## Вначале коктейль"
   ]
  },
  {
   "cell_type": "code",
   "execution_count": 255,
   "metadata": {},
   "outputs": [],
   "source": [
    "# Объявление функции на ввод данных от пользователя\n",
    "def get_user_input():\n",
    "    \"\"\"\n",
    "    Запрашивает у пользователя ингредиенты для поиска рецептов.\n",
    "    \"\"\"\n",
    "    user_input = input(\"Введите ингредиенты, разделенные запятыми: \")\n",
    "    ingredients = [ingredient.strip() for ingredient in user_input.split(\",\")]\n",
    "    return ingredients\n",
    "\n",
    "\n",
    "# Обработка ответа\n",
    "def format_response(response):\n",
    "    if \"не знаю\" in response.lower() or \"не найдено\" in response.lower():\n",
    "        return \"К сожалению, я не нашёл коктейлей с этими ингредиентами. Попробуйте другие ингредиенты.\"\n",
    "    else:\n",
    "        return response\n",
    "    \n",
    "\n",
    "# Функция выбора стиля ответа\n",
    "def choose_style(styles):\n",
    "    chosen_style = input(\"Выберите номер стиля (по умолчанию 4): \") or \"4\"\n",
    "    return styles.get(chosen_style, styles[\"4\"])#[\"name\"]"
   ]
  },
  {
   "cell_type": "code",
   "execution_count": 259,
   "metadata": {},
   "outputs": [
    {
     "name": "stdout",
     "output_type": "stream",
     "text": [
      "1. Коктейль \"Апельсин с гальяно\":\n",
      "      - Смешиваем 60 мл апельсинового сока и 30 мл гальяно в большом бокале, наполненном льдом.\n",
      "      - Используется для холодного питья.\n",
      "\n",
      "  2. Коктейль \"Гальянтовый коктейль\":\n",
      "      - Смешиваем 60 мл гальяно, 30 мл апельсинового сока и 15 мл сиропа в большом бокале, наполненном льдом.\n",
      "      - Используется для холодного питья.\n"
     ]
    }
   ],
   "source": [
    "def main():\n",
    "    # Определение стилей\n",
    "    styles = {\n",
    "        \"1\": \"стиль космического ужаса и хтонического мрака Говарда Ф. Лавкрафта\",\n",
    "        \"2\": \"гопническо-быдляцкий жаргон\",\n",
    "        \"3\": \"экспериментальный стиль нарезок Уильяма Берроуза\",\n",
    "        \"4\": \"стиль без изменений\"  # Стиль по умолчанию\n",
    "    }\n",
    "    \n",
    "    while True:\n",
    "        ingredients = get_user_input()\n",
    "        if not ingredients:\n",
    "            print(\"Вы не ввели ингредиенты. Попробуйте снова.\")\n",
    "            continue\n",
    "        \n",
    "        # Преобразуем массив ингредиентов в строку\n",
    "        ingredients_str = \", \".join(ingredients)\n",
    "        \n",
    "        # Формируем текстовый запрос\n",
    "        user_prompt = (\n",
    "            \"\"\"Напиши, какие коктейли можно изготовить из представленных ниже ингредиентов. \n",
    "            Для каждого коктейля опиши подробный способ приготовления и укажи пропорции. \n",
    "            Отвечай строго на русском языке, используя чёткий и лаконичный формат. \n",
    "            Не добавляй лишнюю информацию, которая не относится к рецепту. \n",
    "            Ингредиенты: {ingredients}\"\"\".format(ingredients=ingredients_str)\n",
    "        )\n",
    "        response = retrieval_qa.invoke({\"query\": user_prompt})  \n",
    "        \n",
    "        # Получаем ответ без вывода его на экран\n",
    "        original_response = response[\"result\"]\n",
    "        # Выбор стиля\n",
    "        style = choose_style(styles)\n",
    "        prompt = PromptTemplate(input_variables=['output_text', 'style'],\n",
    "                                template='''Добро пожаловать в поиск коктейлей!\\nПерепиши этот текст в заданном стиле: {output_text}\\nСтиль: {style}.\\nРезультат:\\n''')\n",
    "        \n",
    "        # Генерация текста с использованием оригинального ответа и выбранного стиля\n",
    "        styled_prompt = prompt.format(output_text=original_response, style=style)\n",
    "        \n",
    "        # Применение выбранного стиля к оригинальному ответу\n",
    "        styled_response = llm.invoke(styled_prompt)\n",
    "        print(styled_response)\n",
    "        break\n",
    "    \n",
    "    return styled_response\n",
    "\n",
    "if __name__ == \"__main__\":\n",
    "    # Сохраняем результат в переменную\n",
    "    recipe = main()"
   ]
  },
  {
   "cell_type": "markdown",
   "metadata": {},
   "source": [
    "# Реюнион"
   ]
  },
  {
   "cell_type": "code",
   "execution_count": 1,
   "metadata": {},
   "outputs": [],
   "source": [
    "from langchain.text_splitter import TextSplitter\n",
    "from typing import List\n",
    "    \n",
    "class RecipeSplitter(TextSplitter):\n",
    "    def __init__(self):\n",
    "        super().__init__(chunk_size=1000, chunk_overlap=0)\n",
    "    \n",
    "    def split_text(self, text: str) -> List[str]:\n",
    "        # Убираем все пустые строки и лишние пробелы\n",
    "        cleaned_text = \"\\n\".join([line.strip() for line in text.split(\"\\n\") if line.strip()])\n",
    "        \n",
    "        # Разделяем текст на рецепты по маркеру \"НАЗВАНИЕ_РЕЦЕПТА\\nАВТОР\"\n",
    "        chunks = []\n",
    "        current_chunk = []\n",
    "        lines = cleaned_text.split(\"\\n\")\n",
    "        \n",
    "        i = 0\n",
    "        while i < len(lines):\n",
    "            line = lines[i]\n",
    "            # Проверяем начало нового рецепта\n",
    "            if i + 1 < len(lines) and lines[i+1].isupper() and \"(\" in lines[i+1] and \")\" in lines[i+1]:\n",
    "                if current_chunk:\n",
    "                    chunks.append(\"\\n\".join(current_chunk))\n",
    "                    current_chunk = []\n",
    "                current_chunk.append(line)\n",
    "                current_chunk.append(lines[i+1])\n",
    "                i += 2\n",
    "                continue\n",
    "            \n",
    "            current_chunk.append(line)\n",
    "            i += 1\n",
    "        \n",
    "        if current_chunk:\n",
    "            chunks.append(\"\\n\".join(current_chunk))\n",
    "        \n",
    "        return chunks"
   ]
  },
  {
   "cell_type": "code",
   "execution_count": null,
   "metadata": {},
   "outputs": [],
   "source": [
    "# Пример текста\n",
    "text = \"\"\"\n",
    "Рожь и предубеждение\n",
    "ГОРДОСТЬ И ПРЕДУБЕЖДЕНИЕ (1813)\n",
    "ДЖЕЙН ОСТИН\n",
    "Роман благородных нравов XIX века подарил Джейн Остин шанс еще при жизни (хоть и недолгой – всего 41 год) вкусить свои пять минут славы. «Гордость и предубеждение» повествует о попытках семейства Беннет выдать замуж своих дочерей. От лица одной из пяти девиц и ведется рассказ. Увы, Элизабет – в одной из экранизаций блеснувшая выразительными скулами Киры Найтли – та еще язва, и ее жажда припечатать всех и каждого чуть ли не затмевает ее трепетное чувство к мистеру Дарси, джентльмену с завидным самомнением (зато ну очень богатому!). Впрочем, все кончается восхитительной двойной свадьбой. Вот и мы сосватаем две сильные натуры – терпкую пряность ржи и жизнеутверждающую горечь грейпфрута – и на славу погуляем на нашем импровизированном торжестве:\n",
    "\n",
    "\n",
    "90 мл грейпфрутового сока;\n",
    "\n",
    "50 мл ржаного виски.\n",
    "\n",
    "\n",
    "Ингредиенты выливаем в стакан рокс поверх кубиков льда, размешиваем в ритме «сердце вскачь». Хотим подчеркнуть, юные леди, мы нисколечко не предубеждены против замужества, а лишь призываем вас уяснить главное: чтобы почувствовать себя королевой, не нужно и дворца (как, впрочем, и короля).\n",
    "\n",
    "\n",
    "Кофейный ликер без меры\n",
    "ЛЮБОВЬ ВО ВРЕМЯ ХОЛЕРЫ (1985)\n",
    "ГАБРИЭЛЬ ГАРСИА МАРКЕС\n",
    "Зачем вы, девочки, докторов заграничных любите? Отдашь такому сердце – и полвека промаешься, прежде чем найти то самое, что доктор прописал. Вот она какая, романтика по Маркесу: юноша и девушка загорелись друг к другу пылкой страстью, но девица возьми да выбери себе в мужья доктора – а возлюбленному от ворот поворот дала, крути, мол, в отместку с кем хочешь. Но над истинной страстью время не властно! И однажды, «пятьдесят один год, девять месяцев и четыре дня спустя» (надо же было высчитать!), после кончины Супруга-Номер-Один, те двое воссоединяются. Жемчужина колумбийской литературы, роман Гарсиа Маркеса заслуживает нашего салюта – сладкого, как истинная любовь, и пряного, как неувядающая страсть:\n",
    "\n",
    "\n",
    "30 мл светлого рома;\n",
    "\n",
    "15 мл кофейного ликера (например, «Калуа»);\n",
    "\n",
    "60 мл нежирных сливок;\n",
    "\n",
    "щепотка молотой корицы или мускатного ореха.\n",
    "\n",
    "\n",
    "В стакан рокс укладываем лед и поливаем его ромом и кофейным ликером. Добавляем сливки и приправу по вкусу. А теперь опрокидываем нашу гремучую смесь во славу истинной страсти – даже если заморского врача вы видели только в телевизоре.\n",
    "\"\"\"\n",
    "\n",
    "# Инициализация сплиттера\n",
    "splitter = RecipeSplitter()\n",
    "\n",
    "# Разбиение текста на чанки\n",
    "chunks = splitter.split_text(text)\n",
    "for i, chunk in enumerate(chunks, 1):\n",
    "    print(f\"Чанк {i}:\\n{chunk}\\n{'-' * 40}\")"
   ]
  },
  {
   "cell_type": "code",
   "execution_count": 13,
   "metadata": {},
   "outputs": [],
   "source": [
    "from langchain_community.vectorstores import FAISS\n",
    "from langchain_huggingface import HuggingFaceEmbeddings\n",
    "\n",
    "# Инициализация эмбеддингов\n",
    "hf_embeddings_model = HuggingFaceEmbeddings(\n",
    "    model_name=\"sentence-transformers/paraphrase-multilingual-mpnet-base-v2\", #\"cointegrated/LaBSE-en-ru\",\n",
    "    model_kwargs={\"device\": \"cpu\"}\n",
    ")\n",
    "\n",
    "from langchain_core.documents import Document\n",
    "\n",
    "# Преобразование строк в объекты Document\n",
    "documents = [Document(page_content=chunk) for chunk in chunks]\n",
    "\n",
    "# Создание векторного хранилища\n",
    "try:\n",
    "    db_embed = FAISS.from_documents(\n",
    "        documents, \n",
    "        hf_embeddings_model\n",
    "    )\n",
    "except Exception as e:\n",
    "    raise RuntimeError(f\"Ошибка при создании базы данных FAISS: {e}\")\n",
    "\n",
    "# Сохранение векторной базы локально\n",
    "db_embed.save_local(\"../data/faiss_db_epub_mistral\")\n",
    "\n",
    "query = \"ржаной виски, грейпфрутовый сок\"\n",
    "results = db_embed.similarity_search(query, k=1)  # Ищем 1 наиболее релевантный чанк\n",
    "for result in results:\n",
    "    print(result.page_content)"
   ]
  }
 ],
 "metadata": {
  "kernelspec": {
   "display_name": ".venv",
   "language": "python",
   "name": "python3"
  },
  "language_info": {
   "codemirror_mode": {
    "name": "ipython",
    "version": 3
   },
   "file_extension": ".py",
   "mimetype": "text/x-python",
   "name": "python",
   "nbconvert_exporter": "python",
   "pygments_lexer": "ipython3",
   "version": "3.12.3"
  }
 },
 "nbformat": 4,
 "nbformat_minor": 4
}
