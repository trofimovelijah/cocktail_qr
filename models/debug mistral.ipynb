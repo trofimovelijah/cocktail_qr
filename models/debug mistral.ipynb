{
 "cells": [
  {
   "cell_type": "markdown",
   "metadata": {},
   "source": [
    "## Импорт и определение библиотек"
   ]
  },
  {
   "cell_type": "code",
   "execution_count": 1,
   "metadata": {},
   "outputs": [],
   "source": [
    "# отключение параллелизма\n",
    "import os\n",
    "os.environ[\"TOKENIZERS_PARALLELISM\"] = \"false\""
   ]
  },
  {
   "cell_type": "code",
   "execution_count": 2,
   "metadata": {},
   "outputs": [],
   "source": [
    "# ставим разные пакеты оттуда\n",
    "!pip install langchain langchain-community langchain_huggingface unstructured pypandoc -q\n",
    "!pip install faiss-cpu -q\n",
    "!pip install langchain-ollama -q"
   ]
  },
  {
   "cell_type": "code",
   "execution_count": 13,
   "metadata": {},
   "outputs": [],
   "source": [
    "# импортируем библиотеки\n",
    "from langchain.document_loaders import WebBaseLoader, PyPDFLoader, UnstructuredEPubLoader\n",
    "from langchain_core.documents import Document\n",
    "from langchain.prompts import PromptTemplate\n",
    "from langchain.tools import Tool\n",
    "from langchain.agents import initialize_agent\n",
    "from langchain.chains import RetrievalQA\n",
    "from langchain_huggingface import HuggingFaceEmbeddings\n",
    "import tqdm as notebook_tqdm\n",
    "from langchain_community.vectorstores import FAISS\n",
    "from langchain.llms import Ollama\n",
    "from langchain_ollama import OllamaLLM"
   ]
  },
  {
   "cell_type": "markdown",
   "metadata": {},
   "source": [
    "# Готовим коктейль с помощью RAG\n",
    "## Чутка `embeddings` с `HuggingFace` для оснастки"
   ]
  },
  {
   "cell_type": "code",
   "execution_count": 4,
   "metadata": {},
   "outputs": [
    {
     "name": "stderr",
     "output_type": "stream",
     "text": [
      "/home/elijah/Documents/LLM/cocktail_qr/.venv/lib/python3.12/site-packages/tqdm/auto.py:21: TqdmWarning: IProgress not found. Please update jupyter and ipywidgets. See https://ipywidgets.readthedocs.io/en/stable/user_install.html\n",
      "  from .autonotebook import tqdm as notebook_tqdm\n"
     ]
    }
   ],
   "source": [
    "# Чтение токена из файла\n",
    "def read_token(file_path): \n",
    "    with open(file_path, 'r') as f:\n",
    "        for line in f:\n",
    "            if line.startswith(\"HUGGINGFACEHUB_API_TOKEN\"):\n",
    "                return line.split('=')[1].strip()\n",
    "    raise ValueError(\"Token not found in the specified file.\")\n",
    "\n",
    "# Загрузка токена\n",
    "#hf_token = read_token('../utils.key')\n",
    "\n",
    "# Формирование эмбеддингов\n",
    "hf_embeddings_model = HuggingFaceEmbeddings(\n",
    "    model_name=\"sentence-transformers/paraphrase-multilingual-mpnet-base-v2\",  \n",
    "    #\"cointegrated/LaBSE-en-ru\", \n",
    "    model_kwargs={\"device\": \"cpu\"} \n",
    ")"
   ]
  },
  {
   "cell_type": "markdown",
   "metadata": {},
   "source": [
    "## Можно пропустить (если используете наполненную чашу векторного хранилища)\n",
    "### Немного `Document Loader`"
   ]
  },
  {
   "cell_type": "code",
   "execution_count": 17,
   "metadata": {},
   "outputs": [
    {
     "name": "stdout",
     "output_type": "stream",
     "text": [
      "pages count: 1\n",
      "max chars on page: 107261\n"
     ]
    }
   ],
   "source": [
    "# Загрузка EPUB файла от бармена-литературоведа\n",
    "loader = UnstructuredEPubLoader('../docs/Federle.epub', show_progress=True)\n",
    "doc_epub_mistral = loader.load()\n",
    "\n",
    "# смотрим, скока получилось загрузить\n",
    "print('pages count:', len(doc_epub_mistral))\n",
    "print('max chars on page:', max([len(page.page_content) for page in doc_epub_mistral]))"
   ]
  },
  {
   "cell_type": "code",
   "execution_count": null,
   "metadata": {},
   "outputs": [],
   "source": [
    "# Загружаем книгу от крутого бармена\n",
    "#loader = WebBaseLoader(url)\n",
    "\"\"\"loader = PyPDFLoader('../docs/Bortnik_1000.pdf')\n",
    "data = loader.load()\n",
    "\n",
    "print('pages count:', len(data))\n",
    "print('max chars on page:', max([len(page.page_content) for page in data]))\"\"\"\n",
    "\n",
    "# на тот случай, если решим загружать подобную литературу пачкой pdf\n",
    "\"\"\"\n",
    "#!pip install unstructured \"unstructured[pdf]\" -q\n",
    "from langchain_community.document_loaders import DirectoryLoader\n",
    "loader = DirectoryLoader(\"../docs\", glob=\"**/*.pdf\", show_progress=True)\n",
    "data = loader.load()\"\"\""
   ]
  },
  {
   "cell_type": "markdown",
   "metadata": {},
   "source": [
    "### Исполним `Text splitters` и разобьём на чанки"
   ]
  },
  {
   "cell_type": "code",
   "execution_count": 37,
   "metadata": {},
   "outputs": [],
   "source": [
    "from langchain.text_splitter import TextSplitter\n",
    "from typing import List\n",
    "    \n",
    "class RecipeSplitter(TextSplitter):\n",
    "    def __init__(self):\n",
    "        super().__init__(chunk_size=1000, chunk_overlap=200)\n",
    "    \n",
    "    def split_text(self, text: str) -> List[str]:\n",
    "        # Убираем все пустые строки и лишние пробелы\n",
    "        cleaned_text = \"\\n\".join([line.strip() for line in text.split(\"\\n\") if line.strip()])\n",
    "        \n",
    "        # Разделяем текст на рецепты по маркеру \"НАЗВАНИЕ_РЕЦЕПТА\\nАВТОР\"\n",
    "        chunks = []\n",
    "        current_chunk = []\n",
    "        lines = cleaned_text.split(\"\\n\")\n",
    "        \n",
    "        i = 0\n",
    "        while i < len(lines):\n",
    "            line = lines[i]\n",
    "            # Проверяем начало нового рецепта\n",
    "            if i + 1 < len(lines) and lines[i+1].isupper() and \"(\" in lines[i+1] and \")\" in lines[i+1]:\n",
    "                if current_chunk:\n",
    "                    chunks.append(\"\\n\".join(current_chunk))\n",
    "                    current_chunk = []\n",
    "                current_chunk.append(line)\n",
    "                current_chunk.append(lines[i+1])\n",
    "                i += 2\n",
    "                continue\n",
    "            \n",
    "            current_chunk.append(line)\n",
    "            i += 1\n",
    "        \n",
    "        if current_chunk:\n",
    "            chunks.append(\"\\n\".join(current_chunk))\n",
    "        \n",
    "        return chunks\n",
    "    \n",
    "splitter = RecipeSplitter()"
   ]
  },
  {
   "cell_type": "code",
   "execution_count": 43,
   "metadata": {},
   "outputs": [
    {
     "name": "stdout",
     "output_type": "stream",
     "text": [
      "Количество чанков: 73\n"
     ]
    }
   ],
   "source": [
    "split_documents = []\n",
    "for page in doc_epub_mistral:\n",
    "    split_documents += splitter.create_documents([page.page_content], metadatas=[page.metadata])\n",
    "\n",
    "print('Количество чанков:', len(split_documents))"
   ]
  },
  {
   "cell_type": "markdown",
   "metadata": {},
   "source": [
    "### Наполним чашу `Vector Store`"
   ]
  },
  {
   "cell_type": "code",
   "execution_count": 44,
   "metadata": {},
   "outputs": [],
   "source": [
    "# Если нужно сохранить новый документ в базу\n",
    "try:\n",
    "    db_embed = FAISS.from_documents(\n",
    "            split_documents, \n",
    "            hf_embeddings_model\n",
    "        )\n",
    "except Exception as e:\n",
    "    raise RuntimeError(f\"Ошибка при создании базы данных FAISS: {e}\")\n",
    "\n",
    "\n",
    "# Сохраняем векторную базу локально\n",
    "db_embed.save_local(\"../data/faiss_db_epub_mistral\")"
   ]
  },
  {
   "cell_type": "markdown",
   "metadata": {},
   "source": [
    "## Нужно запустить (если используете готовое векторное хранилище)\n",
    "### Испьём чашу `Vector Store`"
   ]
  },
  {
   "cell_type": "code",
   "execution_count": 5,
   "metadata": {},
   "outputs": [],
   "source": [
    "# Если нужно изъять из уже сохранённого документа из базы\n",
    "# Загрузка векторной базы данных из локального файла\n",
    "db_embed = FAISS.load_local(\n",
    "        \"../data/faiss_db_epub_mistral\", \n",
    "        hf_embeddings_model,\n",
    "        allow_dangerous_deserialization = True\n",
    "    )"
   ]
  },
  {
   "cell_type": "code",
   "execution_count": 9,
   "metadata": {},
   "outputs": [
    {
     "name": "stdout",
     "output_type": "stream",
     "text": [
      "Старик и more виски\n",
      "СТАРИК И МОРЕ (1952)\n",
      "ЭРНЕСТ ХЕМИНГУЭЙ\n",
      "Удостоенная Пулитцеровской премии аллегорическая повесть «Старик и море» вышла в свет под занавес писательской карьеры Хемингуэя, полной наград, дифирамбов – и алкоголя. Завязка проста (и знакома читателям «Моби Дика» и почитателям «Моби Дринка»): старик в исступлении решает во что бы то ни стало взять верх над огромной рыбиной. Из своей эпической трехдневной битвы, в ходе которой гигантский марлин загарпунен, привязан к корме, но – вот так-то, старина! – сожран акулами, старик выходит измученным, но победителем. Вооружимся же и мы непременными рыбацкими атрибутами – виски и приманкой – и смешаем напиток, с которым море по колено:\n",
      "60 мл виски (например, Benchmark);\n",
      "1 банка (0,33 л) лимонно-лаймовой газировки (например, Sprite);\n",
      "кумкват для украшения.\n",
      "Находим свой самый большой хайбол. Бросаем на дно кубики льда, вливаем виски и газировку. Теперь берем приманку под названием воблер (в виде рыбки с крючком), промываем с мылом, цепляем на крючок кумкват – и в стакан. Другой вариант – ну его, стакан, к морскому дьяволу: заливаем напиток во флягу. Но сочетать употребление с заплывами категорически не рекомендуется!\n",
      "Там, где грушуют чудовища\n",
      "ТАМ, ГДЕ ЖИВУТ ЧУДОВИЩА (1963)\n",
      "МОРИС СЕНДАК\n",
      "Книжка с картинками «Там, где живут чудовища» – это феерический рассказ о мальчике с буйным воображением. Сосланный в свою комнату за непослушание, он отправляется в путешествие на таинственный остров со всеми присущими настоящему приключению атрибутами: чудовищами с клыками и рогами, индейскими каноэ, дикими плясками и даже ожидающим дома горячим ужином. Хотите верьте, хотите нет, а эта классика детской литературы, позже отмеченная в США как лучшая книжка с картинками, в первые годы подвергалась запретам: строптивый мальчишка не вызывал у взрослых особой симпатии. А дети все равно наперебой спрашивали книжку в библиотеках, что отправило ее в топ читательских пристрастий. Давайте и мы отсидимся дома (а заодно укротим эту чудовищную головную боль) вместе с проверенным временем средством от похмелья:\n",
      "120 мл грушевого сока;\n",
      "60 мл лимонада;\n",
      "60 мл имбирного эля.\n",
      "Наливаем в стакан хайбол на кубики льда грушевый сок и лимонад, добавляем имбирный эль. Натягиваем пижаму с серенькими волчьими ушками, плотно задергиваем шторы и старательно возвращаем свой мозг в реальный мир.\n",
      "Лайм для старого морехода\n",
      "СКАЗАНИЕ О СТАРОМ МОРЕХОДЕ (1798)\n",
      "СЭМЮЭЛ ТЕЙЛОР КОЛЬРИДЖ\n",
      "Когда в следующий раз застрянете на необитаемом острове, не поддавайтесь искушению возопить: «Вода, вода, одна вода, мы ничего не пьем…»[2] Вашим товарищам по несчастью неинтересны литературные цитаты – им нужны коктейли, чтобы утолить жажду, и психотерапевт, чтобы усмирить душевные метания. Кстати, вышеупомянутая строка взята из эпической поэмы о коварствах стихий, гневливых океанских водах и дохлых птицах: да, уважаемый альбатрос, незачем было увязываться за этой посудиной! (Мораль всей истории: руки прочь от божьих тварей, шкипер!) Отпразднуем же наше пребывание на суше свежестью лайма, добавленной к канонической солености морских вод (и, пожалуй, останемся лучше на пляже):\n",
      "60 мл сока лайма;\n",
      "60 мл грейпфрутового сока;\n",
      "50 мл джина;\n",
      "морская соль для красты.\n",
      "Украшаем охлажденный стакан хайбол крастой из морской соли. Помещаем в него лед, наливаем ингредиенты и размешиваем методом стир, то есть ложкой. А протрезвев, возвращаемся на мостик – но опасаемся низколетящих альбатросов.\n",
      "По вину звонит колокол\n",
      "ПО КОМ ЗВОНИТ КОЛОКОЛ (1940)\n",
      "ЭРНЕСТ ХЕМИНГУЭЙ\n",
      "Тут выпивка прямо-таки необходима: Хемингуэй, как все подмечающий журналист, изображает войну во всей ее жестокости и неприглядности. Американец Роберт Джордан участвует в гражданской войне в Испании на стороне республиканцев; он заброшен к партизанам с заданием взорвать мост в тылу франкистов. Хемингуэй, судя по лексике, будто переводит историю с испанского, умудряясь при этом выдерживать рваный репортажный стиль, который при внешней простоте крепко берет за душу (не пропустите и потрясающей силы любовную сцену в середине). Столь же неотразим и наш коктейль с испанским хересом в главной роли – ручаемся, вам захочется повторить! Попробуйте и убедитесь, что с ним вы наводите мостов больше, чем сжигаете.\n",
      "60 мл шерри (он же херес);\n",
      "30 мл сладкого вермута;\n",
      "2 дэша биттера «Пишо».\n",
      "Херес и вермут соединяем в стакане рокс со льдом. Хорошенько мешаем, спрыскиваем биттером. Предлагаем нашему давнему сопернику в знак примирения – а в доказательство, что напиток не отравлен, первыми отведаем из его кубка.\n",
      "Алиса в стране хлебов и грибов\n",
      "ПРИКЛЮЧЕНИЯ АЛИСЫ В СТРАНЕ ЧУДЕС (1865)\n",
      "ЛЬЮИС КЭРРОЛЛ\n",
      "Трудно поверить, но, когда «Алиса» появилась из-под пера Чарльза Доджсона (он же Льюис Кэрролл), критики обозвали сюжет с погоней за кроликом и курением кальяна чистейшим абсурдом. Эх вы, критики! В этом-то и была вся соль! Перевернутый вверх тормашками мир Кэрролла стал основой для великого множества фильмов, мюзиклов и других жанров искусства. Возьмем же пример с Алисы и откусим от нашего грибного деликатеса. Вряд ли он прибавит роста, но довольная улыбка Чеширского кота вам точно обеспечена!\n",
      "НА ОДИН СЭНДВИЧ:\n",
      "½ столовой ложки (10 г) оливкового масла;\n",
      "10 нарезанных королевских шампиньонов (около 150 г);\n",
      "чесночная соль и перец по вкусу;\n",
      "2 ломтя белого хлеба для тостов;\n",
      "125 г натертого швейцарского сыра.\n",
      "Кидаем грибы на разогретую с оливковым маслом сковороду и жарим пять минут. Добавляем чесночную соль и перец, снимаем с огня. На каждый ломоть хлеба выкладываем натертый сыр, а сверху – теплые грибы. Соединяем оба ломтя в сэндвич, слегка обжариваем на той же сковороде с двух сторон до золотистой корочки и пробуем. А кто посягнет на вашу еду, тому голову с плеч!\n"
     ]
    }
   ],
   "source": [
    "query = \"в какой коктейль входит ржаной виски\"\n",
    "results = db_embed.similarity_search(query, k=5)\n",
    "for result in results:\n",
    "    print(result.page_content)"
   ]
  },
  {
   "cell_type": "markdown",
   "metadata": {},
   "source": [
    "# Месье системный промт"
   ]
  },
  {
   "cell_type": "code",
   "execution_count": 10,
   "metadata": {},
   "outputs": [],
   "source": [
    "# Системный промпт\n",
    "system_prompt = \"\"\"Ты — бармен. Используй данные из контекста. \n",
    "Формат ответа:\n",
    "1. Название коктейля (с метафорой)\n",
    "2. Состав:\n",
    "- Ингредиенты (объем)\n",
    "3. Способ приготовления (шаги с креативными деталями).\n",
    "\n",
    "Стиль: {style}. \"\"\"\n",
    "\n",
    "# Промпт для LangChain\n",
    "qa_prompt = PromptTemplate(\n",
    "    template=system_prompt + \"\\nКонтекст: {context}\\nВопрос: {question}\\nОтвет:\",\n",
    "    input_variables=[\"style\", \"context\", \"question\"]\n",
    ")"
   ]
  },
  {
   "cell_type": "markdown",
   "metadata": {},
   "source": [
    "## Полирнём `Retriver` и инициализирует `llm` для вкуса"
   ]
  },
  {
   "cell_type": "code",
   "execution_count": 15,
   "metadata": {},
   "outputs": [],
   "source": [
    "# Инициализация модели\n",
    "llm = OllamaLLM(\n",
    "    model=\"mistral:instruct\",\n",
    "    temperature=0.2,          # Для креативности\n",
    "    num_predict=512,         # Увеличенная длина ответа\n",
    "    stop=[\"\\\\n\\\\n\", \"###\"],   # Стоп-токены\n",
    "    top_k=40\n",
    ")"
   ]
  },
  {
   "cell_type": "code",
   "execution_count": 85,
   "metadata": {},
   "outputs": [],
   "source": [
    "# Модифицируем параметры ретривера\n",
    "retriever = db_embed.as_retriever(\n",
    "    search_type=\"mmr\",              # Maximal Marginal Relevance\n",
    "    search_kwargs={\n",
    "        \"k\": 5,                     # Уменьшаем количество возвращаемых документов\n",
    "        \"fetch_k\": 20,              # Уменьшаем общий пул для поиска\n",
    "        #\"lambda_mult\": 0.5          # Баланс между релевантностью и разнообразием\n",
    "    }\n",
    ")\n",
    "\n",
    "# Инициализация цепочки RetrievalQA\n",
    "retrieval_qa = RetrievalQA.from_chain_type(\n",
    "    llm=llm,\n",
    "    retriever=retriever,  # Ваш ретривер (например, FAISS)\n",
    "    #chain_type_kwargs={\"prompt\": qa_prompt},\n",
    "    return_source_documents=True\n",
    ")"
   ]
  },
  {
   "cell_type": "code",
   "execution_count": null,
   "metadata": {},
   "outputs": [],
   "source": [
    "\"\"\"# Создание кастомной цепочки RetrievalQA\n",
    "from langchain.chains import LLMChain\n",
    "from langchain.chains.retrieval_qa.base import BaseRetrievalQA\n",
    "from typing import Any, Dict, List\n",
    "from langchain.schema import Document\n",
    "\n",
    "\n",
    "class CustomRetrievalQA(RetrievalQA):\n",
    "    def _call(self, inputs, run_manager=None):\n",
    "        question = inputs[\"query\"]\n",
    "        style = inputs[\"style\"]\n",
    "        # Используем метод get_relevant_documents вместо _get_docs\n",
    "        docs = self.retriever.get_relevant_documents(question, callbacks=run_manager.get_child())\n",
    "        context = \"\\n\".join([doc.page_content for doc in docs])\n",
    "        combine_inputs = {\n",
    "            \"style\": style,\n",
    "            \"context\": context,\n",
    "            \"question\": question\n",
    "        }\n",
    "        return self.combine_documents_chain.run(combine_inputs, callbacks=run_manager.get_child())\n",
    "\n",
    "# Инициализация цепочки RetrievalQA\n",
    "combine_documents_chain = LLMChain(llm=llm, prompt=qa_prompt)\n",
    "retrieval_qa = CustomRetrievalQA(\n",
    "    retriever=retriever,\n",
    "    combine_documents_chain=combine_documents_chain,\n",
    "    return_source_documents=True\n",
    ")\"\"\""
   ]
  },
  {
   "cell_type": "markdown",
   "metadata": {},
   "source": [
    "# Миксуем рецепт коктейля `agent` 00х"
   ]
  },
  {
   "cell_type": "code",
   "execution_count": 87,
   "metadata": {},
   "outputs": [],
   "source": [
    "# Создание инструмента\n",
    "agent_tools = [\n",
    "    Tool(\n",
    "        name=\"Cocktail Recipe Finder\",\n",
    "        func=retrieval_qa.run,\n",
    "        description=\"Используй этот инструмент, чтобы найти рецепты коктейлей по заданным ингредиентам. Вводи список ингредиентов, и инструмент вернёт подходящие рецепты. Пример: ['сок', 'виски'].\"\n",
    "    )\n",
    "]\n",
    "\n",
    "# создание агента\n",
    "agent = initialize_agent(\n",
    "    tools=agent_tools, \n",
    "    llm=llm, \n",
    "    agent=\"conversational-react-description\",       #\"zero-shot-react-description\", \"plan-and-execute\"\n",
    "    verbose=True,\n",
    "    system_prompt=system_prompt                     # не забыть указать системный промт для вкуса\n",
    ")"
   ]
  },
  {
   "cell_type": "markdown",
   "metadata": {},
   "source": [
    "# Задаём общие параметры, после чего коктейль готов\n",
    "## Вначале коктейль"
   ]
  },
  {
   "cell_type": "code",
   "execution_count": 88,
   "metadata": {},
   "outputs": [],
   "source": [
    "# Объявление функции на ввод данных от пользователя\n",
    "def get_user_input():\n",
    "    \"\"\"\n",
    "    Запрашивает у пользователя ингредиенты для поиска рецептов.\n",
    "    \"\"\"\n",
    "    user_input = input(\"Введите ингредиенты, разделенные запятыми: \")\n",
    "    ingredients = [ingredient.strip() for ingredient in user_input.split(\",\")]\n",
    "    return ingredients\n",
    "\n",
    "\n",
    "# Обработка ответа\n",
    "def format_response(response):\n",
    "    if \"не знаю\" in response.lower() or \"не найдено\" in response.lower():\n",
    "        return \"К сожалению, я не нашёл коктейлей с этими ингредиентами. Попробуйте другие ингредиенты.\"\n",
    "    else:\n",
    "        return response\n",
    "    \n",
    "\n",
    "# Функция выбора стиля ответа\n",
    "def choose_style(styles):\n",
    "    chosen_style = input(\"Выберите номер стиля (по умолчанию 4): \") or \"4\"\n",
    "    return styles.get(chosen_style, styles[\"4\"])#[\"name\"]\n",
    "\n",
    "# Генерация нового ответа в выбранном стиле \n",
    "def apply_style(response: str, style: str) -> str:\n",
    "    \"\"\"Применяет выбранный стиль к ответу.\"\"\"\n",
    "    prompt = f\"\"\"\n",
    "    Перепиши этот рецепт в стиле «{style}». Сохрани структуру (название, состав, шаги). \n",
    "    Текст для стилизации: {response}\n",
    "    \"\"\"\n",
    "    return llm.invoke(prompt)"
   ]
  },
  {
   "cell_type": "code",
   "execution_count": 89,
   "metadata": {},
   "outputs": [
    {
     "name": "stdout",
     "output_type": "stream",
     "text": [
      "1. Southern Comfort Cocktail (Southern Comfort et Juice de Pamplemousse)\n",
      "\n",
      "Dans un shaker rempli de glace, combinez 2 onces de Southern Comfort et une once de jus de pamplemousse frais. Agitez vigoureusement jusqu'à ce que le cocktail soit refroidi. Versez-le dans une verrine froide remplie de glace pilée. Décorez avec un tranche de pamplemousse.\n",
      "\n",
      "2. Sour à la Whiskey de Rye (Whiskey de Rye, Jus de Citron, Jus de Pamplemousse)\n",
      "\n",
      "Dans un shaker rempli de glace, combinez 2 onces de whiskey de rye, une once de jus de citron frais, et une demie once de jus de pamplemousse frais. Agitez vigoureusement jusqu'à ce que le cocktail soit refroidi. Versez-le dans une verrine froide remplie de glace pilée. Décorez avec un tranche de citron ou de pamplemousse.\n",
      "\n",
      "3. Old Fashionné à la Pamplemousse (Whiskey de Rye, Jus de Pamplemousse, Sirop de Sucre)\n",
      "\n",
      "Dans un verre à cocktail rempli de glace, combinez 2 onces de whiskey de rye, une demie once de sirop de sucre, et deux onces de jus de pamplemousse frais. Mélangez vigoureusement jusqu'à ce que le cocktail soit refroidi. Versez-le dans un verre à roche rempli d'un gros cube de glace. Décorez avec une peau d'orange.\n",
      "\n",
      "4. Smash à la Pamplemousse et Whiskey (Whiskey de Rye, Feuilles de Menthe Fraîches, Jus de Pamplemousse, Sirop de Sucre)\n",
      "\n",
      "Dans un shaker rempli de glace, moudrez 8 à 10 feuilles de menthe fraîches et ajoutez 2\n"
     ]
    }
   ],
   "source": [
    "def main():\n",
    "    # Стилевые инструкции с акцентом на общие характеристики\n",
    "    style_instructions = {\n",
    "        \"1\": {\n",
    "            \"name\": \"Космический ужас\",\n",
    "            \"description\": \"Используй слова: 'древний', 'тьма', 'запретный ритуал'.\",\n",
    "            \"params\": {\"temperature\": 0.8, \"top_p\": 0.95}\n",
    "        },\n",
    "        \"2\": {\n",
    "            \"name\": \"Гопнический жаргон\",\n",
    "            \"description\": \"Сленг: 'замути', 'вмазать', 'движняк'.\",\n",
    "            \"params\": {\"temperature\": 0.7, \"top_p\": 0.9}\n",
    "        },\n",
    "        \"3\": {\n",
    "            \"name\": \"Поэтический стиль\",\n",
    "            \"description\": \"Метафоры: 'танец вкусов', 'шепот льда', 'рассвет в бокале'.\",\n",
    "            \"params\": {\"temperature\": 0.75, \"top_p\": 0.85}\n",
    "        },\n",
    "        \"4\": {\n",
    "            \"name\": \"Формальный\",\n",
    "            \"description\": \"Технический язык без эмоций.\",\n",
    "            \"params\": {\"temperature\": 0.3, \"top_p\": 0.8}\n",
    "        }\n",
    "    }\n",
    "    \n",
    "    while True:\n",
    "        ingredients = get_user_input()\n",
    "        if not ingredients:\n",
    "            print(\"Вы не ввели ингредиенты. Попробуйте снова.\")\n",
    "            continue\n",
    "        \n",
    "        # Выбор стиля\n",
    "        chosen_style = choose_style(style_instructions)\n",
    "        style_name = chosen_style[\"name\"]\n",
    "        \n",
    "        # Базовый запрос\n",
    "        ingredients_str = \", \".join(ingredients)\n",
    "        user_prompt = f\"\"\"\n",
    "        Найди рецепты коктейлей по ингредиентам: {ingredients_str}\n",
    "        Учти соответствие с системным промтом и стилистикой ответа.\n",
    "        \"\"\"\n",
    "        \n",
    "        # Вызов RetrievalQA с передачей стиля\n",
    "        response = retrieval_qa.invoke({\n",
    "            \"style\": style_name,\n",
    "            \"query\": user_prompt\n",
    "        })\n",
    "        \n",
    "        original_response = response[\"result\"]\n",
    "        \n",
    "        # Применение стиля\n",
    "        styled_response = apply_style(original_response, style_name)\n",
    "        \n",
    "        # Постобработка\n",
    "        styled_response = styled_response.strip()\n",
    "        print(styled_response)\n",
    "        break\n",
    "    \n",
    "    return styled_response\n",
    "\n",
    "if __name__ == \"__main__\":\n",
    "    # Сохраняем результат в переменную\n",
    "    recipe = main()"
   ]
  },
  {
   "cell_type": "code",
   "execution_count": 90,
   "metadata": {},
   "outputs": [
    {
     "name": "stdout",
     "output_type": "stream",
     "text": [
      "1. Грейпфрутовый Old Fashioned\n",
      "     Способ приготовления: Залить стакан полностью грейпфрутовым соком. Добавить ржаный виски на высоту 3/4 стакана. Мешать необходимо, но не слишком сильно.\n",
      "     Пропорции: 1 часть грейпфрутового сока, 3/4 частей ржаного виски.\n",
      "\n",
      "  2. Грейпфрутовый Old Fashioned (вариация)\n",
      "     Способ приготовления: Залить стакан полностью грейпфрутовым соком. Добавить ржаный виски на высоту 1/2 стакана. Мешать необходимо, но не слишком сильно.\n",
      "     Пропорции: 1 часть грейпфрутового сока, 1/2 частей ржаного виски.\n"
     ]
    }
   ],
   "source": [
    "def main():\n",
    "    # Определение стилей\n",
    "    styles = {\n",
    "        \"1\": \"стиль космического ужаса и хтонического мрака Говарда Ф. Лавкрафта\",\n",
    "        \"2\": \"гопническо-быдляцкий жаргон\",\n",
    "        \"3\": \"экспериментальный стиль нарезок Уильяма Берроуза\",\n",
    "        \"4\": \"стиль без изменений\"  # Стиль по умолчанию\n",
    "    }\n",
    "    \n",
    "    while True:\n",
    "        ingredients = get_user_input()\n",
    "        if not ingredients:\n",
    "            print(\"Вы не ввели ингредиенты. Попробуйте снова.\")\n",
    "            continue\n",
    "        \n",
    "        # Преобразуем массив ингредиентов в строку\n",
    "        ingredients_str = \", \".join(ingredients)\n",
    "        \n",
    "        # Формируем текстовый запрос\n",
    "        user_prompt = (\n",
    "            \"\"\"Напиши, какие коктейли можно изготовить из представленных ниже ингредиентов. \n",
    "            Для каждого коктейля опиши подробный способ приготовления и укажи пропорции. \n",
    "            Отвечай строго на русском языке, используя чёткий и лаконичный формат. \n",
    "            Не добавляй лишнюю информацию, которая не относится к рецепту. \n",
    "            Ингредиенты: {ingredients}\"\"\".format(ingredients=ingredients_str)\n",
    "        )\n",
    "        response = retrieval_qa.invoke({\"query\": user_prompt})  \n",
    "        \n",
    "        # Получаем ответ без вывода его на экран\n",
    "        original_response = response[\"result\"]\n",
    "        # Выбор стиля\n",
    "        style = choose_style(styles)\n",
    "        prompt = PromptTemplate(input_variables=['output_text', 'style'],\n",
    "                                template='''Добро пожаловать в поиск коктейлей!\\nПерепиши этот текст в заданном стиле: {output_text}\\nСтиль: {style}.\\nРезультат:\\n''')\n",
    "        \n",
    "        # Генерация текста с использованием оригинального ответа и выбранного стиля\n",
    "        styled_prompt = prompt.format(output_text=original_response, style=style)\n",
    "        \n",
    "        # Применение выбранного стиля к оригинальному ответу\n",
    "        styled_response = llm.invoke(styled_prompt)#.content\n",
    "        print(styled_response)\n",
    "        break\n",
    "    \n",
    "    return styled_response\n",
    "\n",
    "if __name__ == \"__main__\":\n",
    "    # Сохраняем результат в переменную\n",
    "    recipe = main()"
   ]
  },
  {
   "cell_type": "markdown",
   "metadata": {},
   "source": [
    "# Реюинион"
   ]
  },
  {
   "cell_type": "code",
   "execution_count": 1,
   "metadata": {},
   "outputs": [],
   "source": [
    "from langchain.text_splitter import TextSplitter\n",
    "from typing import List\n",
    "    \n",
    "class RecipeSplitter(TextSplitter):\n",
    "    def __init__(self):\n",
    "        super().__init__(chunk_size=1000, chunk_overlap=0)\n",
    "    \n",
    "    def split_text(self, text: str) -> List[str]:\n",
    "        # Убираем все пустые строки и лишние пробелы\n",
    "        cleaned_text = \"\\n\".join([line.strip() for line in text.split(\"\\n\") if line.strip()])\n",
    "        \n",
    "        # Разделяем текст на рецепты по маркеру \"НАЗВАНИЕ_РЕЦЕПТА\\nАВТОР\"\n",
    "        chunks = []\n",
    "        current_chunk = []\n",
    "        lines = cleaned_text.split(\"\\n\")\n",
    "        \n",
    "        i = 0\n",
    "        while i < len(lines):\n",
    "            line = lines[i]\n",
    "            # Проверяем начало нового рецепта\n",
    "            if i + 1 < len(lines) and lines[i+1].isupper() and \"(\" in lines[i+1] and \")\" in lines[i+1]:\n",
    "                if current_chunk:\n",
    "                    chunks.append(\"\\n\".join(current_chunk))\n",
    "                    current_chunk = []\n",
    "                current_chunk.append(line)\n",
    "                current_chunk.append(lines[i+1])\n",
    "                i += 2\n",
    "                continue\n",
    "            \n",
    "            current_chunk.append(line)\n",
    "            i += 1\n",
    "        \n",
    "        if current_chunk:\n",
    "            chunks.append(\"\\n\".join(current_chunk))\n",
    "        \n",
    "        return chunks"
   ]
  },
  {
   "cell_type": "code",
   "execution_count": null,
   "metadata": {},
   "outputs": [],
   "source": [
    "# Пример текста\n",
    "text = \"\"\"\n",
    "Рожь и предубеждение\n",
    "ГОРДОСТЬ И ПРЕДУБЕЖДЕНИЕ (1813)\n",
    "ДЖЕЙН ОСТИН\n",
    "Роман благородных нравов XIX века подарил Джейн Остин шанс еще при жизни (хоть и недолгой – всего 41 год) вкусить свои пять минут славы. «Гордость и предубеждение» повествует о попытках семейства Беннет выдать замуж своих дочерей. От лица одной из пяти девиц и ведется рассказ. Увы, Элизабет – в одной из экранизаций блеснувшая выразительными скулами Киры Найтли – та еще язва, и ее жажда припечатать всех и каждого чуть ли не затмевает ее трепетное чувство к мистеру Дарси, джентльмену с завидным самомнением (зато ну очень богатому!). Впрочем, все кончается восхитительной двойной свадьбой. Вот и мы сосватаем две сильные натуры – терпкую пряность ржи и жизнеутверждающую горечь грейпфрута – и на славу погуляем на нашем импровизированном торжестве:\n",
    "\n",
    "\n",
    "90 мл грейпфрутового сока;\n",
    "\n",
    "50 мл ржаного виски.\n",
    "\n",
    "\n",
    "Ингредиенты выливаем в стакан рокс поверх кубиков льда, размешиваем в ритме «сердце вскачь». Хотим подчеркнуть, юные леди, мы нисколечко не предубеждены против замужества, а лишь призываем вас уяснить главное: чтобы почувствовать себя королевой, не нужно и дворца (как, впрочем, и короля).\n",
    "\n",
    "\n",
    "Кофейный ликер без меры\n",
    "ЛЮБОВЬ ВО ВРЕМЯ ХОЛЕРЫ (1985)\n",
    "ГАБРИЭЛЬ ГАРСИА МАРКЕС\n",
    "Зачем вы, девочки, докторов заграничных любите? Отдашь такому сердце – и полвека промаешься, прежде чем найти то самое, что доктор прописал. Вот она какая, романтика по Маркесу: юноша и девушка загорелись друг к другу пылкой страстью, но девица возьми да выбери себе в мужья доктора – а возлюбленному от ворот поворот дала, крути, мол, в отместку с кем хочешь. Но над истинной страстью время не властно! И однажды, «пятьдесят один год, девять месяцев и четыре дня спустя» (надо же было высчитать!), после кончины Супруга-Номер-Один, те двое воссоединяются. Жемчужина колумбийской литературы, роман Гарсиа Маркеса заслуживает нашего салюта – сладкого, как истинная любовь, и пряного, как неувядающая страсть:\n",
    "\n",
    "\n",
    "30 мл светлого рома;\n",
    "\n",
    "15 мл кофейного ликера (например, «Калуа»);\n",
    "\n",
    "60 мл нежирных сливок;\n",
    "\n",
    "щепотка молотой корицы или мускатного ореха.\n",
    "\n",
    "\n",
    "В стакан рокс укладываем лед и поливаем его ромом и кофейным ликером. Добавляем сливки и приправу по вкусу. А теперь опрокидываем нашу гремучую смесь во славу истинной страсти – даже если заморского врача вы видели только в телевизоре.\n",
    "\"\"\"\n",
    "\n",
    "# Инициализация сплиттера\n",
    "splitter = RecipeSplitter()\n",
    "\n",
    "# Разбиение текста на чанки\n",
    "chunks = splitter.split_text(text)\n",
    "for i, chunk in enumerate(chunks, 1):\n",
    "    print(f\"Чанк {i}:\\n{chunk}\\n{'-' * 40}\")"
   ]
  },
  {
   "cell_type": "code",
   "execution_count": 13,
   "metadata": {},
   "outputs": [],
   "source": [
    "from langchain_community.vectorstores import FAISS\n",
    "from langchain_huggingface import HuggingFaceEmbeddings\n",
    "\n",
    "# Инициализация эмбеддингов\n",
    "hf_embeddings_model = HuggingFaceEmbeddings(\n",
    "    model_name=\"sentence-transformers/paraphrase-multilingual-mpnet-base-v2\", #\"cointegrated/LaBSE-en-ru\",\n",
    "    model_kwargs={\"device\": \"cpu\"}\n",
    ")\n",
    "\n",
    "from langchain_core.documents import Document\n",
    "\n",
    "# Преобразование строк в объекты Document\n",
    "documents = [Document(page_content=chunk) for chunk in chunks]\n",
    "\n",
    "# Создание векторного хранилища\n",
    "try:\n",
    "    db_embed = FAISS.from_documents(\n",
    "        documents, \n",
    "        hf_embeddings_model\n",
    "    )\n",
    "except Exception as e:\n",
    "    raise RuntimeError(f\"Ошибка при создании базы данных FAISS: {e}\")\n",
    "\n",
    "# Сохранение векторной базы локально\n",
    "db_embed.save_local(\"../data/faiss_db_epub_mistral\")\n",
    "\n",
    "query = \"ржаной виски, грейпфрутовый сок\"\n",
    "results = db_embed.similarity_search(query, k=1)  # Ищем 1 наиболее релевантный чанк\n",
    "for result in results:\n",
    "    print(result.page_content)"
   ]
  }
 ],
 "metadata": {
  "kernelspec": {
   "display_name": ".venv",
   "language": "python",
   "name": "python3"
  },
  "language_info": {
   "codemirror_mode": {
    "name": "ipython",
    "version": 3
   },
   "file_extension": ".py",
   "mimetype": "text/x-python",
   "name": "python",
   "nbconvert_exporter": "python",
   "pygments_lexer": "ipython3",
   "version": "3.12.3"
  }
 },
 "nbformat": 4,
 "nbformat_minor": 4
}
