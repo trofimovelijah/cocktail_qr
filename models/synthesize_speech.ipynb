{
 "cells": [
  {
   "cell_type": "code",
   "execution_count": 1,
   "metadata": {},
   "outputs": [],
   "source": [
    "!pip install silero torch torchaudio omegaconf -q"
   ]
  },
  {
   "cell_type": "code",
   "execution_count": 3,
   "metadata": {},
   "outputs": [],
   "source": [
    "# =============================================================================\n",
    "# ### Исправленный код с корректными именами спикеров ###\n",
    "# =============================================================================\n",
    "import torch\n",
    "import torchaudio\n",
    "\n",
    "# =============================================================================\n",
    "# ### Актуальные параметры Silero TTS (2023.12) ###\n",
    "# =============================================================================\n",
    "# Доступные голоса (speaker) для русского языка:\n",
    "# - 'aidar'       (мужской, 16kHz)\n",
    "# - 'baya'        (женский, 16kHz)\n",
    "# - 'kseniya'     (женский, 16kHz)\n",
    "# - 'xenia'     (женский, 16kHz)\n",
    "# - 'eugene'      (мужской, 16kHz)\n",
    "# - 'random'       (женский, 16kHz)\n",
    "#\n",
    "# Доступные эмоции (emotion):\n",
    "# - 'neutral'  - нейтральный\n",
    "# - 'happy'    - радостный\n",
    "# - 'sad'      - грустный\n",
    "# - 'angry'    - злой\n",
    "\n"
   ]
  },
  {
   "cell_type": "code",
   "execution_count": 15,
   "metadata": {},
   "outputs": [],
   "source": [
    "# =============================================================================\n",
    "# ### Исправленный код с корректным распаковыванием значений ###\n",
    "# =============================================================================\n",
    "import os\n",
    "import random\n",
    "import torch\n",
    "import torchaudio\n",
    "\n",
    "def synthesize_speech(text, style):\n",
    "    \"\"\"\n",
    "    Генерация речи с эмоциями и выбором голоса в зависимости от стиля.\n",
    "    Актуально для версии Silero TTS 2024.07\n",
    "    \"\"\"\n",
    "    style_config = {\n",
    "        \"1\": {\"speaker\": \"aidar\", \"emotion\": \"sad\"},     # Космический ужас\n",
    "        \"2\": {\"speaker\": \"eugene\", \"emotion\": \"angry\"},    # Гопнический стиль\n",
    "        \"3\": {\"speaker\": \"baya\", \"emotion\": \"surprise\"},   # Экспериментальный\n",
    "        \"4\": {\"speaker\": \"kseniya\", \"emotion\": \"neutral\"}  # По умолчанию\n",
    "    }\n",
    "\n",
    "    try:\n",
    "        # Загрузка модели (возвращает только модель и пример текста)\n",
    "        model, example_text = torch.hub.load(\n",
    "            repo_or_dir='snakers4/silero-models',\n",
    "            model='silero_tts',\n",
    "            language='ru',\n",
    "            speaker='v4_ru'  # Общая модель для русского языка\n",
    "        )\n",
    "\n",
    "        # Явное указание sample_rate для русских моделей\n",
    "        sample_rate = 48000 #if \"_16khz\" in style_config[style][\"speaker\"] else 24000\n",
    "\n",
    "        # Генерация аудио с обновленным API\n",
    "        audio = model.apply_tts(\n",
    "            text=text,  # Текст должен быть передан как список\n",
    "            speaker=style_config[style][\"speaker\"],\n",
    "            sample_rate=sample_rate\n",
    "        )\n",
    "\n",
    "        # Указание директории для аудиофайлов\n",
    "        output_dir = '../audio'\n",
    "        #os.makedirs(output_dir, exist_ok=True) #создание директории на случай, если она отсутствует\n",
    "\n",
    "        # Генерация уникального имени файла (два варианта)\n",
    "        # Вариант 1: Инкрементальное имя\n",
    "        index = 1\n",
    "        while os.path.exists(os.path.join(output_dir, f'output_{index}.wav')):\n",
    "            index += 1\n",
    "        output_file_increment = os.path.join(output_dir, f'output_{index}.wav')\n",
    "\n",
    "        # Вариант 2: Случайное имя\n",
    "        random_number = random.randint(1, 9999)\n",
    "        output_file_random = os.path.join(output_dir, f'output_{random_number}.wav')\n",
    "\n",
    "        # Выбор подхода: используем инкрементальный вариант для примера\n",
    "        output_file = output_file_random\n",
    "\n",
    "        # Сохранение аудио\n",
    "        torchaudio.save(\n",
    "            output_file,\n",
    "            audio.unsqueeze(0),\n",
    "            sample_rate\n",
    "        )\n",
    "        print(f\"Успешно! Спикер: {output_file}, частота: {sample_rate} Гц\")\n",
    "\n",
    "    except Exception as e:\n",
    "        print(f\"Ошибка: {e}\")\n",
    "        print(\"Проверьте: 1) Имена спикеров 2) Версию PyTorch 3) Интернет-соединение\")\n",
    "\n"
   ]
  },
  {
   "cell_type": "code",
   "execution_count": 16,
   "metadata": {},
   "outputs": [
    {
     "name": "stderr",
     "output_type": "stream",
     "text": [
      "Using cache found in /home/elijah/.cache/torch/hub/snakers4_silero-models_master\n"
     ]
    },
    {
     "name": "stdout",
     "output_type": "stream",
     "text": [
      "Успешно! Спикер: ../audio/output_8217.wav, частота: 48000 Гц\n"
     ]
    }
   ],
   "source": [
    "# =============================================================================\n",
    "# ### Пример использования ###\n",
    "# =============================================================================\n",
    "\n",
    "recipe = \"\"\"Из представленных ингредиентов можно приготовить коктейль \"Привет от Дориана Грей Гуса\".\n",
    "\n",
    "Ингредиенты:\n",
    "- 15 мл ежевичного ликера;\n",
    "- 15 мл персикового шнапса;\n",
    "- 15 мл светлого рома;\n",
    "- 15 мл лимонного сока.\n",
    "\n",
    "Приготовление:\n",
    "1. Соединить все ингредиенты в шейкере.\n",
    "2. Добавить лед.\n",
    "3. Хорошо взбалтывать.\n",
    "4. Процедить в шот.\n",
    "\n",
    "Приятного аппетита!\"\"\" # Ваш текст здесь\n",
    "\n",
    "speaker = []\n",
    "# Ввод с валидацией\n",
    "while True:\n",
    "    choice = input(\"Выберите стиль (1-4): \")\n",
    "    if choice in {\"1\", \"2\", \"3\", \"4\"}:\n",
    "        break\n",
    "    print(\"Ошибка: допустимые значения 1-4\")\n",
    "\n",
    "synthesize_speech(recipe, choice)"
   ]
  }
 ],
 "metadata": {
  "kernelspec": {
   "display_name": ".venv",
   "language": "python",
   "name": "python3"
  },
  "language_info": {
   "codemirror_mode": {
    "name": "ipython",
    "version": 3
   },
   "file_extension": ".py",
   "mimetype": "text/x-python",
   "name": "python",
   "nbconvert_exporter": "python",
   "pygments_lexer": "ipython3",
   "version": "3.12.3"
  }
 },
 "nbformat": 4,
 "nbformat_minor": 2
}
