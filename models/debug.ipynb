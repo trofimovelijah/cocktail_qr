{
 "cells": [
  {
   "cell_type": "markdown",
   "metadata": {},
   "source": [
    "## Импорт и определение библиотек"
   ]
  },
  {
   "cell_type": "code",
   "execution_count": 1,
   "metadata": {},
   "outputs": [],
   "source": [
    "!pip install langchain langchain_experimental langchain-openai openai tiktoken huggingface_hub langchain-huggingface -q"
   ]
  },
  {
   "cell_type": "code",
   "execution_count": 2,
   "metadata": {},
   "outputs": [],
   "source": [
    "import os\n",
    "from getpass import getpass\n",
    "import warnings\n",
    "warnings.filterwarnings('ignore')\n",
    "from langchain.prompts import PromptTemplate\n",
    "from langchain.chains import LLMChain"
   ]
  },
  {
   "cell_type": "code",
   "execution_count": 4,
   "metadata": {},
   "outputs": [],
   "source": [
    "# для использования ключа из LLM_bot\n",
    "!wget https://raw.githubusercontent.com/a-milenkin/LLM_practical_course/main/notebooks/utils.py -q"
   ]
  },
  {
   "cell_type": "markdown",
   "metadata": {},
   "source": [
    "## Выбор модели"
   ]
  },
  {
   "cell_type": "code",
   "execution_count": 5,
   "metadata": {},
   "outputs": [],
   "source": [
    "# Если используете ключ из курса по LLM, запустите эту ячейку\n",
    "from utils import ChatOpenAI\n",
    "\n",
    "# Считываем ключ из файла\n",
    "with open('../utils.key', 'r') as file:\n",
    "    for line in file:\n",
    "        if line.startswith('OPENAI_API_KEY'):\n",
    "            # Извлекаем ключ, убирая лишние пробелы и символы\n",
    "            course_api_key = line.split('=')[1].strip()\n",
    "            break\n",
    "\n",
    "#print(course_api_key)\n",
    "# инициализируем языковую модель\n",
    "llm = ChatOpenAI(temperature=0.0, course_api_key=course_api_key)"
   ]
  },
  {
   "cell_type": "code",
   "execution_count": 32,
   "metadata": {},
   "outputs": [],
   "source": [
    "\"\"\"## Если не хотите платить денежков, то запустите эту ячейку\n",
    "from langchain.chains import LLMChain\n",
    "from langchain_huggingface import HuggingFaceEndpoint\n",
    "from langchain.embeddings import HuggingFaceEmbeddings\n",
    "\n",
    "# Считываем ключ из файла\n",
    "with open('../utils.key', 'r') as file:\n",
    "    for line in file:\n",
    "        if line.startswith('HUGGINGFACEHUB_API_TOKEN'):\n",
    "            # Извлекаем ключ, убирая лишние пробелы и символы\n",
    "            course_api_key = line.split('=')[1].strip()\n",
    "            break\n",
    "\n",
    "# Создаем объект языкового модели\n",
    "llm = HuggingFaceEndpoint(\n",
    "      #repo_id=\"IlyaGusev/saiga_llama3_8b\",\n",
    "      repo_id=\"mistralai/Mistral-7B-Instruct-v0.3\",\n",
    "      task=\"text-generation\",  # Вид задачи, в нашем случае - генерация текста\n",
    "      huggingfacehub_api_token = course_api_key\n",
    "    )\"\"\""
   ]
  },
  {
   "cell_type": "markdown",
   "metadata": {},
   "source": [
    "## Задаём общие параметры"
   ]
  },
  {
   "cell_type": "code",
   "execution_count": 33,
   "metadata": {},
   "outputs": [],
   "source": [
    "# Запрашиваем у пользователя ввод ингредиентов\n",
    "user_input = input(\"Введите ингредиенты, разделенные запятыми: \")\n",
    "\n",
    "# Преобразуем введенную строку в список, удаляя лишние пробелы\n",
    "ingredients = [ingredient.strip() for ingredient in user_input.split(\",\")]\n",
    "\n",
    "# Форматируем строку с использованием join для соединения элементов массива\n",
    "ingredients_str = \", \".join(ingredients)\n",
    "\n",
    "# Список категорий IBA\n",
    "iba_categories = [\n",
    "    \"незабываемые\", \n",
    "    \"новая классика\", \n",
    "    \"напитки новой эры\", \n",
    "    \"не вошедшие\"\n",
    "                  ]\n",
    "\n",
    "# Просим пользователя выбрать категорию или оставить пустым для поиска по всем\n",
    "#    \"\"\"Выберите категорию IBA (введите число):\n",
    "#        1 - Незабываемые\n",
    "#        2 - Новая классика\n",
    "#        3 - Напитки новой эры\n",
    "#        4 - Не вошедшие\"\"\"\n",
    "category_input = input(\"Выберите категорию IBA (или оставьте пустым для всех категорий): \")\n",
    "\n",
    "# Приводим выбор к категории\n",
    "try:\n",
    "    iba_category = iba_categories[int(category_input) - 1] if category_input.isdigit() and 1 <= int(category_input) <= 4 else None\n",
    "except ValueError:\n",
    "    iba_category = None  # Если ничего не выбрано, ищем по всем категориям\n",
    "\n",
    "# Задаем системный промт\n",
    "system_prompt = \"Ты опытный бармен, специализирующийся на алкогольных коктейлях.\"\n",
    "\n",
    "# Задаем промт пользователя с учётом категории\n",
    "if iba_category:\n",
    "    user_prompt = (f\"Напиши, какие коктейли из категории '{iba_category}' можно изготовить из представленных ниже ингредиентов. Описание не должно содержать обобщающих слов и фраз. \"\n",
    "                   f\"Для каждого из представленных тобой коктейлей после перечиления ингредиентов опиши подробный способ приготовления. \"\n",
    "                   f\"Также укажи, как ещё составляющие входят в коктейли и в какой пропорции изготавливаются. \"\n",
    "                   f\"Дополнительно укажи, какие ингредиенты нужно добавить, чтобы получились другие коктейли. \"\n",
    "                   f\"\\nИнгредиенты: {ingredients_str}\")\n",
    "else:\n",
    "    user_prompt = (f\"Напиши, какие коктейли из всех категорий IBA можно изготовить из представленных ниже ингредиентов. Описание не должно содержать обобщающих слов и фраз. \"\n",
    "                   f\"Для каждого из представленных тобой коктейлей после перечиления ингредиентов опиши подробный способ приготовления. \"\n",
    "                   f\"Также укажи, как ещё составляющие входят в коктейли и в какой пропорции изготавливаются. \"\n",
    "                   f\"Дополнительно укажи, какие ингредиенты нужно добавить, чтобы получились другие коктейли. \"\n",
    "                   f\"\\nИнгредиенты: {ingredients_str}\")\n",
    "\n",
    "\n",
    "# Выводим сформированный промт\n",
    "#print(user_prompt)"
   ]
  },
  {
   "cell_type": "markdown",
   "metadata": {},
   "source": [
    "# Миксуем рецепт"
   ]
  },
  {
   "cell_type": "code",
   "execution_count": 8,
   "metadata": {},
   "outputs": [
    {
     "ename": "TypeError",
     "evalue": "embedding(): argument 'indices' (position 2) must be Tensor, not list",
     "output_type": "error",
     "traceback": [
      "\u001b[0;31m---------------------------------------------------------------------------\u001b[0m",
      "\u001b[0;31mTypeError\u001b[0m                                 Traceback (most recent call last)",
      "Cell \u001b[0;32mIn[8], line 6\u001b[0m\n\u001b[1;32m      1\u001b[0m messages \u001b[38;5;241m=\u001b[39m [\n\u001b[1;32m      2\u001b[0m         {\u001b[38;5;124m\"\u001b[39m\u001b[38;5;124mrole\u001b[39m\u001b[38;5;124m\"\u001b[39m: \u001b[38;5;124m\"\u001b[39m\u001b[38;5;124msystem\u001b[39m\u001b[38;5;124m\"\u001b[39m, \u001b[38;5;124m\"\u001b[39m\u001b[38;5;124mcontent\u001b[39m\u001b[38;5;124m\"\u001b[39m: system_prompt},\n\u001b[1;32m      3\u001b[0m         {\u001b[38;5;124m\"\u001b[39m\u001b[38;5;124mrole\u001b[39m\u001b[38;5;124m\"\u001b[39m: \u001b[38;5;124m\"\u001b[39m\u001b[38;5;124muser\u001b[39m\u001b[38;5;124m\"\u001b[39m, \u001b[38;5;124m\"\u001b[39m\u001b[38;5;124mcontent\u001b[39m\u001b[38;5;124m\"\u001b[39m: user_prompt}\n\u001b[1;32m      4\u001b[0m     ]\n\u001b[1;32m      5\u001b[0m \u001b[38;5;66;03m# Получаем ответ от модели\u001b[39;00m\n\u001b[0;32m----> 6\u001b[0m response \u001b[38;5;241m=\u001b[39m \u001b[43mmodel\u001b[49m\u001b[43m(\u001b[49m\u001b[43mmessages\u001b[49m\u001b[43m)\u001b[49m\u001b[38;5;241m.\u001b[39mcontent\n\u001b[1;32m      8\u001b[0m \u001b[38;5;66;03m# Выводим ответ\u001b[39;00m\n\u001b[1;32m      9\u001b[0m \u001b[38;5;28mprint\u001b[39m(\u001b[38;5;124m\"\u001b[39m\u001b[38;5;124mРецепт коктейлей:\u001b[39m\u001b[38;5;130;01m\\n\u001b[39;00m\u001b[38;5;124m\"\u001b[39m)\n",
      "File \u001b[0;32m~/Documents/LLM/cocktail_qr/.venv/lib/python3.12/site-packages/torch/nn/modules/module.py:1736\u001b[0m, in \u001b[0;36mModule._wrapped_call_impl\u001b[0;34m(self, *args, **kwargs)\u001b[0m\n\u001b[1;32m   1734\u001b[0m     \u001b[38;5;28;01mreturn\u001b[39;00m \u001b[38;5;28mself\u001b[39m\u001b[38;5;241m.\u001b[39m_compiled_call_impl(\u001b[38;5;241m*\u001b[39margs, \u001b[38;5;241m*\u001b[39m\u001b[38;5;241m*\u001b[39mkwargs)  \u001b[38;5;66;03m# type: ignore[misc]\u001b[39;00m\n\u001b[1;32m   1735\u001b[0m \u001b[38;5;28;01melse\u001b[39;00m:\n\u001b[0;32m-> 1736\u001b[0m     \u001b[38;5;28;01mreturn\u001b[39;00m \u001b[38;5;28;43mself\u001b[39;49m\u001b[38;5;241;43m.\u001b[39;49m\u001b[43m_call_impl\u001b[49m\u001b[43m(\u001b[49m\u001b[38;5;241;43m*\u001b[39;49m\u001b[43margs\u001b[49m\u001b[43m,\u001b[49m\u001b[43m \u001b[49m\u001b[38;5;241;43m*\u001b[39;49m\u001b[38;5;241;43m*\u001b[39;49m\u001b[43mkwargs\u001b[49m\u001b[43m)\u001b[49m\n",
      "File \u001b[0;32m~/Documents/LLM/cocktail_qr/.venv/lib/python3.12/site-packages/torch/nn/modules/module.py:1747\u001b[0m, in \u001b[0;36mModule._call_impl\u001b[0;34m(self, *args, **kwargs)\u001b[0m\n\u001b[1;32m   1742\u001b[0m \u001b[38;5;66;03m# If we don't have any hooks, we want to skip the rest of the logic in\u001b[39;00m\n\u001b[1;32m   1743\u001b[0m \u001b[38;5;66;03m# this function, and just call forward.\u001b[39;00m\n\u001b[1;32m   1744\u001b[0m \u001b[38;5;28;01mif\u001b[39;00m \u001b[38;5;129;01mnot\u001b[39;00m (\u001b[38;5;28mself\u001b[39m\u001b[38;5;241m.\u001b[39m_backward_hooks \u001b[38;5;129;01mor\u001b[39;00m \u001b[38;5;28mself\u001b[39m\u001b[38;5;241m.\u001b[39m_backward_pre_hooks \u001b[38;5;129;01mor\u001b[39;00m \u001b[38;5;28mself\u001b[39m\u001b[38;5;241m.\u001b[39m_forward_hooks \u001b[38;5;129;01mor\u001b[39;00m \u001b[38;5;28mself\u001b[39m\u001b[38;5;241m.\u001b[39m_forward_pre_hooks\n\u001b[1;32m   1745\u001b[0m         \u001b[38;5;129;01mor\u001b[39;00m _global_backward_pre_hooks \u001b[38;5;129;01mor\u001b[39;00m _global_backward_hooks\n\u001b[1;32m   1746\u001b[0m         \u001b[38;5;129;01mor\u001b[39;00m _global_forward_hooks \u001b[38;5;129;01mor\u001b[39;00m _global_forward_pre_hooks):\n\u001b[0;32m-> 1747\u001b[0m     \u001b[38;5;28;01mreturn\u001b[39;00m \u001b[43mforward_call\u001b[49m\u001b[43m(\u001b[49m\u001b[38;5;241;43m*\u001b[39;49m\u001b[43margs\u001b[49m\u001b[43m,\u001b[49m\u001b[43m \u001b[49m\u001b[38;5;241;43m*\u001b[39;49m\u001b[38;5;241;43m*\u001b[39;49m\u001b[43mkwargs\u001b[49m\u001b[43m)\u001b[49m\n\u001b[1;32m   1749\u001b[0m result \u001b[38;5;241m=\u001b[39m \u001b[38;5;28;01mNone\u001b[39;00m\n\u001b[1;32m   1750\u001b[0m called_always_called_hooks \u001b[38;5;241m=\u001b[39m \u001b[38;5;28mset\u001b[39m()\n",
      "File \u001b[0;32m~/Documents/LLM/cocktail_qr/.venv/lib/python3.12/site-packages/accelerate/hooks.py:170\u001b[0m, in \u001b[0;36madd_hook_to_module.<locals>.new_forward\u001b[0;34m(module, *args, **kwargs)\u001b[0m\n\u001b[1;32m    168\u001b[0m         output \u001b[38;5;241m=\u001b[39m module\u001b[38;5;241m.\u001b[39m_old_forward(\u001b[38;5;241m*\u001b[39margs, \u001b[38;5;241m*\u001b[39m\u001b[38;5;241m*\u001b[39mkwargs)\n\u001b[1;32m    169\u001b[0m \u001b[38;5;28;01melse\u001b[39;00m:\n\u001b[0;32m--> 170\u001b[0m     output \u001b[38;5;241m=\u001b[39m \u001b[43mmodule\u001b[49m\u001b[38;5;241;43m.\u001b[39;49m\u001b[43m_old_forward\u001b[49m\u001b[43m(\u001b[49m\u001b[38;5;241;43m*\u001b[39;49m\u001b[43margs\u001b[49m\u001b[43m,\u001b[49m\u001b[43m \u001b[49m\u001b[38;5;241;43m*\u001b[39;49m\u001b[38;5;241;43m*\u001b[39;49m\u001b[43mkwargs\u001b[49m\u001b[43m)\u001b[49m\n\u001b[1;32m    171\u001b[0m \u001b[38;5;28;01mreturn\u001b[39;00m module\u001b[38;5;241m.\u001b[39m_hf_hook\u001b[38;5;241m.\u001b[39mpost_forward(module, output)\n",
      "File \u001b[0;32m~/Documents/LLM/cocktail_qr/.venv/lib/python3.12/site-packages/transformers/models/llama/modeling_llama.py:1163\u001b[0m, in \u001b[0;36mLlamaForCausalLM.forward\u001b[0;34m(self, input_ids, attention_mask, position_ids, past_key_values, inputs_embeds, labels, use_cache, output_attentions, output_hidden_states, return_dict, cache_position, num_logits_to_keep, **kwargs)\u001b[0m\n\u001b[1;32m   1160\u001b[0m return_dict \u001b[38;5;241m=\u001b[39m return_dict \u001b[38;5;28;01mif\u001b[39;00m return_dict \u001b[38;5;129;01mis\u001b[39;00m \u001b[38;5;129;01mnot\u001b[39;00m \u001b[38;5;28;01mNone\u001b[39;00m \u001b[38;5;28;01melse\u001b[39;00m \u001b[38;5;28mself\u001b[39m\u001b[38;5;241m.\u001b[39mconfig\u001b[38;5;241m.\u001b[39muse_return_dict\n\u001b[1;32m   1162\u001b[0m \u001b[38;5;66;03m# decoder outputs consists of (dec_features, layer_state, dec_hidden, dec_attn)\u001b[39;00m\n\u001b[0;32m-> 1163\u001b[0m outputs \u001b[38;5;241m=\u001b[39m \u001b[38;5;28;43mself\u001b[39;49m\u001b[38;5;241;43m.\u001b[39;49m\u001b[43mmodel\u001b[49m\u001b[43m(\u001b[49m\n\u001b[1;32m   1164\u001b[0m \u001b[43m    \u001b[49m\u001b[43minput_ids\u001b[49m\u001b[38;5;241;43m=\u001b[39;49m\u001b[43minput_ids\u001b[49m\u001b[43m,\u001b[49m\n\u001b[1;32m   1165\u001b[0m \u001b[43m    \u001b[49m\u001b[43mattention_mask\u001b[49m\u001b[38;5;241;43m=\u001b[39;49m\u001b[43mattention_mask\u001b[49m\u001b[43m,\u001b[49m\n\u001b[1;32m   1166\u001b[0m \u001b[43m    \u001b[49m\u001b[43mposition_ids\u001b[49m\u001b[38;5;241;43m=\u001b[39;49m\u001b[43mposition_ids\u001b[49m\u001b[43m,\u001b[49m\n\u001b[1;32m   1167\u001b[0m \u001b[43m    \u001b[49m\u001b[43mpast_key_values\u001b[49m\u001b[38;5;241;43m=\u001b[39;49m\u001b[43mpast_key_values\u001b[49m\u001b[43m,\u001b[49m\n\u001b[1;32m   1168\u001b[0m \u001b[43m    \u001b[49m\u001b[43minputs_embeds\u001b[49m\u001b[38;5;241;43m=\u001b[39;49m\u001b[43minputs_embeds\u001b[49m\u001b[43m,\u001b[49m\n\u001b[1;32m   1169\u001b[0m \u001b[43m    \u001b[49m\u001b[43muse_cache\u001b[49m\u001b[38;5;241;43m=\u001b[39;49m\u001b[43muse_cache\u001b[49m\u001b[43m,\u001b[49m\n\u001b[1;32m   1170\u001b[0m \u001b[43m    \u001b[49m\u001b[43moutput_attentions\u001b[49m\u001b[38;5;241;43m=\u001b[39;49m\u001b[43moutput_attentions\u001b[49m\u001b[43m,\u001b[49m\n\u001b[1;32m   1171\u001b[0m \u001b[43m    \u001b[49m\u001b[43moutput_hidden_states\u001b[49m\u001b[38;5;241;43m=\u001b[39;49m\u001b[43moutput_hidden_states\u001b[49m\u001b[43m,\u001b[49m\n\u001b[1;32m   1172\u001b[0m \u001b[43m    \u001b[49m\u001b[43mreturn_dict\u001b[49m\u001b[38;5;241;43m=\u001b[39;49m\u001b[43mreturn_dict\u001b[49m\u001b[43m,\u001b[49m\n\u001b[1;32m   1173\u001b[0m \u001b[43m    \u001b[49m\u001b[43mcache_position\u001b[49m\u001b[38;5;241;43m=\u001b[39;49m\u001b[43mcache_position\u001b[49m\u001b[43m,\u001b[49m\n\u001b[1;32m   1174\u001b[0m \u001b[43m    \u001b[49m\u001b[38;5;241;43m*\u001b[39;49m\u001b[38;5;241;43m*\u001b[39;49m\u001b[43mkwargs\u001b[49m\u001b[43m,\u001b[49m\n\u001b[1;32m   1175\u001b[0m \u001b[43m\u001b[49m\u001b[43m)\u001b[49m\n\u001b[1;32m   1177\u001b[0m hidden_states \u001b[38;5;241m=\u001b[39m outputs[\u001b[38;5;241m0\u001b[39m]\n\u001b[1;32m   1178\u001b[0m \u001b[38;5;66;03m# Only compute necessary logits, and do not upcast them to float if we are not computing the loss\u001b[39;00m\n",
      "File \u001b[0;32m~/Documents/LLM/cocktail_qr/.venv/lib/python3.12/site-packages/torch/nn/modules/module.py:1736\u001b[0m, in \u001b[0;36mModule._wrapped_call_impl\u001b[0;34m(self, *args, **kwargs)\u001b[0m\n\u001b[1;32m   1734\u001b[0m     \u001b[38;5;28;01mreturn\u001b[39;00m \u001b[38;5;28mself\u001b[39m\u001b[38;5;241m.\u001b[39m_compiled_call_impl(\u001b[38;5;241m*\u001b[39margs, \u001b[38;5;241m*\u001b[39m\u001b[38;5;241m*\u001b[39mkwargs)  \u001b[38;5;66;03m# type: ignore[misc]\u001b[39;00m\n\u001b[1;32m   1735\u001b[0m \u001b[38;5;28;01melse\u001b[39;00m:\n\u001b[0;32m-> 1736\u001b[0m     \u001b[38;5;28;01mreturn\u001b[39;00m \u001b[38;5;28;43mself\u001b[39;49m\u001b[38;5;241;43m.\u001b[39;49m\u001b[43m_call_impl\u001b[49m\u001b[43m(\u001b[49m\u001b[38;5;241;43m*\u001b[39;49m\u001b[43margs\u001b[49m\u001b[43m,\u001b[49m\u001b[43m \u001b[49m\u001b[38;5;241;43m*\u001b[39;49m\u001b[38;5;241;43m*\u001b[39;49m\u001b[43mkwargs\u001b[49m\u001b[43m)\u001b[49m\n",
      "File \u001b[0;32m~/Documents/LLM/cocktail_qr/.venv/lib/python3.12/site-packages/torch/nn/modules/module.py:1747\u001b[0m, in \u001b[0;36mModule._call_impl\u001b[0;34m(self, *args, **kwargs)\u001b[0m\n\u001b[1;32m   1742\u001b[0m \u001b[38;5;66;03m# If we don't have any hooks, we want to skip the rest of the logic in\u001b[39;00m\n\u001b[1;32m   1743\u001b[0m \u001b[38;5;66;03m# this function, and just call forward.\u001b[39;00m\n\u001b[1;32m   1744\u001b[0m \u001b[38;5;28;01mif\u001b[39;00m \u001b[38;5;129;01mnot\u001b[39;00m (\u001b[38;5;28mself\u001b[39m\u001b[38;5;241m.\u001b[39m_backward_hooks \u001b[38;5;129;01mor\u001b[39;00m \u001b[38;5;28mself\u001b[39m\u001b[38;5;241m.\u001b[39m_backward_pre_hooks \u001b[38;5;129;01mor\u001b[39;00m \u001b[38;5;28mself\u001b[39m\u001b[38;5;241m.\u001b[39m_forward_hooks \u001b[38;5;129;01mor\u001b[39;00m \u001b[38;5;28mself\u001b[39m\u001b[38;5;241m.\u001b[39m_forward_pre_hooks\n\u001b[1;32m   1745\u001b[0m         \u001b[38;5;129;01mor\u001b[39;00m _global_backward_pre_hooks \u001b[38;5;129;01mor\u001b[39;00m _global_backward_hooks\n\u001b[1;32m   1746\u001b[0m         \u001b[38;5;129;01mor\u001b[39;00m _global_forward_hooks \u001b[38;5;129;01mor\u001b[39;00m _global_forward_pre_hooks):\n\u001b[0;32m-> 1747\u001b[0m     \u001b[38;5;28;01mreturn\u001b[39;00m \u001b[43mforward_call\u001b[49m\u001b[43m(\u001b[49m\u001b[38;5;241;43m*\u001b[39;49m\u001b[43margs\u001b[49m\u001b[43m,\u001b[49m\u001b[43m \u001b[49m\u001b[38;5;241;43m*\u001b[39;49m\u001b[38;5;241;43m*\u001b[39;49m\u001b[43mkwargs\u001b[49m\u001b[43m)\u001b[49m\n\u001b[1;32m   1749\u001b[0m result \u001b[38;5;241m=\u001b[39m \u001b[38;5;28;01mNone\u001b[39;00m\n\u001b[1;32m   1750\u001b[0m called_always_called_hooks \u001b[38;5;241m=\u001b[39m \u001b[38;5;28mset\u001b[39m()\n",
      "File \u001b[0;32m~/Documents/LLM/cocktail_qr/.venv/lib/python3.12/site-packages/transformers/models/llama/modeling_llama.py:859\u001b[0m, in \u001b[0;36mLlamaModel.forward\u001b[0;34m(self, input_ids, attention_mask, position_ids, past_key_values, inputs_embeds, use_cache, output_attentions, output_hidden_states, return_dict, cache_position, **flash_attn_kwargs)\u001b[0m\n\u001b[1;32m    856\u001b[0m     use_cache \u001b[38;5;241m=\u001b[39m \u001b[38;5;28;01mFalse\u001b[39;00m\n\u001b[1;32m    858\u001b[0m \u001b[38;5;28;01mif\u001b[39;00m inputs_embeds \u001b[38;5;129;01mis\u001b[39;00m \u001b[38;5;28;01mNone\u001b[39;00m:\n\u001b[0;32m--> 859\u001b[0m     inputs_embeds \u001b[38;5;241m=\u001b[39m \u001b[38;5;28;43mself\u001b[39;49m\u001b[38;5;241;43m.\u001b[39;49m\u001b[43membed_tokens\u001b[49m\u001b[43m(\u001b[49m\u001b[43minput_ids\u001b[49m\u001b[43m)\u001b[49m\n\u001b[1;32m    861\u001b[0m \u001b[38;5;66;03m# kept for BC (non `Cache` `past_key_values` inputs)\u001b[39;00m\n\u001b[1;32m    862\u001b[0m return_legacy_cache \u001b[38;5;241m=\u001b[39m \u001b[38;5;28;01mFalse\u001b[39;00m\n",
      "File \u001b[0;32m~/Documents/LLM/cocktail_qr/.venv/lib/python3.12/site-packages/torch/nn/modules/module.py:1736\u001b[0m, in \u001b[0;36mModule._wrapped_call_impl\u001b[0;34m(self, *args, **kwargs)\u001b[0m\n\u001b[1;32m   1734\u001b[0m     \u001b[38;5;28;01mreturn\u001b[39;00m \u001b[38;5;28mself\u001b[39m\u001b[38;5;241m.\u001b[39m_compiled_call_impl(\u001b[38;5;241m*\u001b[39margs, \u001b[38;5;241m*\u001b[39m\u001b[38;5;241m*\u001b[39mkwargs)  \u001b[38;5;66;03m# type: ignore[misc]\u001b[39;00m\n\u001b[1;32m   1735\u001b[0m \u001b[38;5;28;01melse\u001b[39;00m:\n\u001b[0;32m-> 1736\u001b[0m     \u001b[38;5;28;01mreturn\u001b[39;00m \u001b[38;5;28;43mself\u001b[39;49m\u001b[38;5;241;43m.\u001b[39;49m\u001b[43m_call_impl\u001b[49m\u001b[43m(\u001b[49m\u001b[38;5;241;43m*\u001b[39;49m\u001b[43margs\u001b[49m\u001b[43m,\u001b[49m\u001b[43m \u001b[49m\u001b[38;5;241;43m*\u001b[39;49m\u001b[38;5;241;43m*\u001b[39;49m\u001b[43mkwargs\u001b[49m\u001b[43m)\u001b[49m\n",
      "File \u001b[0;32m~/Documents/LLM/cocktail_qr/.venv/lib/python3.12/site-packages/torch/nn/modules/module.py:1747\u001b[0m, in \u001b[0;36mModule._call_impl\u001b[0;34m(self, *args, **kwargs)\u001b[0m\n\u001b[1;32m   1742\u001b[0m \u001b[38;5;66;03m# If we don't have any hooks, we want to skip the rest of the logic in\u001b[39;00m\n\u001b[1;32m   1743\u001b[0m \u001b[38;5;66;03m# this function, and just call forward.\u001b[39;00m\n\u001b[1;32m   1744\u001b[0m \u001b[38;5;28;01mif\u001b[39;00m \u001b[38;5;129;01mnot\u001b[39;00m (\u001b[38;5;28mself\u001b[39m\u001b[38;5;241m.\u001b[39m_backward_hooks \u001b[38;5;129;01mor\u001b[39;00m \u001b[38;5;28mself\u001b[39m\u001b[38;5;241m.\u001b[39m_backward_pre_hooks \u001b[38;5;129;01mor\u001b[39;00m \u001b[38;5;28mself\u001b[39m\u001b[38;5;241m.\u001b[39m_forward_hooks \u001b[38;5;129;01mor\u001b[39;00m \u001b[38;5;28mself\u001b[39m\u001b[38;5;241m.\u001b[39m_forward_pre_hooks\n\u001b[1;32m   1745\u001b[0m         \u001b[38;5;129;01mor\u001b[39;00m _global_backward_pre_hooks \u001b[38;5;129;01mor\u001b[39;00m _global_backward_hooks\n\u001b[1;32m   1746\u001b[0m         \u001b[38;5;129;01mor\u001b[39;00m _global_forward_hooks \u001b[38;5;129;01mor\u001b[39;00m _global_forward_pre_hooks):\n\u001b[0;32m-> 1747\u001b[0m     \u001b[38;5;28;01mreturn\u001b[39;00m \u001b[43mforward_call\u001b[49m\u001b[43m(\u001b[49m\u001b[38;5;241;43m*\u001b[39;49m\u001b[43margs\u001b[49m\u001b[43m,\u001b[49m\u001b[43m \u001b[49m\u001b[38;5;241;43m*\u001b[39;49m\u001b[38;5;241;43m*\u001b[39;49m\u001b[43mkwargs\u001b[49m\u001b[43m)\u001b[49m\n\u001b[1;32m   1749\u001b[0m result \u001b[38;5;241m=\u001b[39m \u001b[38;5;28;01mNone\u001b[39;00m\n\u001b[1;32m   1750\u001b[0m called_always_called_hooks \u001b[38;5;241m=\u001b[39m \u001b[38;5;28mset\u001b[39m()\n",
      "File \u001b[0;32m~/Documents/LLM/cocktail_qr/.venv/lib/python3.12/site-packages/accelerate/hooks.py:170\u001b[0m, in \u001b[0;36madd_hook_to_module.<locals>.new_forward\u001b[0;34m(module, *args, **kwargs)\u001b[0m\n\u001b[1;32m    168\u001b[0m         output \u001b[38;5;241m=\u001b[39m module\u001b[38;5;241m.\u001b[39m_old_forward(\u001b[38;5;241m*\u001b[39margs, \u001b[38;5;241m*\u001b[39m\u001b[38;5;241m*\u001b[39mkwargs)\n\u001b[1;32m    169\u001b[0m \u001b[38;5;28;01melse\u001b[39;00m:\n\u001b[0;32m--> 170\u001b[0m     output \u001b[38;5;241m=\u001b[39m \u001b[43mmodule\u001b[49m\u001b[38;5;241;43m.\u001b[39;49m\u001b[43m_old_forward\u001b[49m\u001b[43m(\u001b[49m\u001b[38;5;241;43m*\u001b[39;49m\u001b[43margs\u001b[49m\u001b[43m,\u001b[49m\u001b[43m \u001b[49m\u001b[38;5;241;43m*\u001b[39;49m\u001b[38;5;241;43m*\u001b[39;49m\u001b[43mkwargs\u001b[49m\u001b[43m)\u001b[49m\n\u001b[1;32m    171\u001b[0m \u001b[38;5;28;01mreturn\u001b[39;00m module\u001b[38;5;241m.\u001b[39m_hf_hook\u001b[38;5;241m.\u001b[39mpost_forward(module, output)\n",
      "File \u001b[0;32m~/Documents/LLM/cocktail_qr/.venv/lib/python3.12/site-packages/torch/nn/modules/sparse.py:190\u001b[0m, in \u001b[0;36mEmbedding.forward\u001b[0;34m(self, input)\u001b[0m\n\u001b[1;32m    189\u001b[0m \u001b[38;5;28;01mdef\u001b[39;00m\u001b[38;5;250m \u001b[39m\u001b[38;5;21mforward\u001b[39m(\u001b[38;5;28mself\u001b[39m, \u001b[38;5;28minput\u001b[39m: Tensor) \u001b[38;5;241m-\u001b[39m\u001b[38;5;241m>\u001b[39m Tensor:\n\u001b[0;32m--> 190\u001b[0m     \u001b[38;5;28;01mreturn\u001b[39;00m \u001b[43mF\u001b[49m\u001b[38;5;241;43m.\u001b[39;49m\u001b[43membedding\u001b[49m\u001b[43m(\u001b[49m\n\u001b[1;32m    191\u001b[0m \u001b[43m        \u001b[49m\u001b[38;5;28;43minput\u001b[39;49m\u001b[43m,\u001b[49m\n\u001b[1;32m    192\u001b[0m \u001b[43m        \u001b[49m\u001b[38;5;28;43mself\u001b[39;49m\u001b[38;5;241;43m.\u001b[39;49m\u001b[43mweight\u001b[49m\u001b[43m,\u001b[49m\n\u001b[1;32m    193\u001b[0m \u001b[43m        \u001b[49m\u001b[38;5;28;43mself\u001b[39;49m\u001b[38;5;241;43m.\u001b[39;49m\u001b[43mpadding_idx\u001b[49m\u001b[43m,\u001b[49m\n\u001b[1;32m    194\u001b[0m \u001b[43m        \u001b[49m\u001b[38;5;28;43mself\u001b[39;49m\u001b[38;5;241;43m.\u001b[39;49m\u001b[43mmax_norm\u001b[49m\u001b[43m,\u001b[49m\n\u001b[1;32m    195\u001b[0m \u001b[43m        \u001b[49m\u001b[38;5;28;43mself\u001b[39;49m\u001b[38;5;241;43m.\u001b[39;49m\u001b[43mnorm_type\u001b[49m\u001b[43m,\u001b[49m\n\u001b[1;32m    196\u001b[0m \u001b[43m        \u001b[49m\u001b[38;5;28;43mself\u001b[39;49m\u001b[38;5;241;43m.\u001b[39;49m\u001b[43mscale_grad_by_freq\u001b[49m\u001b[43m,\u001b[49m\n\u001b[1;32m    197\u001b[0m \u001b[43m        \u001b[49m\u001b[38;5;28;43mself\u001b[39;49m\u001b[38;5;241;43m.\u001b[39;49m\u001b[43msparse\u001b[49m\u001b[43m,\u001b[49m\n\u001b[1;32m    198\u001b[0m \u001b[43m    \u001b[49m\u001b[43m)\u001b[49m\n",
      "File \u001b[0;32m~/Documents/LLM/cocktail_qr/.venv/lib/python3.12/site-packages/torch/nn/functional.py:2551\u001b[0m, in \u001b[0;36membedding\u001b[0;34m(input, weight, padding_idx, max_norm, norm_type, scale_grad_by_freq, sparse)\u001b[0m\n\u001b[1;32m   2545\u001b[0m     \u001b[38;5;66;03m# Note [embedding_renorm set_grad_enabled]\u001b[39;00m\n\u001b[1;32m   2546\u001b[0m     \u001b[38;5;66;03m# XXX: equivalent to\u001b[39;00m\n\u001b[1;32m   2547\u001b[0m     \u001b[38;5;66;03m# with torch.no_grad():\u001b[39;00m\n\u001b[1;32m   2548\u001b[0m     \u001b[38;5;66;03m#   torch.embedding_renorm_\u001b[39;00m\n\u001b[1;32m   2549\u001b[0m     \u001b[38;5;66;03m# remove once script supports set_grad_enabled\u001b[39;00m\n\u001b[1;32m   2550\u001b[0m     _no_grad_embedding_renorm_(weight, \u001b[38;5;28minput\u001b[39m, max_norm, norm_type)\n\u001b[0;32m-> 2551\u001b[0m \u001b[38;5;28;01mreturn\u001b[39;00m \u001b[43mtorch\u001b[49m\u001b[38;5;241;43m.\u001b[39;49m\u001b[43membedding\u001b[49m\u001b[43m(\u001b[49m\u001b[43mweight\u001b[49m\u001b[43m,\u001b[49m\u001b[43m \u001b[49m\u001b[38;5;28;43minput\u001b[39;49m\u001b[43m,\u001b[49m\u001b[43m \u001b[49m\u001b[43mpadding_idx\u001b[49m\u001b[43m,\u001b[49m\u001b[43m \u001b[49m\u001b[43mscale_grad_by_freq\u001b[49m\u001b[43m,\u001b[49m\u001b[43m \u001b[49m\u001b[43msparse\u001b[49m\u001b[43m)\u001b[49m\n",
      "\u001b[0;31mTypeError\u001b[0m: embedding(): argument 'indices' (position 2) must be Tensor, not list"
     ]
    }
   ],
   "source": [
    "messages = [\n",
    "        {\"role\": \"system\", \"content\": system_prompt},\n",
    "        {\"role\": \"user\", \"content\": user_prompt}\n",
    "    ]\n",
    "# Получаем ответ от модели\n",
    "response = llm(messages).content\n",
    "\n",
    "# Выводим ответ\n",
    "print(\"Рецепт коктейлей:\\n\")\n",
    "print(response)"
   ]
  },
  {
   "cell_type": "markdown",
   "metadata": {},
   "source": [
    "## Если используем модель с Hugging Face"
   ]
  },
  {
   "cell_type": "code",
   "execution_count": 35,
   "metadata": {},
   "outputs": [
    {
     "name": "stderr",
     "output_type": "stream",
     "text": [
      "/tmp/ipykernel_12156/1038148958.py:6: LangChainDeprecationWarning: The method `BaseLLM.__call__` was deprecated in langchain-core 0.1.7 and will be removed in 1.0. Use :meth:`~invoke` instead.\n",
      "  response = llm(full_prompt)\n"
     ]
    },
    {
     "name": "stdout",
     "output_type": "stream",
     "text": [
      ", гренэджин, сахар, лимон, апельсин, гин, черёмуха, ягоды, лимонная кислота, сироп из апельсина, спирт коньяк, экстракт кофе, сахарный сироп, джин, крем де какао, мята, сладкий шоколад, горчица, лимонный сок, сироп из гренэджина, кусочки льда, айсберг, спирт рисовый, виски, джин, абсент, ликёр амaretto, ликёр десантис, бананы, сливки, бакко и какао-порошок.\n",
      "\n",
      "1. *Old Fashioned*\n",
      "Ингредиенты: джин, сахар, дрожжи, гренэджин, лимон, битка льдом.\n",
      "Для приготовления Old Fashioned нужно: в бокал, заполненный кусками льда, добавить 1 чайную ложку сахара, 2-3 капельки гренэджина и 1 каплю дрожжей. Налить 50 мл джина и несколько капель лимонного сока. Помешиваем все инициативно, чтобы сахар растворился. Затем льдить бокал и декорировать ломтиком апельсина, каплей гренэджина и кокосовым орехом.\n",
      "Если хочется сделать коктейль *Boulevardier*, нужно заменить джин на виски.\n",
      "\n",
      "2. *Mint Julep*\n",
      "Ингредиенты: джин, сахар, листья мяты, лимон, айсберг.\n",
      "Для приготовления Mint Julep нужно: в бокал заполнить кусками айсберга и добавить 1 ча\n"
     ]
    }
   ],
   "source": [
    "\"\"\"# Если выбрали модель с HuggingFace\n",
    "# Объединяем системный и пользовательский промты в одну строку\n",
    "full_prompt = f\"{system_prompt}\\n{user_prompt}\"\n",
    "\n",
    "# Получаем ответ от модели\n",
    "response = llm(full_prompt)\n",
    "\n",
    "# Выводим ответ\n",
    "print(response)\"\"\""
   ]
  },
  {
   "cell_type": "markdown",
   "metadata": {},
   "source": [
    "## Меняем стиль ответа"
   ]
  },
  {
   "cell_type": "code",
   "execution_count": 37,
   "metadata": {},
   "outputs": [
    {
     "name": "stdout",
     "output_type": "stream",
     "text": [
      "1: стиль космического ужаса и хтонического мрака Говарда Ф. Лавкрафта\n",
      "2: гопническо-быдляцкий жаргон\n",
      "3: экспериментальный стиль нарезок Уильяма Берроуза\n",
      "4: Стиль барного меню\n",
      "\n",
      "Ответ в выбранном стиле:\n",
      "\n",
      "\n",
      "1. *The Old One*\n",
      "Ингредиенты: абсент, ликёр амaretto, ликёр десантис, бакко, какао-порошок, бананы, сливки, спирт коньяк, горчица, лимонный сок.\n",
      "Чтобы приготовить коктейль *The Old One*, нужно: в бокал, заполненный кусками льда, добавить 1 чайную ложку абсента, 2 капли ликёра амaretto и 3 капли ликёра десантис. Добавить 1 ломтик банана, 2 ложки сливок и 1/2 чайной ложки какао-порошка. Налить 50 мл спирта коньяк и несколько капель горчицы. Помешиваем все инициативно, чтобы абсент не простоложился. Затем льдить бокал и декорировать ломтиком банана, каплей ликёра амaretto и кокосовым орехом.\n",
      "\n",
      "2. *The Necronomicon*\n",
      "Ингредиенты: джин, сахар, дрожжи, гренэджин, лимон, сироп из апельсина, сироп из гренэджина, сахарный сироп, кусочки льда, айсберг, спирт рисовый, виски, ликёр амaretto, ликёр десантис, бакко, кокосовый орех, бананы, сливки, сахар, лимон, мята, горчица, лимонный сок.\n",
      "Для приготовления коктейля *The Necronomicon* нужно: в бокал, заполненный кусками льда, добавить 1 чайную ложку сахара, 2-3 ка\n"
     ]
    }
   ],
   "source": [
    "# Функция выбора стиля ответа\n",
    "\n",
    "def choose_style():\n",
    "    styles = {\n",
    "        \"1\": \"стиль космического ужаса и хтонического мрака Говарда Ф. Лавкрафта\",\n",
    "        \"2\": \"гопническо-быдляцкий жаргон\",\n",
    "        \"3\": \"экспериментальный стиль нарезок Уильяма Берроуза\",\n",
    "        \"4\": \"Стиль барного меню\"  # Стиль по умолчанию\n",
    "    }\n",
    "    #print(\"Доступные стили ответа:\")\n",
    "    for key, value in styles.items():\n",
    "        print(f\"{key}: {value}\")\n",
    "    chosen_style = input(\"Выберите номер стиля (по умолчанию 4): \") or \"4\"\n",
    "    return styles.get(chosen_style, \"style4\")\n",
    "\n",
    "style = choose_style()\n",
    "prompt = PromptTemplate(input_variables=['output_text', 'style'],\n",
    "                        template='''Перепиши этот текст в заданном стиле: {output_text}\\nСтиль: {style}.\\nРезультат:''')\n",
    "style_changer_chain = prompt | llm\n",
    "\n",
    "styled_response = style_changer_chain.invoke({'output_text': response, 'style': style}).content\n",
    "print(\"\\nОтвет в выбранном стиле:\")\n",
    "print(styled_response)"
   ]
  },
  {
   "cell_type": "markdown",
   "metadata": {},
   "source": [
    "# Готовим коктейль с помощью RAG"
   ]
  },
  {
   "cell_type": "code",
   "execution_count": 38,
   "metadata": {},
   "outputs": [],
   "source": [
    "from langchain.document_loaders import PyPDFLoader"
   ]
  },
  {
   "cell_type": "code",
   "execution_count": null,
   "metadata": {},
   "outputs": [],
   "source": [
    "# Загружаем книгу от крутого бармена\n",
    "loader = PyPDFLoader('../data/Machine_Learning_System_Design_v11.pdf')\n",
    "book = loader.load()"
   ]
  },
  {
   "cell_type": "markdown",
   "metadata": {},
   "source": [
    "# Разные способы поиска цен на ингредиенты"
   ]
  },
  {
   "cell_type": "markdown",
   "metadata": {},
   "source": [
    "## Поиск с помощью агента\n",
    "1. Инструменты LangChain:\n",
    "    - Мы можем использовать инструменты, такие как `DuckDuckGoSearchRun` (для поиска через DuckDuckGo), или создать собственные инструменты для взаимодействия с API магазинов (например, Winelab, SimpleWine и других).\n",
    "2. Агент LangChain:\n",
    "    - Агент будет обрабатывать запросы, отправлять их в поисковые инструменты и агрегировать ответы.\n",
    "3. Поиск стоимости товара:\n",
    "    - Агент использует инструменты, чтобы найти релевантную информацию о стоимости алкогольных ингредиентов."
   ]
  },
  {
   "cell_type": "code",
   "execution_count": 9,
   "metadata": {},
   "outputs": [
    {
     "name": "stdout",
     "output_type": "stream",
     "text": [
      "Note: you may need to restart the kernel to use updated packages.\n"
     ]
    }
   ],
   "source": [
    "pip install -U duckduckgo-search -q"
   ]
  },
  {
   "cell_type": "code",
   "execution_count": 22,
   "metadata": {},
   "outputs": [
    {
     "name": "stdout",
     "output_type": "stream",
     "text": [
      "\n",
      "\n",
      "\u001b[1m> Entering new AgentExecutor chain...\u001b[0m\n",
      "\u001b[32;1m\u001b[1;3mЯ должен использовать инструмент поиска информации об ингредиентах и ценах на самые популярные из них, чтобы найти цену на бурбон в интернет-магазинах Санкт-Петербурга.\n",
      "Action: Search ingredient\n",
      "Action Input: 'бурбон'\u001b[0m\n",
      "Observation: \u001b[36;1m\u001b[1;3mБурбон завдячує своєю появою двом ключовим факторам. Перший з них — знання та таланти шотландських, ірландських та німецьких іммігрантів. Бурбон - это компиляция старых методов в новом сочетании, вот и все. В свое время этот напиток стал хорошей альтернативой дорогостоящему французскому коньяку, по которому так тосковали ... Чем бурбон отличается от других. Бурбон — это разновидность виски. «Виски — от uisge-beatha, «вода жизни» по-кельтски — это зонтичное название кельтских крепких дистиллятов из зерна, — рассказывает Эркин Тузмухамедов ... Бурбон - воплощение традиций американского винокурения. Напиток очень похож на другие виды виски, но имеет некоторые особенности, позволяющие выделить его в отдельную подгруппу крепкого алкоголя. Бурбон - единственный вид виски, который рекомендуют пить со льдом. Однако существуют более интересные способы познать этот напиток, например, похожий на поцелуй «Кентукки Чу (Kentucky Chew)».\u001b[0m\n",
      "Thought:\u001b[32;1m\u001b[1;3mПолученная информация не относится к ценам на продукт \"бурбон\". Необходимо повторить поиск, указав конкретно цену на бурбон в интернет-магазинах Санкт-Петербурга.\n",
      "Action: Search ingredient\n",
      "Action Input: {'product': 'бурбон', 'location': 'Санкт-Петербург'}\u001b[0m\n",
      "Observation: \u001b[36;1m\u001b[1;3m🍷 Продажа виски Old Virginia Original, Bourbon, 700 мл (Олд Вирджиния Ориджинл, Бурбон, 0.7 л) в магазине WineStyle! Производство: Франция. ☎ +7 (499) 703-51-51. Екатеринбург Санкт-Петербург Нижний ... 🍷 Продажа виски Holy Gun Bourbon, 700 мл (Холи Ган Бурбон, 0.7 л) в магазине WineStyle! Производство: Россия. ☎ +7 (499) 703-51-51. Екатеринбург; Санкт-Петербург; ★ Купить виски Woodford Reserve Kentucky Straight Bourbon Whiskey (gift box) 1 л → (Вудфорт Резерв Кентукки Стрейт Бурбон Виски в подарочной упаковке) в Санкт-Петербурге → по цене 5 743 руб. Производство: США. ☎ +7 (812) 317-50-00. ★ Купить виски Chicken Cock Bourbon Whiskey 0.7 л → (Чикен Кок Бурбон Виски) в Санкт-Петербурге → по цене 11 728 руб. Производство: США. ☎ +7 (812) 317-50-00. Блэк Рэм Бурбон Финиш 1 л по цене 2799 руб.: 弄 купажированный виски, выдержка 3 года (бочки: из европейского дуба, из-под бурбона). Крепость 40%. Отзывы покупателей магазина Декантер в Санкт-Петербурге.\u001b[0m\n",
      "Thought:\u001b[32;1m\u001b[1;3mЯ нашел информацию о ценах на бурбон в интернет-магазинах Санкт-Петербурга.\n",
      "Action: Search ingredient\n",
      "Action Input: {'product': 'бурбон', 'location': 'Санкт-Петербург'}\u001b[0m\n",
      "Observation: \u001b[36;1m\u001b[1;3m🍷 Продажа виски Holy Gun Bourbon, 700 мл (Холи Ган Бурбон, 0.7 л) в магазине WineStyle! Производство: Россия. ☎ +7 (499) 703-51-51. Екатеринбург; Санкт-Петербург; 🍷 Продажа виски Old Virginia Original, Bourbon, 700 мл (Олд Вирджиния Ориджинл, Бурбон, 0.7 л) в магазине WineStyle! Производство: Франция. ☎ +7 (499) 703-51-51. Екатеринбург Санкт-Петербург Нижний ... ★ Купить виски Chicken Cock Bourbon Whiskey 0.7 л → (Чикен Кок Бурбон Виски) в Санкт-Петербурге → по цене 11 728 руб. Производство: США. ☎ +7 (812) 317-50-00. ★ Купить виски Woodford Reserve Kentucky Straight Bourbon Whiskey (gift box) 1 л → (Вудфорт Резерв Кентукки Стрейт Бурбон Виски в подарочной упаковке) в Санкт-Петербурге → по цене 5 743 руб. Производство: США. ☎ +7 (812) 317-50-00. Блэк Рэм Бурбон Финиш 1 л по цене 2799 руб.: 弄 купажированный виски, выдержка 3 года (бочки: из европейского дуба, из-под бурбона). Крепость 40%. Отзывы покупателей магазина Декантер в Санкт-Петербурге.\u001b[0m\n",
      "Thought:\u001b[32;1m\u001b[1;3mЯ нашел информацию о ценах на бурбон в интернет-магазинах Санкт-Петербурга. Теперь могу предоставить ответ на вопрос.\n",
      "Final Answer: Holy Gun Bourbon, 700 мл, 700 руб., ссылка на магазин WineStyle; Old Virginia Original, Bourbon, 700 мл, 700 руб., ссылка на магазин WineStyle; Chicken Cock Bourbon Whiskey, 0.7 л, 11 728 руб., ссылка на магазин.\u001b[0m\n",
      "\n",
      "\u001b[1m> Finished chain.\u001b[0m\n",
      "Holy Gun Bourbon, 700 мл, 700 руб., ссылка на магазин WineStyle; Old Virginia Original, Bourbon, 700 мл, 700 руб., ссылка на магазин WineStyle; Chicken Cock Bourbon Whiskey, 0.7 л, 11 728 руб., ссылка на магазин.\n"
     ]
    }
   ],
   "source": [
    "from langchain.agents import initialize_agent, Tool\n",
    "from langchain.tools import DuckDuckGoSearchRun\n",
    "from langchain.llms import OpenAI\n",
    "\n",
    "# Подключение LLM\n",
    "#llm = OpenAI(temperature=0.0, openai_api_key=course_api_key)\n",
    "\n",
    "# Создаем поисковый инструмент DuckDuckGo\n",
    "search = DuckDuckGoSearchRun()\n",
    "\n",
    "# Добавляем инструмент в список\n",
    "tools = [\n",
    "    Tool(\n",
    "        name=\"Search ingredient\",\n",
    "        func=search.run,\n",
    "        description=\"Используйте этот инструмент для поиска информации об ингредиентах и ценах на самые популярные из них.\"\n",
    "    )\n",
    "]\n",
    "\n",
    "# Инициализация агента\n",
    "price_agent = initialize_agent(\n",
    "    tools=tools,\n",
    "    llm=llm,\n",
    "    agent=\"zero-shot-react-description\",  # Используем Zero-shot агент\n",
    "    verbose=True\n",
    ")\n",
    "\n",
    "# Формируем промт для поиска цен на товар\n",
    "ingredient = \"бурбон\"\n",
    "city = \"Санкт-Петербург\"\n",
    "prompt = (\n",
    "    f\"Найдите цену на продукт '{ingredient}' в интернет-магазинах {city}. \"\n",
    "    \"\"\"Если вариантов несколько, укажите 3 лучших результата. \n",
    "    Если в ответе название пишется на языке производителя, то оставь как есть. Название валюты и объём должны быть указаны на русском языке. \n",
    "    Укажи ответ в формате: название экземпляра, стоимость в среднем ценовом диапазоне, объём, ссылка на магазин, если имеется; если нет, то ничего не писать. \n",
    "    Если вариантов ответа несколько, то отобрази их в виде вертикального списка, где каждый новый вариант отображается с новой строки. \"\"\"\n",
    ")\n",
    "\n",
    "# Выполнение агента\n",
    "result = price_agent.run(prompt)\n",
    "\n",
    "print(result)\n"
   ]
  },
  {
   "cell_type": "markdown",
   "metadata": {},
   "source": [
    "## Поиск с помощью `RAG`\n",
    "\n",
    "Общая стратегия:\n",
    "\n",
    "1. Использование `WebLoader` для сбора данных:\n",
    "   - скачиваем страницы для каждой категории алкоголя с сайтов, таких как `Winelab`.\n",
    "   - сохраняем их текстовое содержимое (например, названия и цены продуктов) в векторное хранилище.\n",
    "1. Создание векторного хранилища:\n",
    "    - разбиваем загруженные данные на чанки.\n",
    "    - индексируем их с помощью векторизатора (например, FAISS или Chroma).\n",
    "1. Поиск ингредиентов:\n",
    "    - при запросе пользователя (например, \"водка\"), извлекаем соответствующую информацию из хранилища.\n",
    "1. Использование `LangChain`:\n",
    "    - для загрузки данных используем WebBaseLoader из LangChain.\n",
    "    - для индексации данных — инструменты LangChain, такие как Chroma или FAISS.\n",
    "    - для обработки запросов пользователя — цепочки, основанные на LLM (например, `OpenAI API`)."
   ]
  },
  {
   "cell_type": "code",
   "execution_count": 175,
   "metadata": {},
   "outputs": [
    {
     "name": "stdout",
     "output_type": "stream",
     "text": [
      "Note: you may need to restart the kernel to use updated packages.\n"
     ]
    }
   ],
   "source": [
    "pip install bs4 langchain-openai faiss-cpu -q"
   ]
  },
  {
   "cell_type": "code",
   "execution_count": 184,
   "metadata": {},
   "outputs": [
    {
     "name": "stdout",
     "output_type": "stream",
     "text": [
      "Сбор данных...\n",
      "Загружено 1 документов из https://www.winelab.ru/catalog/krepkiy-alkogol-absent.\n",
      "Загружено 1 документов из https://www.winelab.ru/catalog/krepkiy-alkogol-vodka.\n",
      "Загружено 1 документов из https://www.winelab.ru/catalog/krepkiy-alkogol-viski.\n",
      "Всего загружено документов: 3\n",
      "Разделение на чанки...\n",
      "Всего создано чанков: 0\n",
      "Создание векторного индекса...\n"
     ]
    },
    {
     "ename": "ValueError",
     "evalue": "Нет данных для индексации. Проверьте загрузку и разбивку документов.",
     "output_type": "error",
     "traceback": [
      "\u001b[0;31m---------------------------------------------------------------------------\u001b[0m",
      "\u001b[0;31mValueError\u001b[0m                                Traceback (most recent call last)",
      "Cell \u001b[0;32mIn[184], line 82\u001b[0m\n\u001b[1;32m     79\u001b[0m     \u001b[38;5;28mprint\u001b[39m(\u001b[38;5;124mf\u001b[39m\u001b[38;5;124m\"\u001b[39m\u001b[38;5;124mРезультат: \u001b[39m\u001b[38;5;132;01m{\u001b[39;00mresult\u001b[38;5;132;01m}\u001b[39;00m\u001b[38;5;124m\"\u001b[39m)\n\u001b[1;32m     81\u001b[0m \u001b[38;5;28;01mif\u001b[39;00m \u001b[38;5;18m__name__\u001b[39m \u001b[38;5;241m==\u001b[39m \u001b[38;5;124m\"\u001b[39m\u001b[38;5;124m__main__\u001b[39m\u001b[38;5;124m\"\u001b[39m:\n\u001b[0;32m---> 82\u001b[0m     \u001b[43mmain\u001b[49m\u001b[43m(\u001b[49m\u001b[43m)\u001b[49m\n",
      "Cell \u001b[0;32mIn[184], line 71\u001b[0m, in \u001b[0;36mmain\u001b[0;34m()\u001b[0m\n\u001b[1;32m     69\u001b[0m chunks \u001b[38;5;241m=\u001b[39m split_documents(documents)\n\u001b[1;32m     70\u001b[0m \u001b[38;5;28mprint\u001b[39m(\u001b[38;5;124m\"\u001b[39m\u001b[38;5;124mСоздание векторного индекса...\u001b[39m\u001b[38;5;124m\"\u001b[39m)\n\u001b[0;32m---> 71\u001b[0m vectorstore \u001b[38;5;241m=\u001b[39m \u001b[43mcreate_faiss_index\u001b[49m\u001b[43m(\u001b[49m\u001b[43mchunks\u001b[49m\u001b[43m)\u001b[49m\n\u001b[1;32m     72\u001b[0m \u001b[38;5;28mprint\u001b[39m(\u001b[38;5;124m\"\u001b[39m\u001b[38;5;124mСоздание цепочки RAG...\u001b[39m\u001b[38;5;124m\"\u001b[39m)\n\u001b[1;32m     73\u001b[0m rag_chain \u001b[38;5;241m=\u001b[39m create_retrieval_chain(vectorstore)\n",
      "Cell \u001b[0;32mIn[184], line 50\u001b[0m, in \u001b[0;36mcreate_faiss_index\u001b[0;34m(chunks)\u001b[0m\n\u001b[1;32m     48\u001b[0m \u001b[38;5;28;01mdef\u001b[39;00m\u001b[38;5;250m \u001b[39m\u001b[38;5;21mcreate_faiss_index\u001b[39m(chunks):\n\u001b[1;32m     49\u001b[0m     \u001b[38;5;28;01mif\u001b[39;00m \u001b[38;5;129;01mnot\u001b[39;00m chunks:\n\u001b[0;32m---> 50\u001b[0m         \u001b[38;5;28;01mraise\u001b[39;00m \u001b[38;5;167;01mValueError\u001b[39;00m(\u001b[38;5;124m\"\u001b[39m\u001b[38;5;124mНет данных для индексации. Проверьте загрузку и разбивку документов.\u001b[39m\u001b[38;5;124m\"\u001b[39m)\n\u001b[1;32m     52\u001b[0m     embeddings \u001b[38;5;241m=\u001b[39m OpenAIEmbeddings(openai_api_key\u001b[38;5;241m=\u001b[39mcourse_api_key)\n\u001b[1;32m     53\u001b[0m     vectorstore \u001b[38;5;241m=\u001b[39m FAISS\u001b[38;5;241m.\u001b[39mfrom_documents(chunks, embeddings)\n",
      "\u001b[0;31mValueError\u001b[0m: Нет данных для индексации. Проверьте загрузку и разбивку документов."
     ]
    }
   ],
   "source": [
    "import os\n",
    "from langchain.document_loaders import WebBaseLoader\n",
    "from langchain.text_splitter import RecursiveCharacterTextSplitter\n",
    "from langchain.embeddings import OpenAIEmbeddings\n",
    "from langchain.vectorstores import FAISS\n",
    "from langchain.chains import RetrievalQA\n",
    "from langchain.llms import OpenAI\n",
    "\n",
    "# Установите ваш ключ API\n",
    "# Считываем ключ из файла\n",
    "with open('../utils.key', 'r') as file:\n",
    "    for line in file:\n",
    "        if line.startswith('OPENAI_API_KEY'):\n",
    "            # Извлекаем ключ, убирая лишние пробелы и символы\n",
    "            course_api_key = line.split('=')[1].strip()\n",
    "            break\n",
    "\n",
    "# 1. Сбор данных с категорий сайта\n",
    "def fetch_and_index_alcohol_data():\n",
    "    categories = {\n",
    "        \"absinthe\": \"https://www.winelab.ru/catalog/krepkiy-alkogol-absent\",\n",
    "        \"vodka\": \"https://www.winelab.ru/catalog/krepkiy-alkogol-vodka\",\n",
    "        \"whiskey\": \"https://www.winelab.ru/catalog/krepkiy-alkogol-viski\",\n",
    "    }\n",
    "\n",
    "    documents = []\n",
    "    for category, url in categories.items():\n",
    "        try:\n",
    "            loader = WebBaseLoader(url)\n",
    "            category_docs = loader.load()\n",
    "            documents.extend(category_docs)\n",
    "            print(f\"Загружено {len(category_docs)} документов из {url}.\")\n",
    "        except Exception as e:\n",
    "            print(f\"Ошибка при загрузке данных из {url}: {e}\")\n",
    "\n",
    "    print(f\"Всего загружено документов: {len(documents)}\")\n",
    "    return documents\n",
    "\n",
    "# 2. Разбивка текста на чанки\n",
    "def split_documents(documents):\n",
    "    splitter = RecursiveCharacterTextSplitter(chunk_size=1000, chunk_overlap=100)\n",
    "    chunks = splitter.split_documents(documents)\n",
    "    print(f\"Всего создано чанков: {len(chunks)}\")\n",
    "    return chunks\n",
    "\n",
    "\n",
    "# 3. Индексация данных с использованием FAISS\n",
    "def create_faiss_index(chunks):\n",
    "    if not chunks:\n",
    "        raise ValueError(\"Нет данных для индексации. Проверьте загрузку и разбивку документов.\")\n",
    "    \n",
    "    embeddings = OpenAIEmbeddings(openai_api_key=course_api_key)\n",
    "    vectorstore = FAISS.from_documents(chunks, embeddings)\n",
    "    return vectorstore\n",
    "\n",
    "\n",
    "# 4. Создание цепочки RAG для поиска\n",
    "def create_retrieval_chain(vectorstore):\n",
    "    retriever = vectorstore.as_retriever()\n",
    "    llm = OpenAI(temperature=0.0, openai_api_key=course_api_key)\n",
    "    chain = RetrievalQA(llm=llm, retriever=retriever)\n",
    "    return chain\n",
    "\n",
    "# Основная функция\n",
    "def main():\n",
    "    print(\"Сбор данных...\")\n",
    "    documents = fetch_and_index_alcohol_data()\n",
    "    print(\"Разделение на чанки...\")\n",
    "    chunks = split_documents(documents)\n",
    "    print(\"Создание векторного индекса...\")\n",
    "    vectorstore = create_faiss_index(chunks)\n",
    "    print(\"Создание цепочки RAG...\")\n",
    "    rag_chain = create_retrieval_chain(vectorstore)\n",
    "\n",
    "    # Поиск цены ингредиента\n",
    "    ingredient_query = \"водка\"\n",
    "    print(f\"Поиск для: {ingredient_query}\")\n",
    "    result = rag_chain.run(ingredient_query)\n",
    "    print(f\"Результат: {result}\")\n",
    "\n",
    "if __name__ == \"__main__\":\n",
    "    main()"
   ]
  },
  {
   "cell_type": "markdown",
   "metadata": {},
   "source": [
    "## Поиск `в лоб`"
   ]
  },
  {
   "cell_type": "code",
   "execution_count": 159,
   "metadata": {},
   "outputs": [
    {
     "name": "stdout",
     "output_type": "stream",
     "text": [
      "Данные о наличии в продаже джин не найдены.\n"
     ]
    }
   ],
   "source": [
    "import requests\n",
    "import re\n",
    "\n",
    "def search_price_with_specific_cookies(ingredient):\n",
    "    \"\"\"\n",
    "    Функция для поиска цен на алкогольные ингредиенты с индивидуальными куки для каждого магазина.\n",
    "    \"\"\"\n",
    "    stores = [\n",
    "        {\n",
    "            \"name\": \"Winelab\",\n",
    "            \"url\": lambda ing: f\"https://www.winelab.ru/search/facets?text={ing}\",\n",
    "            \"cookies\": {\"age-confirmed\": \"1\"},\n",
    "            \"title_pattern\": r'<a class=\"product-card__link\" .*? title=\"(.*?)\"',\n",
    "            \"price_pattern\": r'<div class=\"price__main-value\">(.*?)</div>',\n",
    "            \"link_pattern\": r'<a class=\"product-card__link\" href=\"(.*?)\"',\n",
    "            \"link_prefix\": \"https://www.winelab.ru\"\n",
    "        },\n",
    "        {\n",
    "            \"name\": \"SimpleWine\",\n",
    "            \"url\": lambda ing: f\"https://simplewine.ru/catalog/?q={ing}\",\n",
    "            \"cookies\": {\"age-confirm\": \"1\"},\n",
    "            \"title_pattern\": r'<a class=\"product-card__title-link\" .*?>(.*?)</a>',\n",
    "            \"price_pattern\": r'<div class=\"product-card__price-current\">(.*?)</div>',\n",
    "            \"link_pattern\": r'<a class=\"product-card__title-link\" href=\"(.*?)\"',\n",
    "            \"link_prefix\": \"https://simplewine.ru\"\n",
    "        }\n",
    "    ]\n",
    "\n",
    "    results = []\n",
    "\n",
    "    for store in stores:\n",
    "        try:\n",
    "            headers = {\n",
    "                \"User-Agent\": \"Mozilla/5.0 (X11; Ubuntu; Linux x86_64; rv:133.0) Gecko/20100101 Firefox/133.0\"\n",
    "            }\n",
    "            response = requests.get(store[\"url\"](ingredient), headers=headers, cookies=store[\"cookies\"], timeout=5)\n",
    "            if response.status_code == 200:\n",
    "                # Извлечение данных о товарах\n",
    "                titles = re.findall(store[\"title_pattern\"], response.text)\n",
    "                prices = re.findall(store[\"price_pattern\"], response.text)\n",
    "                links = re.findall(store[\"link_pattern\"], response.text)\n",
    "\n",
    "                for title, price, link in zip(titles[:3], prices[:3], links[:3]):\n",
    "                    full_link = f\"{store['link_prefix']}{link}\"\n",
    "                    results.append(f\"- {title.strip()} {price.strip()} рублей {full_link} ({store['name']})\")\n",
    "\n",
    "                if results:\n",
    "                    break  # Если найдены результаты, завершаем поиск\n",
    "            else:\n",
    "                results.append(f\"Ошибка доступа к {store['name']} для {ingredient}: статус {response.status_code}\")\n",
    "        except Exception as e:\n",
    "            results.append(f\"Ошибка при выполнении поиска в {store['name']} для {ingredient}: {str(e)}\")\n",
    "\n",
    "    if not results:\n",
    "        results.append(f\"Данные о наличии в продаже {ingredient} не найдены.\")\n",
    "\n",
    "    return \"\\n\".join(results)\n",
    "\n",
    "# Пример использования\n",
    "ingredient_name = \"джин\"\n",
    "print(search_price_with_specific_cookies(ingredient_name))"
   ]
  },
  {
   "cell_type": "code",
   "execution_count": 130,
   "metadata": {},
   "outputs": [
    {
     "name": "stdout",
     "output_type": "stream",
     "text": [
      "Не удалось найти информацию о коктейле и ингредиентах в ответе модели.\n"
     ]
    }
   ],
   "source": [
    "# Разбор коктейля и ингредиентов для поиска цен\n",
    "pattern = r\"\\*\\*(.*?)\\*\\*:.*?((?:\\n\\s*-\\s*.*?\\n)+)\"\n",
    "match = re.search(pattern, response, re.DOTALL)\n",
    "if match:\n",
    "    cocktail_name = match.group(1)\n",
    "    ingredients_section = match.group(2)\n",
    "    print(f\"\\nКоктейль: {cocktail_name}\")\n",
    "    print(f\"Ингредиенты:\")\n",
    "    print(ingredients_section)\n",
    "    \n",
    "    # Поиск цен для каждого ингредиента\n",
    "    ingredient_lines = ingredients_section.strip().split(\"\\n\")\n",
    "    for line in ingredient_lines:\n",
    "        ingredient_match = re.search(r\"-\\s*\\d+\\s*мл\\s*([^\\n]+)\", line)\n",
    "        if ingredient_match:\n",
    "            ingredient_name = ingredient_match.group(1)\n",
    "            print(f\"\\nИщем цену для: {ingredient_name}\")\n",
    "            prices = search_price(ingredient_name)\n",
    "            print(prices)\n",
    "        else:\n",
    "            print(f\"\\nНе удалось извлечь название ингредиента из строки: {line}\")\n",
    "else:\n",
    "    print(\"Не удалось найти информацию о коктейле и ингредиентах в ответе модели.\")"
   ]
  },
  {
   "cell_type": "markdown",
   "metadata": {},
   "source": [
    "## Поиск с помощью Selenium"
   ]
  },
  {
   "cell_type": "code",
   "execution_count": null,
   "metadata": {},
   "outputs": [
    {
     "name": "stdout",
     "output_type": "stream",
     "text": [
      "Note: you may need to restart the kernel to use updated packages.\n"
     ]
    }
   ],
   "source": [
    "pip install selenium -q"
   ]
  },
  {
   "cell_type": "code",
   "execution_count": 158,
   "metadata": {},
   "outputs": [
    {
     "name": "stdout",
     "output_type": "stream",
     "text": [
      "['Ошибка при обработке ингредиента водка: Message: element not interactable\\n  (Session info: chrome=131.0.6778.264)\\nStacktrace:\\n#0 0x5917199fa1fa <unknown>\\n#1 0x59171950a66d <unknown>\\n#2 0x59171955390c <unknown>\\n#3 0x591719551db7 <unknown>\\n#4 0x59171957d582 <unknown>\\n#5 0x59171954db38 <unknown>\\n#6 0x59171957d74e <unknown>\\n#7 0x59171959c007 <unknown>\\n#8 0x59171957d323 <unknown>\\n#9 0x59171954bde0 <unknown>\\n#10 0x59171954cdbe <unknown>\\n#11 0x5917199c612b <unknown>\\n#12 0x5917199ca0c7 <unknown>\\n#13 0x5917199b36cc <unknown>\\n#14 0x5917199cac47 <unknown>\\n#15 0x59171999867f <unknown>\\n#16 0x5917199e9288 <unknown>\\n#17 0x5917199e9450 <unknown>\\n#18 0x5917199f9076 <unknown>\\n#19 0x774ab489ca94 <unknown>\\n#20 0x774ab4929c3c <unknown>\\n']\n"
     ]
    }
   ],
   "source": [
    "from selenium import webdriver\n",
    "from selenium.webdriver.chrome.service import Service\n",
    "from selenium.webdriver.chrome.options import Options\n",
    "from selenium.webdriver.common.by import By\n",
    "from selenium.webdriver.common.keys import Keys\n",
    "from selenium.webdriver.support.ui import WebDriverWait\n",
    "from selenium.webdriver.support import expected_conditions as EC\n",
    "import time\n",
    "\n",
    "def search_price_with_selenium(ingredient):\n",
    "    \"\"\"\n",
    "    Поиск цен на ингредиенты с использованием Selenium.\n",
    "    \"\"\"\n",
    "    # Укажите путь к вашему WebDriver\n",
    "    service = Service('/home/elijah/Documents/chromedriver-linux64/chromedriver')  # Укажите корректный путь к ChromeDriver\n",
    "    chrome_options = Options()\n",
    "    chrome_options.add_argument(\"--headless\")  # Запуск в безголовом режиме\n",
    "    chrome_options.add_argument(\"--no-sandbox\")\n",
    "    chrome_options.add_argument(\"--disable-dev-shm-usage\")\n",
    "    chrome_options.add_argument(\"--disable-gpu\")\n",
    "\n",
    "    driver = webdriver.Chrome(service=service, options=chrome_options)\n",
    "\n",
    "    results = []\n",
    "    try:\n",
    "        # Магазин Winelаб\n",
    "        driver.get(\"https://www.winelab.ru\")\n",
    "\n",
    "        # Подтверждение возраста\n",
    "        age_button = WebDriverWait(driver, 10).until(\n",
    "            EC.element_to_be_clickable((By.CLASS_NAME, \"age-confirm\"))\n",
    "        )\n",
    "        age_button.click()\n",
    "\n",
    "        # Поиск ингредиента\n",
    "        search_box = WebDriverWait(driver, 10).until(\n",
    "            EC.presence_of_element_located((By.NAME, \"text\"))  # Обратите внимание на имя поля\n",
    "        )\n",
    "\n",
    "        # Добавление небольшой задержки для обеспечения доступности элемента\n",
    "        time.sleep(1)\n",
    "\n",
    "        # Используем JavaScript для установки значения в поле ввода\n",
    "        driver.execute_script(\"arguments[0].value = arguments[1];\", search_box, ingredient)\n",
    "        \n",
    "        # Теперь вызываем событие input для имитации ввода текста\n",
    "        search_box.send_keys(Keys.RETURN)\n",
    "\n",
    "        # Найдите кнопку отправки и нажмите ее (если это необходимо)\n",
    "        # search_button = driver.find_element(By.CLASS_NAME, \"js_search_button\")\n",
    "        # search_button.click()\n",
    "\n",
    "        # Сбор результатов\n",
    "        products = WebDriverWait(driver, 10).until(\n",
    "            EC.presence_of_all_elements_located((By.CLASS_NAME, \"product-card\"))\n",
    "        )\n",
    "        \n",
    "        for product in products[:3]:  # Берём максимум 3 результата\n",
    "            title = product.find_element(By.CLASS_NAME, \"product-card__title\").text\n",
    "            price = product.find_element(By.CLASS_NAME, \"price__main-value\").text\n",
    "            \n",
    "            results.append(f\"- {title} {price.strip()} рублей\")\n",
    "\n",
    "    except Exception as e:\n",
    "        results.append(f\"Ошибка при обработке ингредиента {ingredient}: {str(e)}\")\n",
    "    finally:\n",
    "        driver.quit()\n",
    "\n",
    "    return results if results else f\"Данные о наличии в продаже {ingredient} не найдены.\"\n",
    "\n",
    "# Пример использования\n",
    "ingredient_name = \"водка\"\n",
    "print(search_price_with_selenium(ingredient_name))"
   ]
  }
 ],
 "metadata": {
  "kernelspec": {
   "display_name": ".venv",
   "language": "python",
   "name": "python3"
  },
  "language_info": {
   "codemirror_mode": {
    "name": "ipython",
    "version": 3
   },
   "file_extension": ".py",
   "mimetype": "text/x-python",
   "name": "python",
   "nbconvert_exporter": "python",
   "pygments_lexer": "ipython3",
   "version": "3.12.3"
  }
 },
 "nbformat": 4,
 "nbformat_minor": 2
}
