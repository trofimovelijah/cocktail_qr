{
 "cells": [
  {
   "cell_type": "markdown",
   "metadata": {},
   "source": [
    "## Импорт и определение библиотек"
   ]
  },
  {
   "cell_type": "code",
   "execution_count": 2,
   "metadata": {},
   "outputs": [],
   "source": [
    "!pip install langchain langchain_experimental langchain-openai openai tiktoken huggingface_hub langchain-huggingface -q"
   ]
  },
  {
   "cell_type": "code",
   "execution_count": 4,
   "metadata": {},
   "outputs": [],
   "source": [
    "import os\n",
    "from getpass import getpass\n",
    "import warnings\n",
    "warnings.filterwarnings('ignore')\n",
    "from langchain.prompts import PromptTemplate\n",
    "from langchain.chains import LLMChain"
   ]
  },
  {
   "cell_type": "code",
   "execution_count": 5,
   "metadata": {},
   "outputs": [],
   "source": [
    "# для использования ключа из LLM_bot\n",
    "!wget https://raw.githubusercontent.com/a-milenkin/LLM_practical_course/main/notebooks/utils.py -q"
   ]
  },
  {
   "cell_type": "markdown",
   "metadata": {},
   "source": [
    "## Выбор модели"
   ]
  },
  {
   "cell_type": "code",
   "execution_count": 53,
   "metadata": {},
   "outputs": [],
   "source": [
    "# Если используете ключ из курса по LLM, запустите эту ячейку\n",
    "from utils import ChatOpenAI\n",
    "\n",
    "# Считываем ключ из файла\n",
    "with open('../utils.key', 'r') as file:\n",
    "    for line in file:\n",
    "        if line.startswith('OPENAI_API_KEY'):\n",
    "            # Извлекаем ключ, убирая лишние пробелы и символы\n",
    "            course_api_key = line.split('=')[1].strip()\n",
    "            break\n",
    "\n",
    "#print(course_api_key)\n",
    "# инициализируем языковую модель\n",
    "llm = ChatOpenAI(temperature=0.0, course_api_key=course_api_key)"
   ]
  },
  {
   "cell_type": "code",
   "execution_count": 44,
   "metadata": {},
   "outputs": [],
   "source": [
    "## Если не хотите платить денежков, то запустите эту ячейку\n",
    "#from langchain.chains import LLMChain\n",
    "#from langchain_huggingface import HuggingFaceEndpoint\n",
    "#from langchain.embeddings import HuggingFaceEmbeddings\n",
    "\n",
    "# Считываем ключ из файла\n",
    "#with open('../utils.key', 'r') as file:\n",
    "#    for line in file:\n",
    "#        if line.startswith('HUGGINGFACEHUB_API_TOKEN'):\n",
    "            # Извлекаем ключ, убирая лишние пробелы и символы\n",
    "#            course_api_key = line.split('=')[1].strip()\n",
    "#            break\n",
    "\n",
    "# Создаем объект языкового модели\n",
    "#llm = HuggingFaceEndpoint(\n",
    "#      repo_id=\"mistralai/Mistral-7B-Instruct-v0.3\",\n",
    "#      task=\"text-generation\",  # Вид задачи, в нашем случае - генерация текста\n",
    "#    )"
   ]
  },
  {
   "cell_type": "markdown",
   "metadata": {},
   "source": [
    "## Задаём общие параметры"
   ]
  },
  {
   "cell_type": "markdown",
   "metadata": {},
   "source": [
    "import requests\n",
    "import re\n",
    "\n",
    "def search_price(ingredient):\n",
    "    \"\"\"\n",
    "    Функция для поиска цен на алкогольные ингредиенты в нескольких интернет-магазинах.\n",
    "    \"\"\"\n",
    "    stores = [\n",
    "        {\n",
    "            \"name\": \"Winelab\",\n",
    "            \"url\": lambda ing: f\"https://www.winelab.ru/search?text={ing}\",\n",
    "            \"cookies\": {\"age-confirmed\": \"1\"},\n",
    "            \"title_pattern\": r'<a class=\"product-card__link\" .*? title=\"(.*?)\"',\n",
    "            \"price_pattern\": r'<div class=\"price__main-value\">(.*?)</div>',\n",
    "            \"link_pattern\": r'<a class=\"product-card__link\" href=\"(.*?)\"',\n",
    "            \"link_prefix\": \"https://www.winelab.ru\"\n",
    "        },\n",
    "        {\n",
    "            \"name\": \"SimpleWine\",\n",
    "            \"url\": lambda ing: f\"https://simplewine.ru/catalog/?q={ing}\",\n",
    "            \"cookies\": {\"age-confirm\": \"1\"},\n",
    "            \"title_pattern\": r'<a class=\"product-card__title-link\" .*?>(.*?)</a>',\n",
    "            \"price_pattern\": r'<div class=\"product-card__price-current\">(.*?)</div>',\n",
    "            \"link_pattern\": r'<a class=\"product-card__title-link\" href=\"(.*?)\"',\n",
    "            \"link_prefix\": \"https://simplewine.ru\"\n",
    "        }\n",
    "    ]\n",
    "\n",
    "    results = []\n",
    "    \n",
    "    for store in stores:\n",
    "        try:\n",
    "            response = requests.get(store[\"url\"](ingredient), timeout=5)\n",
    "            if response.status_code == 200:\n",
    "                # Извлечение данных о товарах\n",
    "                titles = re.findall(store[\"title_pattern\"], response.text)\n",
    "                prices = re.findall(store[\"price_pattern\"], response.text)\n",
    "                links = re.findall(store[\"link_pattern\"], response.text)\n",
    "                \n",
    "                for title, price, link in zip(titles[:3], prices[:3], links[:3]):\n",
    "                    full_link = f\"{store['link_prefix']}{link}\"\n",
    "                    results.append(f\"- {title.strip()} {price.strip()} рублей {full_link} ({store['name']})\")\n",
    "                \n",
    "                if results:\n",
    "                    break  # Если найдены результаты, завершаем поиск\n",
    "            else:\n",
    "                results.append(f\"Ошибка доступа к {store['name']} для {ingredient}: статус {response.status_code}\")\n",
    "        except Exception as e:\n",
    "            results.append(f\"Ошибка при выполнении поиска в {store['name']} для {ingredient}: {str(e)}\")\n",
    "\n",
    "    if not results:\n",
    "        results.append(f\"Данные о наличии в продаже {ingredient} не найдены.\")\n",
    "\n",
    "    return \"\\n\".join(results)\n",
    "\n",
    "# Пример использования\n",
    "ingredient_name = \"водка\"\n",
    "print(search_price(ingredient_name))"
   ]
  },
  {
   "cell_type": "code",
   "execution_count": 81,
   "metadata": {},
   "outputs": [
    {
     "name": "stdout",
     "output_type": "stream",
     "text": [
      "Данные о наличии в продаже водка не найдены.\n"
     ]
    }
   ],
   "source": [
    "import requests\n",
    "import re\n",
    "\n",
    "def search_price_with_specific_cookies(ingredient):\n",
    "    \"\"\"\n",
    "    Функция для поиска цен на алкогольные ингредиенты с индивидуальными куки для каждого магазина.\n",
    "    \"\"\"\n",
    "    stores = [\n",
    "        {\n",
    "            \"name\": \"Winelab\",\n",
    "            \"url\": lambda ing: f\"https://www.winelab.ru/search?text={ing}\",\n",
    "            \"cookies\": {\"age-confirmed\": \"1\"},\n",
    "            \"title_pattern\": r'<a class=\"product-card__link\" .*? title=\"(.*?)\"',\n",
    "            \"price_pattern\": r'<div class=\"price__main-value\">(.*?)</div>',\n",
    "            \"link_pattern\": r'<a class=\"product-card__link\" href=\"(.*?)\"',\n",
    "            \"link_prefix\": \"https://www.winelab.ru\"\n",
    "        },\n",
    "        {\n",
    "            \"name\": \"SimpleWine\",\n",
    "            \"url\": lambda ing: f\"https://simplewine.ru/catalog/?q={ing}\",\n",
    "            \"cookies\": {\"age-confirm\": \"1\"},\n",
    "            \"title_pattern\": r'<a class=\"product-card__title-link\" .*?>(.*?)</a>',\n",
    "            \"price_pattern\": r'<div class=\"product-card__price-current\">(.*?)</div>',\n",
    "            \"link_pattern\": r'<a class=\"product-card__title-link\" href=\"(.*?)\"',\n",
    "            \"link_prefix\": \"https://simplewine.ru\"\n",
    "        }\n",
    "    ]\n",
    "\n",
    "    results = []\n",
    "\n",
    "    for store in stores:\n",
    "        try:\n",
    "            headers = {\n",
    "                \"User-Agent\": \"Mozilla/5.0 (X11; Ubuntu; Linux x86_64; rv:133.0) Gecko/20100101 Firefox/133.0\"\n",
    "            }\n",
    "            response = requests.get(store[\"url\"](ingredient), headers=headers, cookies=store[\"cookies\"], timeout=5)\n",
    "            if response.status_code == 200:\n",
    "                # Извлечение данных о товарах\n",
    "                titles = re.findall(store[\"title_pattern\"], response.text)\n",
    "                prices = re.findall(store[\"price_pattern\"], response.text)\n",
    "                links = re.findall(store[\"link_pattern\"], response.text)\n",
    "\n",
    "                for title, price, link in zip(titles[:3], prices[:3], links[:3]):\n",
    "                    full_link = f\"{store['link_prefix']}{link}\"\n",
    "                    results.append(f\"- {title.strip()} {price.strip()} рублей {full_link} ({store['name']})\")\n",
    "\n",
    "                if results:\n",
    "                    break  # Если найдены результаты, завершаем поиск\n",
    "            else:\n",
    "                results.append(f\"Ошибка доступа к {store['name']} для {ingredient}: статус {response.status_code}\")\n",
    "        except Exception as e:\n",
    "            results.append(f\"Ошибка при выполнении поиска в {store['name']} для {ingredient}: {str(e)}\")\n",
    "\n",
    "    if not results:\n",
    "        results.append(f\"Данные о наличии в продаже {ingredient} не найдены.\")\n",
    "\n",
    "    return \"\\n\".join(results)\n",
    "\n",
    "# Пример использования\n",
    "ingredient_name = \"водка\"\n",
    "print(search_price_with_specific_cookies(ingredient_name))\n"
   ]
  },
  {
   "cell_type": "code",
   "execution_count": 58,
   "metadata": {},
   "outputs": [],
   "source": [
    "# Запрашиваем у пользователя ввод ингредиентов\n",
    "user_input = input(\"Введите ингредиенты, разделенные запятыми: \")\n",
    "\n",
    "# Преобразуем введенную строку в список, удаляя лишние пробелы\n",
    "ingredients = [ingredient.strip() for ingredient in user_input.split(\",\")]\n",
    "\n",
    "# Форматируем строку с использованием join для соединения элементов массива\n",
    "ingredients_str = \", \".join(ingredients)"
   ]
  },
  {
   "cell_type": "markdown",
   "metadata": {},
   "source": [
    "## Получаем рецепт"
   ]
  },
  {
   "cell_type": "code",
   "execution_count": 59,
   "metadata": {},
   "outputs": [
    {
     "name": "stdout",
     "output_type": "stream",
     "text": [
      "Напиши, какие коктейли ты можешь изготовить из представленных ниже ингредиентов. Также укажи, как ещё составляющие входят в коктейли и в какой пропорции изготавливаются. Дополнительно укажи, какие ингредиенты нужно добавить, чтобы получились другие коктейли. \n",
      "Ингредиенты: бейлиз, эспрессо\n"
     ]
    }
   ],
   "source": [
    "# Задаем системный промт\n",
    "system_prompt = \"Ты опытный бармен, специализирующийся на алкогольных коктейлях.\"\n",
    "\n",
    "# Задаем промт пользователя\n",
    "user_prompt = (f\"Напиши, какие коктейли ты можешь изготовить из представленных ниже ингредиентов. \"\n",
    "               f\"Также укажи, как ещё составляющие входят в коктейли и в какой пропорции изготавливаются. \"\n",
    "               f\"Дополнительно укажи, какие ингредиенты нужно добавить, чтобы получились другие коктейли. \"\n",
    "               f\"\\nИнгредиенты: {ingredients_str}\")\n",
    "\n",
    "# Выводим сформированный промт\n",
    "print(user_prompt)"
   ]
  },
  {
   "cell_type": "code",
   "execution_count": 60,
   "metadata": {},
   "outputs": [
    {
     "name": "stdout",
     "output_type": "stream",
     "text": [
      "Рецепт коктейля:\n",
      "Из представленных ингредиентов - бейлиз и эспрессо, можно приготовить несколько вкусных коктейлей:\n",
      "\n",
      "1. **Ирландский кофе (Irish Coffee):**\n",
      "   - 50 мл бейлиз\n",
      "   - 150 мл горячего эспрессо\n",
      "   - 2 чайные ложки коричневого сахара\n",
      "   - Взбитые сливки для украшения\n",
      "\n",
      "   Способ приготовления: В предварительно разогретый стакан для ирландского кофе добавьте коричневый сахар, затем налейте бейлиз и горячее эспрессо. Перемешайте, чтобы сахар растворился. Украсьте взбитыми сливками.\n",
      "\n",
      "2. **Бейлис мартини (Baileys Martini):**\n",
      "   - 50 мл бейлиз\n",
      "   - 50 мл водки\n",
      "   - Лед\n",
      "\n",
      "   Способ приготовления: В шейкер с льдом добавьте бейлиз и водку. Хорошо взболтайте и процедите в охлажденный коктейльный бокал.\n",
      "\n",
      "Для приготовления других коктейлей можно добавить следующие ингредиенты:\n",
      "\n",
      "- Для коктейля **\"Бейлис и крем\" (Baileys and Cream)** добавьте 50 мл бейлиза и 50 мл сливок в стакан с льдом, аккуратно перемешайте.\n",
      "- Для коктейля **\"Эспрессо мартини\" (Espresso Martini)** добавьте 50 мл водки, 25 мл кофейного ликера и 25 мл свежесваренного эспрессо в шейкер с льдом, взболтайте и процедите в бокал.\n",
      "\n",
      "Наслаждайтесь приготовлением и употреблением этих великолепных коктейлей!\n"
     ]
    }
   ],
   "source": [
    "messages = [\n",
    "        {\"role\": \"system\", \"content\": system_prompt},\n",
    "        {\"role\": \"user\", \"content\": user_prompt}\n",
    "    ]\n",
    "# Получаем ответ от модели\n",
    "response = llm(messages).content\n",
    "\n",
    "# Выводим ответ\n",
    "print(\"Рецепт коктейля:\")\n",
    "print(response)"
   ]
  },
  {
   "cell_type": "code",
   "execution_count": 63,
   "metadata": {},
   "outputs": [
    {
     "name": "stdout",
     "output_type": "stream",
     "text": [
      "Доступные стили ответа:\n",
      "1: произведения Лавкрафта\n",
      "2: гопническо-быдляцкий жаргон\n",
      "3: камасутра\n",
      "4: Стиль барного меню\n",
      "\n",
      "Ответ в выбранном стиле:\n",
      "Из представленных ингредиентов - бейлиз и эспрессо, можно создать несколько соблазнительных коктейлей:\n",
      "\n",
      "1. **Ирландский кофе (Irish Coffee):**\n",
      "   - 50 мл бейлиза\n",
      "   - 150 мл горячего эспрессо\n",
      "   - 2 чайные ложки коричневого сахара\n",
      "   - Взбитые сливки для украшения\n",
      "\n",
      "   Способ приготовления: В предварительно разогретый стакан для ирландского кофе добавьте коричневый сахар, затем налейте бейлиз и горячее эспрессо. Перемешайте, чтобы сахар растворился. Украсьте взбитыми сливками.\n",
      "\n",
      "2. **Бейлис мартини (Baileys Martini):**\n",
      "   - 50 мл бейлиза\n",
      "   - 50 мл водки\n",
      "   - Лед\n",
      "\n",
      "   Способ приготовления: В шейкер с льдом добавьте бейлиз и водку. Хорошо взболтайте и процедите в охлажденный коктейльный бокал.\n",
      "\n",
      "Для приготовления других коктейлей можно добавить следующие ингредиенты:\n",
      "\n",
      "- Для коктейля **\"Бейлис и крем\" (Baileys and Cream)** добавьте 50 мл бейлиза и 50 мл сливок в стакан с льдом, аккуратно перемешайте.\n",
      "- Для коктейля **\"Эспрессо мартини\" (Espresso Martini)** добавьте 50 мл водки, 25 мл кофейного ликера и 25 мл свежесваренного эспрессо в шейкер с льдом, взболтайте и процедите в бокал.\n",
      "\n",
      "Погрузитесь в наслаждение приготовлением и употреблением этих страстных коктейлей!\n"
     ]
    }
   ],
   "source": [
    "# Функция выбора стиля ответа\n",
    "\n",
    "def choose_style():\n",
    "    styles = {\n",
    "        \"1\": \"произведения Лавкрафта\",\n",
    "        \"2\": \"гопническо-быдляцкий жаргон\",\n",
    "        \"3\": \"камасутра\",\n",
    "        \"4\": \"Стиль барного меню\"  # Стиль по умолчанию\n",
    "    }\n",
    "    print(\"Доступные стили ответа:\")\n",
    "    for key, value in styles.items():\n",
    "        print(f\"{key}: {value}\")\n",
    "    chosen_style = input(\"Выберите номер стиля (по умолчанию 4): \") or \"4\"\n",
    "    return styles.get(chosen_style, \"style4\")\n",
    "\n",
    "style = choose_style()\n",
    "prompt = PromptTemplate(input_variables=['output_text', 'style'],\n",
    "                        template='''Перепиши этот текст в заданном стиле: {output_text}\\nСтиль: {style}.\\nРезультат:''')\n",
    "style_changer_chain = prompt | llm\n",
    "\n",
    "styled_response = style_changer_chain.invoke({'output_text': response, 'style': style}).content\n",
    "print(\"\\nОтвет в выбранном стиле:\")\n",
    "print(styled_response)"
   ]
  },
  {
   "cell_type": "code",
   "execution_count": 68,
   "metadata": {},
   "outputs": [
    {
     "name": "stdout",
     "output_type": "stream",
     "text": [
      "Не удалось найти информацию о коктейле и ингредиентах в ответе модели.\n"
     ]
    }
   ],
   "source": [
    "# Разбор коктейля и ингредиентов для поиска цен\n",
    "pattern = r\"\\*\\*(.*?)\\*\\*:.*?((?:\\n\\s*-\\s*.*?\\n)+)\"\n",
    "match = re.search(pattern, response, re.DOTALL)\n",
    "if match:\n",
    "    cocktail_name = match.group(1)\n",
    "    ingredients_section = match.group(2)\n",
    "    print(f\"\\nКоктейль: {cocktail_name}\")\n",
    "    print(f\"Ингредиенты:\")\n",
    "    print(ingredients_section)\n",
    "    \n",
    "    # Поиск цен для каждого ингредиента\n",
    "    ingredient_lines = ingredients_section.strip().split(\"\\n\")\n",
    "    for line in ingredient_lines:\n",
    "        ingredient_match = re.search(r\"-\\s*\\d+\\s*мл\\s*([^\\n]+)\", line)\n",
    "        if ingredient_match:\n",
    "            ingredient_name = ingredient_match.group(1)\n",
    "            print(f\"\\nИщем цену для: {ingredient_name}\")\n",
    "            prices = search_price(ingredient_name)\n",
    "            print(prices)\n",
    "        else:\n",
    "            print(f\"\\nНе удалось извлечь название ингредиента из строки: {line}\")\n",
    "else:\n",
    "    print(\"Не удалось найти информацию о коктейле и ингредиентах в ответе модели.\")"
   ]
  },
  {
   "cell_type": "markdown",
   "metadata": {},
   "source": [
    "## Hugging Face"
   ]
  },
  {
   "cell_type": "code",
   "execution_count": 48,
   "metadata": {},
   "outputs": [
    {
     "name": "stdout",
     "output_type": "stream",
     "text": [
      ", лимонный сок, сироп симментал, кубинская мед (демерара), лимон, сахар, сироп агаве, эспарто, айс.\n",
      "\n",
      "1. Мейпл Мартини\n",
      "Добавить: 60 мл джина, 30 мл сиропа симментал, 10 мл эспарто, 15 мл лимонного сока, 3 кусочки айса. Шедовить в коктейльный shaker, подмешать. Вылить в коктейльный стакан и гарнир длинным лимонным ломтом.\n",
      "\n",
      "2. Тэкилка Дэнцерес\n",
      "Добавить: 60 мл текилы, 30 мл лимонного сока, 20 мл сиропа агаве, 3 кусочки айса. Шедовить в коктейльный shaker, подмешать. Вылить в коктейльный стакан и гарнир листом из детского шоколада.\n",
      "\n",
      "3. Кубинский дизайнер\n",
      "Добавить: 60 мл джина, 30 мл лимонного сока, 20 мл кубинской мед (демерара), 3 кусочки айса. Шедовить в коктейльный shaker, подмешать. Вылить в коктейльный стакан и гарнир резко поджаренным длинным лимонным ломтом.\n",
      "\n",
      "4. Космополитан\n",
      "Добавить: 60 мл варенья курага, 30 мл текилы, 30 мл лимонного сока, 15 мл сиропа симментал, 3 кусочки айса. Шедовить в коктейльный shaker, подмешать. Вылить в коктейльный стакан и гарнир резко поджаренным ломтом из фру\n"
     ]
    }
   ],
   "source": [
    "# Если выбрали модель с HuggingFace\n",
    "# Объединяем системный и пользовательский промты в одну строку\n",
    "full_prompt = f\"{system_prompt}\\n{user_prompt}\"\n",
    "\n",
    "# Получаем ответ от модели\n",
    "response = llm(full_prompt)\n",
    "\n",
    "# Выводим ответ\n",
    "print(response)"
   ]
  },
  {
   "cell_type": "code",
   "execution_count": 49,
   "metadata": {},
   "outputs": [],
   "source": [
    "# создадим шаблон и промпт\n",
    "template = '''Перепиши этот текcт в заданном стиле: {output_text}\n",
    "Стиль: {style}.\n",
    "Результат:'''\n",
    "\n",
    "prompt = PromptTemplate(input_variables=['output_text', 'style'], template=template)\n",
    "\n",
    "style_changer_chain = prompt | llm # И ВСЁ!"
   ]
  },
  {
   "cell_type": "code",
   "execution_count": null,
   "metadata": {},
   "outputs": [],
   "source": [
    "# Если используешь модель от HuggingFace\n",
    "text = response\n",
    "style = 'произведения Чехова'\n",
    "\n",
    "answer = style_changer_chain.invoke({'output_text': text, 'style': style})#.content\n",
    "print(answer)"
   ]
  },
  {
   "cell_type": "code",
   "execution_count": null,
   "metadata": {},
   "outputs": [],
   "source": [
    "# Если используешь модель от OpenAI\n",
    "text = response\n",
    "style = 'произведения Лавкрафта'\n",
    "\n",
    "answer = style_changer_chain.invoke({'output_text': text, 'style': style}).content\n",
    "print(answer)"
   ]
  }
 ],
 "metadata": {
  "kernelspec": {
   "display_name": ".venv",
   "language": "python",
   "name": "python3"
  },
  "language_info": {
   "codemirror_mode": {
    "name": "ipython",
    "version": 3
   },
   "file_extension": ".py",
   "mimetype": "text/x-python",
   "name": "python",
   "nbconvert_exporter": "python",
   "pygments_lexer": "ipython3",
   "version": "3.12.3"
  }
 },
 "nbformat": 4,
 "nbformat_minor": 2
}
