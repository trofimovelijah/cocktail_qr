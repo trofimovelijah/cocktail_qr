{
 "cells": [
  {
   "cell_type": "markdown",
   "metadata": {},
   "source": [
    "## Импорт и определение библиотек"
   ]
  },
  {
   "cell_type": "code",
   "execution_count": 1,
   "metadata": {},
   "outputs": [],
   "source": [
    "# отключение параллелизма\n",
    "import os\n",
    "os.environ[\"TOKENIZERS_PARALLELISM\"] = \"false\""
   ]
  },
  {
   "cell_type": "code",
   "execution_count": 2,
   "metadata": {},
   "outputs": [],
   "source": [
    "# ставим разные пакеты оттуда\n",
    "!pip install langchain langchain-openai langchain-community openai tiktoken langchain-huggingface -q\n",
    "!pip install beautifulsoup4 pypdf sentence-transformers faiss-cpu unstructured pypandoc -q\n",
    "#huggingface_hub  langchain_experimental langchainhub\n",
    "#!pip install unstructured \"unstructured[pdf]\" -q"
   ]
  },
  {
   "cell_type": "code",
   "execution_count": 3,
   "metadata": {},
   "outputs": [
    {
     "name": "stderr",
     "output_type": "stream",
     "text": [
      "USER_AGENT environment variable not set, consider setting it to identify your requests.\n"
     ]
    }
   ],
   "source": [
    "# импортируем библиотеки\n",
    "from langchain.document_loaders import WebBaseLoader, PyPDFLoader, UnstructuredEPubLoader\n",
    "from langchain_community.vectorstores import FAISS\n",
    "from langchain_text_splitters import CharacterTextSplitter, RecursiveCharacterTextSplitter\n",
    "from langchain.embeddings import HuggingFaceEmbeddings\n",
    "from langchain.chains import RetrievalQA\n",
    "#from langchain.tools.retriever import create_retriever_tool\n",
    "#from langchain.agents import initialize_agent, AgentType\n",
    "from langchain.agents import Tool, initialize_agent\n",
    "import tqdm as notebook_tqdm"
   ]
  },
  {
   "cell_type": "code",
   "execution_count": 4,
   "metadata": {},
   "outputs": [],
   "source": [
    "# для использования ключа из LLM_bot\n",
    "!wget https://raw.githubusercontent.com/a-milenkin/LLM_practical_course/main/notebooks/utils.py -q"
   ]
  },
  {
   "cell_type": "markdown",
   "metadata": {},
   "source": [
    "# Готовим коктейль с помощью RAG\n",
    "## Немного `Document Loader`"
   ]
  },
  {
   "cell_type": "code",
   "execution_count": 5,
   "metadata": {},
   "outputs": [
    {
     "name": "stdout",
     "output_type": "stream",
     "text": [
      "pages count: 1\n",
      "max chars on page: 107261\n"
     ]
    }
   ],
   "source": [
    "# Загрузка EPUB файла от бармена-литературоведа\n",
    "loader = UnstructuredEPubLoader('../docs/Federle.epub', show_progress=True)\n",
    "doc_epub = loader.load()\n",
    "\n",
    "# смотрим, скока получилось загрузить\n",
    "print('pages count:', len(doc_epub))\n",
    "print('max chars on page:', max([len(page.page_content) for page in doc_epub]))"
   ]
  },
  {
   "cell_type": "code",
   "execution_count": null,
   "metadata": {},
   "outputs": [],
   "source": [
    "# Загружаем книгу от крутого бармена\n",
    "#loader = WebBaseLoader(url)\n",
    "\"\"\"loader = PyPDFLoader('../docs/Bortnik_1000.pdf', show_progress=True)\n",
    "data = loader.load()\n",
    "\n",
    "print('pages count:', len(data))\n",
    "print('max chars on page:', max([len(page.page_content) for page in data]))\"\"\"\n",
    "\n",
    "# на тот случай, если решим загружать подобную литературу пачкой pdf\n",
    "\"\"\"\n",
    "#!pip install unstructured \"unstructured[pdf]\" -q\n",
    "from langchain_community.document_loaders import DirectoryLoader\n",
    "loader = DirectoryLoader(\"../docs\", glob=\"**/*.pdf\", show_progress=True)\n",
    "data = loader.load()\"\"\""
   ]
  },
  {
   "cell_type": "markdown",
   "metadata": {},
   "source": [
    "## Исполним `Text splitters` и разобьём на чанки"
   ]
  },
  {
   "cell_type": "code",
   "execution_count": 16,
   "metadata": {},
   "outputs": [
    {
     "data": {
      "text/plain": [
       "167"
      ]
     },
     "execution_count": 16,
     "metadata": {},
     "output_type": "execute_result"
    }
   ],
   "source": [
    "# для gpt-3.5-turbo\n",
    "splitter = RecursiveCharacterTextSplitter(\n",
    "    separators=['\\n\\n', '\\n', ' ', ''],  # Разделители для сохранения структуры\n",
    "    chunk_size=1000,  # 1000 символов (~200-250 токенов)\n",
    "    chunk_overlap=200  # 200 символов перекрытия\n",
    ")\n",
    "\n",
    "# для gpt-4o-mini\n",
    "\"\"\"splitter = RecursiveCharacterTextSplitter(\n",
    "    separators=['\\n\\n', '\\n', ' ', ''],\n",
    "    chunk_size=2000,  # 2000 символов (~400-500 токенов)\n",
    "    chunk_overlap=300  # 300 символов перекрытия\n",
    ")\"\"\"\n",
    "\n",
    "# Разделяем книгу на части\n",
    "#documents = splitter.split_documents(doc_epub)\n",
    "\n",
    "split_documents = []\n",
    "for page in doc_epub:\n",
    "    split_documents += splitter.create_documents([page.page_content], metadatas=[page.metadata])\n",
    "\n",
    "len(split_documents)"
   ]
  },
  {
   "cell_type": "code",
   "execution_count": 17,
   "metadata": {},
   "outputs": [
    {
     "name": "stdout",
     "output_type": "stream",
     "text": [
      "Количество чанков: 167\n",
      "Максимальное количество символов в чанке: 998\n"
     ]
    }
   ],
   "source": [
    "chunks = splitter.split_documents(doc_epub)\n",
    "print('Количество чанков:', len(chunks))\n",
    "print('Максимальное количество символов в чанке:', max([len(chunk.page_content) for chunk in chunks]))"
   ]
  },
  {
   "cell_type": "markdown",
   "metadata": {},
   "source": [
    "## Чутка `embeddings с HuggingFace`"
   ]
  },
  {
   "cell_type": "code",
   "execution_count": 8,
   "metadata": {},
   "outputs": [],
   "source": [
    "# ai-sage/Giga-Embeddings-instruct\n",
    "!pip install sentence-transformers -q\n",
    "!pip install numpy transformers -q\n",
    "#!pip install numpy -q"
   ]
  },
  {
   "cell_type": "code",
   "execution_count": 10,
   "metadata": {},
   "outputs": [],
   "source": [
    "from huggingface_hub import HfApi\n",
    "from langchain.embeddings import HuggingFaceEmbeddings"
   ]
  },
  {
   "cell_type": "code",
   "execution_count": 12,
   "metadata": {},
   "outputs": [],
   "source": [
    "# Чтение токена из файла\n",
    "def read_token(file_path):\n",
    "    with open(file_path, 'r') as f:\n",
    "        for line in f:\n",
    "            if line.startswith(\"HUGGINGFACEHUB_API_TOKEN\"):\n",
    "                return line.split('=')[1].strip()\n",
    "    raise ValueError(\"Token not found in the specified file.\")\n",
    "\n",
    "# Загрузка токена\n",
    "token = read_token('../utils.key')"
   ]
  },
  {
   "cell_type": "code",
   "execution_count": 18,
   "metadata": {},
   "outputs": [],
   "source": [
    "hf_embeddings_model = HuggingFaceEmbeddings(\n",
    "    model_name=\"sentence-transformers/paraphrase-multilingual-mpnet-base-v2\",  \n",
    "    #\"sentence-transformers/paraphrase-multilingual-mpnet-base-v2\", \n",
    "    #\"cointegrated/LaBSE-en-ru\",\n",
    "    model_kwargs={\n",
    "        \"device\": \"cpu\",\n",
    "        \"token\": token\n",
    "                  } \n",
    ")"
   ]
  },
  {
   "cell_type": "markdown",
   "metadata": {},
   "source": [
    "## Наполним чашу `Vector Store`"
   ]
  },
  {
   "cell_type": "code",
   "execution_count": 19,
   "metadata": {},
   "outputs": [],
   "source": [
    "# Если нужно сохранить новый документ в базу\n",
    "try:\n",
    "    db_embed = FAISS.from_documents(\n",
    "            split_documents, \n",
    "            hf_embeddings_model\n",
    "        )\n",
    "except Exception as e:\n",
    "    raise RuntimeError(f\"Ошибка при создании базы данных FAISS: {e}\")\n",
    "\n",
    "\n",
    "# Сохраняем векторную базу локально\n",
    "db_embed.save_local(\"../data/faiss_db_epub\")\n",
    "\n",
    "# Если нужно изъять из уже сохранённого документа из базы\n",
    "# Загрузка векторной базы данных из локального файла\n",
    "db_embed = FAISS.load_local(\n",
    "        \"../data/faiss_db_epub\", \n",
    "        hf_embeddings_model,\n",
    "        allow_dangerous_deserialization = True\n",
    "    )"
   ]
  },
  {
   "cell_type": "code",
   "execution_count": 22,
   "metadata": {},
   "outputs": [
    {
     "data": {
      "text/plain": [
       "[Document(id='edec0d8b-7c49-434d-9f35-8beaca2ccafc', metadata={'source': '../docs/Federle.epub'}, page_content='Алый «Сайдкар»\\n\\nАЛАЯ БУКВА (1850)\\n\\nНАТАНИЭЛЬ ГОТОРН\\n\\nХотите верьте, хотите нет, но были времена, когда из-за незаконнорожденного ребенка не на реалити-шоу вели, а к позорному столбу. «Алая буква» – первая буква слова Adulteress («прелюбодейка»), которую героине следовало вышить на одежде и носить в знак того, что она запятнала честь внебрачным ребенком. В своем краеугольном романе Готорн препарирует пуританские нравы Новой Англии, где царит разлад между религиозностью, моралью, ханжеством и живым чувством. Давайте же назло поборникам традиций вместо лимонного сока добавим вишневой сладости в классический рецепт коктейля «Сайдкар» (что означает «мотоциклетная люлька»). Вы тут же убедитесь, что наш вариант бесподобен, а вам, как героине Готорна, захочется продефилировать по улицам гордой поступью и с высоко поднятой головой:\\n\\n30 мл вишневого сока;\\n\\n15 мл бренди;\\n\\n15 мл ликера трипл-сек;\\n\\nсахар для украшения.'),\n",
       " Document(id='b231eacd-5689-4529-91ad-edd11df544a6', metadata={'source': '../docs/Federle.epub'}, page_content='Рожь и предубеждение\\n\\nГОРДОСТЬ И ПРЕДУБЕЖДЕНИЕ (1813)\\n\\nДЖЕЙН ОСТИН\\n\\nРоман благородных нравов XIX века подарил Джейн Остин шанс еще при жизни (хоть и недолгой – всего 41 год) вкусить свои пять минут славы. «Гордость и предубеждение» повествует о попытках семейства Беннет выдать замуж своих дочерей. От лица одной из пяти девиц и ведется рассказ. Увы, Элизабет – в одной из экранизаций блеснувшая выразительными скулами Киры Найтли – та еще язва, и ее жажда припечатать всех и каждого чуть ли не затмевает ее трепетное чувство к мистеру Дарси, джентльмену с завидным самомнением (зато ну очень богатому!). Впрочем, все кончается восхитительной двойной свадьбой. Вот и мы сосватаем две сильные натуры – терпкую пряность ржи и жизнеутверждающую горечь грейпфрута – и на славу погуляем на нашем импровизированном торжестве:\\n\\n90 мл грейпфрутового сока;\\n\\n50 мл ржаного виски.'),\n",
       " Document(id='35e73017-af6c-4e1e-880e-1529df015715', metadata={'source': '../docs/Federle.epub'}, page_content='Упадок и разоблачение\\n\\nУПАДОК И РАЗРУШЕНИЕ (1928)\\n\\nИВЛИН ВО\\n\\nАга, испугались, что сейчас последуют нравоучительные исторические выдержки из всех шести томов «Истории упадка и крушения Римской империи»? Расслабьтесь: речь пойдет об «Упадке и разрушении» – английском сатирическом романе Ивлина Во, очаровательной зарисовке из университетской жизни. Знакомьтесь, Поль Пеннифезер: вышвырнутый из Оксфорда за пробежку по двору колледжа без штанов (как будто за вами не водятся грешки почище), он получает в Уэльсе работу в школе для мальчиков и обручается с женщиной немолодой, но ужасно богатой благодаря барышам, полученным от южноамериканских борделей. Не желаете ли и вы окунуться в атмосферу перуанского увеселительного заведения, не выходя из дома? Это легко устроить с помощью писко – местной разновидности бренди, которая на удивление легко находит общий язык с самой обычной колой:\\n\\n60 мл писко;\\n\\n200–250 мл кока-колы.'),\n",
       " Document(id='2f26785b-c20c-49d7-9778-a467b9b4a1e8', metadata={'source': '../docs/Federle.epub'}, page_content='Кофейный ликер без меры\\n\\nЛЮБОВЬ ВО ВРЕМЯ ХОЛЕРЫ (1985)\\n\\nГАБРИЭЛЬ ГАРСИА МАРКЕС\\n\\nЗачем вы, девочки, докторов заграничных любите? Отдашь такому сердце – и полвека промаешься, прежде чем найти то самое, что доктор прописал. Вот она какая, романтика по Маркесу: юноша и девушка загорелись друг к другу пылкой страстью, но девица возьми да выбери себе в мужья доктора – а возлюбленному от ворот поворот дала, крути, мол, в отместку с кем хочешь. Но над истинной страстью время не властно! И однажды, «пятьдесят один год, девять месяцев и четыре дня спустя» (надо же было высчитать!), после кончины Супруга-Номер-Один, те двое воссоединяются. Жемчужина колумбийской литературы, роман Гарсиа Маркеса заслуживает нашего салюта – сладкого, как истинная любовь, и пряного, как неувядающая страсть:\\n\\n30 мл светлого рома;\\n\\n15 мл кофейного ликера (например, «Калуа»);\\n\\n60 мл нежирных сливок;\\n\\nщепотка молотой корицы или мускатного ореха.')]"
      ]
     },
     "execution_count": 22,
     "metadata": {},
     "output_type": "execute_result"
    }
   ],
   "source": [
    "resultsdb = db_embed.similarity_search(\"Джейн Остин\")\n",
    "resultsdb"
   ]
  },
  {
   "cell_type": "markdown",
   "metadata": {},
   "source": [
    "## Полирнём `Retriver` и инициализирует `llm` для вкуса"
   ]
  },
  {
   "cell_type": "code",
   "execution_count": 23,
   "metadata": {},
   "outputs": [],
   "source": [
    "# Если используете ключ из курса по LLM, запустите эту ячейку\n",
    "from utils import ChatOpenAI\n",
    "\n",
    "# Считываем API ключ из файла\n",
    "with open('../utils.key', 'r') as file:\n",
    "    for line in file:\n",
    "        if line.startswith('OPENAI_API_KEY'):\n",
    "            course_api_key = line.split('=')[1].strip()\n",
    "            break\n",
    "\n",
    "# Инициализация языковой модели\n",
    "llm = ChatOpenAI(\n",
    "    model_name=\"gpt-3.5-turbo\", #\"gpt-4o-mini\", \n",
    "    temperature=0.2, \n",
    "    course_api_key=course_api_key\n",
    ")\n",
    "\n",
    "# объявление retriever \n",
    "retriever = db_embed.as_retriever(\n",
    "        search_type=\"mmr\",          # тип поиска похожих документов\n",
    "        search_kwargs={\"k\": 5},     # количество возвращаемых документов (Default: 4)\n",
    "        core_threshold=None,        # минимальный порог для поиска \"similarity_score_threshold\"\n",
    "    )\n",
    "\n",
    "\n",
    "retrieval_qa = RetrievalQA.from_chain_type(\n",
    "        llm=llm, \n",
    "        retriever=retriever\n",
    "    )"
   ]
  },
  {
   "cell_type": "code",
   "execution_count": null,
   "metadata": {},
   "outputs": [],
   "source": [
    "\"\"\"# Предполагаем, что retriever.invoke возвращает список объектов Document\n",
    "results = retriever.invoke(\"Джейн Остин\")\n",
    "\n",
    "# Извлекаем содержимое page_content из каждого элемента списка\n",
    "formatted_contents = []\n",
    "\n",
    "for result in results:\n",
    "    # Проверяем, что результат является объектом Document и содержит page_content\n",
    "    if hasattr(result, 'page_content'):\n",
    "        page_content = result.page_content\n",
    "        # Форматируем содержимое по абзацам\n",
    "        formatted_paragraphs = \"\\n\\n\".join(paragraph.strip() for paragraph in page_content.split('\\n') if paragraph.strip())\n",
    "        formatted_contents.append(formatted_paragraphs)\n",
    "\n",
    "# Объединяем все отформатированные содержимые в один текст\n",
    "final_output = \"\\n\\n\".join(formatted_contents)\n",
    "\n",
    "# Выводим окончательный результат\n",
    "print(final_output)\"\"\""
   ]
  },
  {
   "cell_type": "markdown",
   "metadata": {},
   "source": [
    "# Месье системный промт"
   ]
  },
  {
   "cell_type": "code",
   "execution_count": 24,
   "metadata": {},
   "outputs": [],
   "source": [
    "# Системный промт для агента\n",
    "system_prompt = (\n",
    "    \"\"\"Ты первоклассный бармен-литературовед. \n",
    "    Со всем почтением и любовью к величайшим литераторам ты содержишь целую библиотеку коктейлей (алкогольных и безалкогольных), \n",
    "    навеянных их произведениями и хранишь её в векторной базе. По запросу ты готов приготовить коктейль из своей коллекции рецептов, который не только утолит жажду, \n",
    "    но и оживит самые яркие литературные сюжеты. Выбирай ингредиенты и расскажи, какие коктейли можно приготовить, а также чем дополнить рецепты \n",
    "    для создания новых уникальных напитков.\n",
    "    Если от возлияний в голове гудит, а в животе урчит, предложи коктейли «Яйца красит Prada», «Дон Кревет» и другие «Закуски книголюба». \n",
    "    Пусти в ход наши питейные игры, после которых самое время подсчитать под столом своих истинных друзей…\"\"\"\n",
    ")"
   ]
  },
  {
   "cell_type": "markdown",
   "metadata": {},
   "source": [
    "# Миксуем рецепт коктейля `agent` 00х"
   ]
  },
  {
   "cell_type": "code",
   "execution_count": 25,
   "metadata": {},
   "outputs": [
    {
     "name": "stderr",
     "output_type": "stream",
     "text": [
      "/tmp/ipykernel_37267/929394129.py:11: LangChainDeprecationWarning: LangChain agents will continue to be supported, but it is recommended for new use cases to be built with LangGraph. LangGraph offers a more flexible and full-featured framework for building agents, including support for tool-calling, persistence of state, and human-in-the-loop workflows. For details, refer to the `LangGraph documentation <https://langchain-ai.github.io/langgraph/>`_ as well as guides for `Migrating from AgentExecutor <https://python.langchain.com/docs/how_to/migrate_agent/>`_ and LangGraph's `Pre-built ReAct agent <https://langchain-ai.github.io/langgraph/how-tos/create-react-agent/>`_.\n",
      "  agent = initialize_agent(\n"
     ]
    }
   ],
   "source": [
    "# Создание инструмента\n",
    "agent_tools = [\n",
    "    Tool(\n",
    "        name=\"Cocktail Recipe Finder\",\n",
    "        func=retrieval_qa.run,\n",
    "        description=\"Находит рецепты коктейлей по заданным ингредиентам.\"\n",
    "    )\n",
    "]\n",
    "\n",
    "# создание агента\n",
    "agent = initialize_agent(\n",
    "    tools=agent_tools, \n",
    "    llm=llm, \n",
    "    agent=\"zero-shot-react-description\", \n",
    "    verbose=True,\n",
    "    system_prompt=system_prompt         # не забыть указать системный промт для вкуса\n",
    ")"
   ]
  },
  {
   "cell_type": "markdown",
   "metadata": {},
   "source": [
    "# Задаём общие параметры, после чего коктейль готов"
   ]
  },
  {
   "cell_type": "code",
   "execution_count": 26,
   "metadata": {},
   "outputs": [],
   "source": [
    "# Объявление функции на ввод данных от пользователя\n",
    "\n",
    "def get_user_input():\n",
    "    \"\"\"\n",
    "    Запрашивает у пользователя ингредиенты для поиска рецептов.\n",
    "    \"\"\"\n",
    "    user_input = input(\"Введите ингредиенты, разделенные запятыми: \")\n",
    "    ingredients = [ingredient.strip() for ingredient in user_input.split(\",\")]\n",
    "    return ingredients\n"
   ]
  },
  {
   "cell_type": "code",
   "execution_count": null,
   "metadata": {},
   "outputs": [
    {
     "name": "stdout",
     "output_type": "stream",
     "text": [
      "Добро пожаловать в поиск коктейлей!\n",
      "Запрашиваю информацию...\n",
      "\n",
      "\n",
      "\u001b[1m> Entering new AgentExecutor chain...\u001b[0m\n",
      "\u001b[32;1m\u001b[1;3mЯ должен найти информацию о коктейле \"ОЛДОС ХАКСЛИ\" и его ингредиентах. \n",
      "Action: Cocktail Recipe Finder\n",
      "Action Input: \"ОЛДОС ХАКСЛИ\"\u001b[0m\n",
      "Observation: \u001b[36;1m\u001b[1;3mНе знаю.\u001b[0m\n",
      "Thought:\u001b[32;1m\u001b[1;3mЯ не смог найти информацию о коктейле \"ОЛДОС ХАКСЛИ\". Возможно, его название написано неправильно или он не является популярным коктейлем. Я должен попробовать найти другие варианты или уточнить запрос. \n",
      "\n",
      "Action: Cocktail Recipe Finder\n",
      "Action Input: \"OLDOS HUXLEY\"\u001b[0m\n",
      "Observation: \u001b[36;1m\u001b[1;3mЯ не знаю.\u001b[0m\n",
      "Thought:\u001b[32;1m\u001b[1;3mЯ не смог найти информацию о коктейле \"OLDOS HUXLEY\". Возможно, это редкий или нестандартный коктейль. Я должен попробовать найти другие популярные коктейли или уточнить запрос. \n",
      "\n",
      "Action: Cocktail Recipe Finder\n",
      "Action Input: \"коктейли\"\u001b[0m\n",
      "Observation: \u001b[36;1m\u001b[1;3mВ вашем запросе упоминаются несколько коктейлей. Вот некоторые из них:\n",
      "\n",
      "1. **А**:\n",
      "   - 30 мл вишневого сока\n",
      "   - 15 мл бренди\n",
      "   - 15 мл ликера трипл-сек\n",
      "   - Сахар для украшения\n",
      "\n",
      "   Приготовление: Декорировать охлажденный коктейльный бокал сахарной крастой. Ингредиенты вместе со льдом поместить в шейкер, взболтать и процедить в бокал.\n",
      "\n",
      "2. **151 градус по Бакарди**:\n",
      "   - 30 мл дынного ликера\n",
      "   - 30 мл текилы\n",
      "   - 180–240 мл газированной воды\n",
      "\n",
      "   Приготовление: Наполнить стакан хайбол льдом, добавить ликер и текилу, затем газировку.\n",
      "\n",
      "3. **Грех Гекльберри Финна**:\n",
      "   - 60 мл водки\n",
      "   - 30 мл лимончелло\n",
      "   - 15 мл лимонного сока\n",
      "\n",
      "   Приготовление: Взболтать ингредиенты в шейкере со льдом.\n",
      "\n",
      "4. **Сердце темного тумана**:\n",
      "   - 60 мл писко\n",
      "   - 200–250 мл кока-колы\n",
      "\n",
      "   Приготовление: Налить писко в стакан хайбол с льдом и долить кока-колу.\n",
      "\n",
      "5. **Дранкенштейн**:\n",
      "   - 30 мл дынного ликера\n",
      "   - 30 мл текилы\n",
      "\n",
      "   Приготовление: Ингредиенты смешать, но будьте осторожны с количеством.\n",
      "\n",
      "Если вам нужны рецепты других коктейлей или дополнительная информация, дайте знать!\u001b[0m\n",
      "Thought:\u001b[32;1m\u001b[1;3mЯ не смог найти информацию о коктейле \"ОЛДОС ХАКСЛИ\", но нашел несколько других коктейлей с их ингредиентами. Возможно, это поможет вам. \n",
      "\n",
      "Final Answer: Я не смог найти ингредиенты коктейля \"ОЛДОС ХАКСЛИ\". Если вам нужны рецепты других коктейлей, дайте знать!\u001b[0m\n",
      "\n",
      "\u001b[1m> Finished chain.\u001b[0m\n",
      "\n",
      "Результат поиска:\n",
      "Я не смог найти ингредиенты коктейля \"ОЛДОС ХАКСЛИ\". Если вам нужны рецепты других коктейлей, дайте знать!\n",
      "Спасибо за использование поиска коктейлей! До свидания!\n"
     ]
    }
   ],
   "source": [
    "# Формирование запроса и вывод результата\n",
    "\n",
    "def main():\n",
    "    print(\"Добро пожаловать в поиск коктейлей!\")\n",
    "\n",
    "    while True:\n",
    "        ingredients = get_user_input()\n",
    "        if not ingredients:\n",
    "            print(\"Вы не ввели ингредиенты. Попробуйте снова.\")\n",
    "            continue\n",
    "        \n",
    "        # Формируем текстовый запрос\n",
    "        user_prompt = (\n",
    "                \"\"\"Ты являешься помощником для выполнения заданий по созданию коктейлей. \n",
    "                Вот контекст, который нужно использовать для ответа на вопрос:\n",
    "                У тебя есть коллекция коктейлей, вдохновленных великими литературными произведениями. \n",
    "                Каждый коктейль имеет свои уникальные ингредиенты и способы приготовления.\n",
    "                \n",
    "                Дай ответ на этот вопрос, используя только вышеуказанный контекст. \n",
    "                Для каждого коктейля напиши название и подробный способ приготовления и укажи пропорции по представленному ниже примеру. \n",
    "                Используй четкий и лаконичный формат, представленный в примере. \n",
    "                Не добавляй лишнюю информацию, которая не относится к рецепту. \n",
    "                Ответ должен содержать название коктейля, хранимое в базе, и его рецептуру.\n",
    "                \n",
    "                ===\n",
    "                Пример:\n",
    "                    коктейль \"Над пропастью с ржаным\" (на восемь персон):\n",
    "                    - 350 мл ржаного виски;\n",
    "                    - 120 мл ананасового сока;\n",
    "                    - 60 мл лимонного сока;\n",
    "                    - 1 л имбирного пива (истинно американский напиток, который непросто отыскать на наших просторах).\n",
    "                    Виски и соки заливаем в чашу для пунша, где уже лежит глыба льда.\n",
    "                ===\n",
    "                Теперь просмотрите вопрос пользователя:\n",
    "                Из представленных ниже ингредиентов, какие коктейли можно изготовить?\"\"\"\n",
    "                f\"Ингредиенты: {ingredients}.format(ingredients=\", \".join(ingredients))\"\n",
    "                \"\"\"===\n",
    "                Ответ:\"\"\"\n",
    "            )\n",
    "        \n",
    "        #user_prompt = (\n",
    "        #    \"\"\"Напиши, какие коктейли можно изготовить из представленных ниже ингредиентов. \n",
    "        #    Для каждого коктейля опиши подробный способ приготовления и укажи пропорции по представленному ниже примеру. \n",
    "        #    Отвечай строго на русском языке, используя четкий и лаконичный формат, представленный в примере. \n",
    "        #    Не добавляй лишнюю информацию, которая не относится к рецепту. \n",
    "        #    Ответ должен содержать название коктейля, хранимое в базе, и его рецептуру.\n",
    "        #    Если в запросе указан \"виски\" и \"сок\", то ответ должен быть как в примере. \n",
    "        #    ===\n",
    "        #    Пример:\n",
    "        #        коктейль \"Над пропастью с ржаным\" (на восемь персон):\n",
    "        #        - 350 мл ржаного виски;\n",
    "        #        - 120 мл ананасового сока;\n",
    "        #        - 60 мл лимонного сока;\n",
    "        #        - 1 л имбирного пива (истинно американский напиток, который непросто отыскать на наших просторах).\n",
    "        #        Виски и соки заливаем в чашу для пунша, где уже лежит глыба льда.\n",
    "        #    ===\n",
    "        #    Ингредиенты: {ingredients}\"\"\".format(ingredients=\", \".join(ingredients))\n",
    "        #)\n",
    "\n",
    "\n",
    "        print(\"Запрашиваю информацию...\")\n",
    "        response = agent.run(user_prompt)\n",
    "        print(\"\\nРезультат поиска:\")\n",
    "        print(response)\n",
    "\n",
    "        # Предложение продолжить или завершить\n",
    "        cont = input(\"Хотите выполнить ещё один запрос? (да/нет): \").strip().lower()\n",
    "        if cont != \"да\":\n",
    "            print(\"Спасибо за использование поиска коктейлей! До свидания!\")\n",
    "            break\n",
    "\n",
    "if __name__ == \"__main__\":\n",
    "    main()\n"
   ]
  },
  {
   "cell_type": "code",
   "execution_count": 32,
   "metadata": {},
   "outputs": [],
   "source": [
    "\"\"\"## Если не хотите платить денежков, то запустите эту ячейку\n",
    "from langchain.chains import LLMChain\n",
    "from langchain_huggingface import HuggingFaceEndpoint\n",
    "from langchain.embeddings import HuggingFaceEmbeddings\n",
    "\n",
    "# Считываем ключ из файла\n",
    "with open('../utils.key', 'r') as file:\n",
    "    for line in file:\n",
    "        if line.startswith('HUGGINGFACEHUB_API_TOKEN'):\n",
    "            # Извлекаем ключ, убирая лишние пробелы и символы\n",
    "            course_api_key = line.split('=')[1].strip()\n",
    "            break\n",
    "\n",
    "# Создаем объект языкового модели\n",
    "llm = HuggingFaceEndpoint(\n",
    "      #repo_id=\"IlyaGusev/saiga_llama3_8b\",\n",
    "      repo_id=\"mistralai/Mistral-7B-Instruct-v0.3\",\n",
    "      task=\"text-generation\",  # Вид задачи, в нашем случае - генерация текста\n",
    "      huggingfacehub_api_token = course_api_key\n",
    "    )\"\"\""
   ]
  },
  {
   "cell_type": "code",
   "execution_count": 77,
   "metadata": {},
   "outputs": [],
   "source": [
    "\"\"\"messages = [\n",
    "        {\"role\": \"system\", \"content\": system_prompt},\n",
    "        {\"role\": \"user\", \"content\": user_prompt}\n",
    "    ]\"\"\"\n",
    "\"\"\"# Получаем ответ от модели\n",
    "response = llm(messages).content\n",
    "\n",
    "# Выводим ответ\n",
    "print(\"Рецепт коктейлей:\\n\")\n",
    "print(response)\"\"\""
   ]
  },
  {
   "cell_type": "markdown",
   "metadata": {},
   "source": [
    "# Модифицируем коктейль"
   ]
  },
  {
   "cell_type": "code",
   "execution_count": null,
   "metadata": {},
   "outputs": [],
   "source": [
    "# Используем db_embed для поиска рецептов на основе ингредиентов\n",
    "def search_cocktails_in_db(ingredients_str):\n",
    "    # Здесь вы можете реализовать поиск по вашей базе данных FAISS\n",
    "    # Например, используя векторизацию ингредиентов и выполнение поиска\n",
    "        # Предположим, что у вас есть функция для этого:\n",
    "    results = db_embed.similarity_search(ingredients_str)  # Псевдокод для поиска\n",
    "    return results\n",
    "\n",
    "# Выполняем поиск в базе данных\n",
    "search_results = search_cocktails_in_db(ingredients_str)\n",
    "\n",
    "# Обрабатываем результаты поиска и формируем запрос к агенту\n",
    "if search_results:\n",
    "    # Извлекаем нужные данные из результатов поиска (например, текст документа)\n",
    "    cocktail_names = [result.page_content for result in search_results]  # Используем page_content для получения текста\n",
    "    cocktail_names_str = \", \".join(cocktail_names)\n",
    "    \n",
    "    # Вызываем функцию получения рецептов с найденными коктейлями\n",
    "    response = get_cocktail_recipes(cocktail_names_str, iba_category)\n",
    "else:\n",
    "    response = \"Коктейли не найдены по заданным ингредиентам.\"\n",
    "\n",
    "# Выводим ответ\n",
    "print(\"Рецепт коктейлей:\\n\")\n",
    "print(response)"
   ]
  },
  {
   "cell_type": "markdown",
   "metadata": {},
   "source": [
    "## Если используем модель с Hugging Face"
   ]
  },
  {
   "cell_type": "code",
   "execution_count": null,
   "metadata": {},
   "outputs": [],
   "source": [
    "\"\"\"# Если выбрали модель с HuggingFace\n",
    "# Объединяем системный и пользовательский промты в одну строку\n",
    "full_prompt = f\"{system_prompt}\\n{user_prompt}\"\n",
    "\n",
    "# Получаем ответ от модели\n",
    "response = llm(full_prompt)\n",
    "\n",
    "# Выводим ответ\n",
    "print(response)\"\"\""
   ]
  },
  {
   "cell_type": "markdown",
   "metadata": {},
   "source": [
    "## Меняем стиль ответа"
   ]
  },
  {
   "cell_type": "code",
   "execution_count": null,
   "metadata": {},
   "outputs": [],
   "source": [
    "# Функция выбора стиля ответа\n",
    "\n",
    "def choose_style():\n",
    "    styles = {\n",
    "        \"1\": \"стиль космического ужаса и хтонического мрака Говарда Ф. Лавкрафта\",\n",
    "        \"2\": \"гопническо-быдляцкий жаргон\",\n",
    "        \"3\": \"экспериментальный стиль нарезок Уильяма Берроуза\",\n",
    "        \"4\": \"Стиль барного меню\"  # Стиль по умолчанию\n",
    "    }\n",
    "    #print(\"Доступные стили ответа:\")\n",
    "    for key, value in styles.items():\n",
    "        print(f\"{key}: {value}\")\n",
    "    chosen_style = input(\"Выберите номер стиля (по умолчанию 4): \") or \"4\"\n",
    "    return styles.get(chosen_style, \"style4\")\n",
    "\n",
    "style = choose_style()\n",
    "prompt = PromptTemplate(input_variables=['output_text', 'style'],\n",
    "                        template='''Перепиши этот текст в заданном стиле: {output_text}\\nСтиль: {style}.\\nРезультат:''')\n",
    "style_changer_chain = prompt | llm\n",
    "\n",
    "styled_response = style_changer_chain.invoke({'output_text': response, 'style': style}).content\n",
    "print(\"\\nОтвет в выбранном стиле:\")\n",
    "print(styled_response)"
   ]
  },
  {
   "cell_type": "markdown",
   "metadata": {},
   "source": [
    "# Разные способы поиска цен на ингредиенты"
   ]
  },
  {
   "cell_type": "markdown",
   "metadata": {},
   "source": [
    "## Поиск с помощью агента\n",
    "1. Инструменты LangChain:\n",
    "    - Мы можем использовать инструменты, такие как `DuckDuckGoSearchRun` (для поиска через DuckDuckGo), или создать собственные инструменты для взаимодействия с API магазинов (например, Winelab, SimpleWine и других).\n",
    "2. Агент LangChain:\n",
    "    - Агент будет обрабатывать запросы, отправлять их в поисковые инструменты и агрегировать ответы.\n",
    "3. Поиск стоимости товара:\n",
    "    - Агент использует инструменты, чтобы найти релевантную информацию о стоимости алкогольных ингредиентов."
   ]
  },
  {
   "cell_type": "code",
   "execution_count": null,
   "metadata": {},
   "outputs": [],
   "source": [
    "pip install -U duckduckgo-search -q"
   ]
  },
  {
   "cell_type": "code",
   "execution_count": null,
   "metadata": {},
   "outputs": [],
   "source": [
    "from langchain.agents import initialize_agent, Tool\n",
    "from langchain.tools import DuckDuckGoSearchRun\n",
    "from langchain.llms import OpenAI\n",
    "\n",
    "# Подключение LLM\n",
    "#llm = OpenAI(temperature=0.0, openai_api_key=course_api_key)\n",
    "\n",
    "# Создаем поисковый инструмент DuckDuckGo\n",
    "search = DuckDuckGoSearchRun()\n",
    "\n",
    "# Добавляем инструмент в список\n",
    "tools = [\n",
    "    Tool(\n",
    "        name=\"Search ingredient\",\n",
    "        func=search.run,\n",
    "        description=\"Используйте этот инструмент для поиска информации об ингредиентах и ценах на самые популярные из них.\"\n",
    "    )\n",
    "]\n",
    "\n",
    "# Инициализация агента\n",
    "price_agent = initialize_agent(\n",
    "    tools=tools,\n",
    "    llm=llm,\n",
    "    agent=\"zero-shot-react-description\",  # Используем Zero-shot агент\n",
    "    verbose=True\n",
    ")\n",
    "\n",
    "# Формируем промт для поиска цен на товар\n",
    "ingredient = \"бурбон\"\n",
    "city = \"Санкт-Петербург\"\n",
    "prompt = (\n",
    "    f\"Найдите цену на продукт '{ingredient}' в интернет-магазинах {city}. \"\n",
    "    \"\"\"Если вариантов несколько, укажите 3 лучших результата. \n",
    "    Если в ответе название пишется на языке производителя, то оставь как есть. Название валюты и объём должны быть указаны на русском языке. \n",
    "    Укажи ответ в формате: название экземпляра, стоимость в среднем ценовом диапазоне, объём, ссылка на магазин, если имеется; если нет, то ничего не писать. \n",
    "    Если вариантов ответа несколько, то отобрази их в виде вертикального списка, где каждый новый вариант отображается с новой строки. \"\"\"\n",
    ")\n",
    "\n",
    "# Выполнение агента\n",
    "result = price_agent.run(prompt)\n",
    "\n",
    "print(result)\n"
   ]
  },
  {
   "cell_type": "markdown",
   "metadata": {},
   "source": [
    "## Поиск с помощью `RAG`\n",
    "\n",
    "Общая стратегия:\n",
    "\n",
    "1. Использование `WebLoader` для сбора данных:\n",
    "   - скачиваем страницы для каждой категории алкоголя с сайтов, таких как `Winelab`.\n",
    "   - сохраняем их текстовое содержимое (например, названия и цены продуктов) в векторное хранилище.\n",
    "1. Создание векторного хранилища:\n",
    "    - разбиваем загруженные данные на чанки.\n",
    "    - индексируем их с помощью векторизатора (например, FAISS или Chroma).\n",
    "1. Поиск ингредиентов:\n",
    "    - при запросе пользователя (например, \"водка\"), извлекаем соответствующую информацию из хранилища.\n",
    "1. Использование `LangChain`:\n",
    "    - для загрузки данных используем WebBaseLoader из LangChain.\n",
    "    - для индексации данных — инструменты LangChain, такие как Chroma или FAISS.\n",
    "    - для обработки запросов пользователя — цепочки, основанные на LLM (например, `OpenAI API`)."
   ]
  },
  {
   "cell_type": "code",
   "execution_count": null,
   "metadata": {},
   "outputs": [],
   "source": [
    "pip install bs4 langchain-openai faiss-cpu -q"
   ]
  },
  {
   "cell_type": "code",
   "execution_count": null,
   "metadata": {},
   "outputs": [],
   "source": [
    "import os\n",
    "from langchain.document_loaders import WebBaseLoader\n",
    "from langchain.text_splitter import RecursiveCharacterTextSplitter\n",
    "from langchain.embeddings import OpenAIEmbeddings\n",
    "from langchain.vectorstores import FAISS\n",
    "from langchain.chains import RetrievalQA\n",
    "from langchain.llms import OpenAI\n",
    "\n",
    "# Установите ваш ключ API\n",
    "# Считываем ключ из файла\n",
    "with open('../utils.key', 'r') as file:\n",
    "    for line in file:\n",
    "        if line.startswith('OPENAI_API_KEY'):\n",
    "            # Извлекаем ключ, убирая лишние пробелы и символы\n",
    "            course_api_key = line.split('=')[1].strip()\n",
    "            break\n",
    "\n",
    "# 1. Сбор данных с категорий сайта\n",
    "def fetch_and_index_alcohol_data():\n",
    "    categories = {\n",
    "        \"absinthe\": \"https://www.winelab.ru/catalog/krepkiy-alkogol-absent\",\n",
    "        \"vodka\": \"https://www.winelab.ru/catalog/krepkiy-alkogol-vodka\",\n",
    "        \"whiskey\": \"https://www.winelab.ru/catalog/krepkiy-alkogol-viski\",\n",
    "    }\n",
    "\n",
    "    documents = []\n",
    "    for category, url in categories.items():\n",
    "        try:\n",
    "            loader = WebBaseLoader(url)\n",
    "            category_docs = loader.load()\n",
    "            documents.extend(category_docs)\n",
    "            print(f\"Загружено {len(category_docs)} документов из {url}.\")\n",
    "        except Exception as e:\n",
    "            print(f\"Ошибка при загрузке данных из {url}: {e}\")\n",
    "\n",
    "    print(f\"Всего загружено документов: {len(documents)}\")\n",
    "    return documents\n",
    "\n",
    "# 2. Разбивка текста на чанки\n",
    "def split_documents(documents):\n",
    "    splitter = RecursiveCharacterTextSplitter(chunk_size=1000, chunk_overlap=100)\n",
    "    chunks = splitter.split_documents(documents)\n",
    "    print(f\"Всего создано чанков: {len(chunks)}\")\n",
    "    return chunks\n",
    "\n",
    "\n",
    "# 3. Индексация данных с использованием FAISS\n",
    "def create_faiss_index(chunks):\n",
    "    if not chunks:\n",
    "        raise ValueError(\"Нет данных для индексации. Проверьте загрузку и разбивку документов.\")\n",
    "    \n",
    "    embeddings = OpenAIEmbeddings(openai_api_key=course_api_key)\n",
    "    vectorstore = FAISS.from_documents(chunks, embeddings)\n",
    "    return vectorstore\n",
    "\n",
    "\n",
    "# 4. Создание цепочки RAG для поиска\n",
    "def create_retrieval_chain(vectorstore):\n",
    "    retriever = vectorstore.as_retriever()\n",
    "    llm = OpenAI(temperature=0.0, openai_api_key=course_api_key)\n",
    "    chain = RetrievalQA(llm=llm, retriever=retriever)\n",
    "    return chain\n",
    "\n",
    "# Основная функция\n",
    "def main():\n",
    "    print(\"Сбор данных...\")\n",
    "    documents = fetch_and_index_alcohol_data()\n",
    "    print(\"Разделение на чанки...\")\n",
    "    chunks = split_documents(documents)\n",
    "    print(\"Создание векторного индекса...\")\n",
    "    vectorstore = create_faiss_index(chunks)\n",
    "    print(\"Создание цепочки RAG...\")\n",
    "    rag_chain = create_retrieval_chain(vectorstore)\n",
    "\n",
    "    # Поиск цены ингредиента\n",
    "    ingredient_query = \"водка\"\n",
    "    print(f\"Поиск для: {ingredient_query}\")\n",
    "    result = rag_chain.run(ingredient_query)\n",
    "    print(f\"Результат: {result}\")\n",
    "\n",
    "if __name__ == \"__main__\":\n",
    "    main()"
   ]
  },
  {
   "cell_type": "markdown",
   "metadata": {},
   "source": [
    "## Поиск `в лоб`"
   ]
  },
  {
   "cell_type": "code",
   "execution_count": null,
   "metadata": {},
   "outputs": [],
   "source": [
    "import requests\n",
    "import re\n",
    "\n",
    "def search_price_with_specific_cookies(ingredient):\n",
    "    \"\"\"\n",
    "    Функция для поиска цен на алкогольные ингредиенты с индивидуальными куки для каждого магазина.\n",
    "    \"\"\"\n",
    "    stores = [\n",
    "        {\n",
    "            \"name\": \"Winelab\",\n",
    "            \"url\": lambda ing: f\"https://www.winelab.ru/search/facets?text={ing}\",\n",
    "            \"cookies\": {\"age-confirmed\": \"1\"},\n",
    "            \"title_pattern\": r'<a class=\"product-card__link\" .*? title=\"(.*?)\"',\n",
    "            \"price_pattern\": r'<div class=\"price__main-value\">(.*?)</div>',\n",
    "            \"link_pattern\": r'<a class=\"product-card__link\" href=\"(.*?)\"',\n",
    "            \"link_prefix\": \"https://www.winelab.ru\"\n",
    "        },\n",
    "        {\n",
    "            \"name\": \"SimpleWine\",\n",
    "            \"url\": lambda ing: f\"https://simplewine.ru/catalog/?q={ing}\",\n",
    "            \"cookies\": {\"age-confirm\": \"1\"},\n",
    "            \"title_pattern\": r'<a class=\"product-card__title-link\" .*?>(.*?)</a>',\n",
    "            \"price_pattern\": r'<div class=\"product-card__price-current\">(.*?)</div>',\n",
    "            \"link_pattern\": r'<a class=\"product-card__title-link\" href=\"(.*?)\"',\n",
    "            \"link_prefix\": \"https://simplewine.ru\"\n",
    "        }\n",
    "    ]\n",
    "\n",
    "    results = []\n",
    "\n",
    "    for store in stores:\n",
    "        try:\n",
    "            headers = {\n",
    "                \"User-Agent\": \"Mozilla/5.0 (X11; Ubuntu; Linux x86_64; rv:133.0) Gecko/20100101 Firefox/133.0\"\n",
    "            }\n",
    "            response = requests.get(store[\"url\"](ingredient), headers=headers, cookies=store[\"cookies\"], timeout=5)\n",
    "            if response.status_code == 200:\n",
    "                # Извлечение данных о товарах\n",
    "                titles = re.findall(store[\"title_pattern\"], response.text)\n",
    "                prices = re.findall(store[\"price_pattern\"], response.text)\n",
    "                links = re.findall(store[\"link_pattern\"], response.text)\n",
    "\n",
    "                for title, price, link in zip(titles[:3], prices[:3], links[:3]):\n",
    "                    full_link = f\"{store['link_prefix']}{link}\"\n",
    "                    results.append(f\"- {title.strip()} {price.strip()} рублей {full_link} ({store['name']})\")\n",
    "\n",
    "                if results:\n",
    "                    break  # Если найдены результаты, завершаем поиск\n",
    "            else:\n",
    "                results.append(f\"Ошибка доступа к {store['name']} для {ingredient}: статус {response.status_code}\")\n",
    "        except Exception as e:\n",
    "            results.append(f\"Ошибка при выполнении поиска в {store['name']} для {ingredient}: {str(e)}\")\n",
    "\n",
    "    if not results:\n",
    "        results.append(f\"Данные о наличии в продаже {ingredient} не найдены.\")\n",
    "\n",
    "    return \"\\n\".join(results)\n",
    "\n",
    "# Пример использования\n",
    "ingredient_name = \"джин\"\n",
    "print(search_price_with_specific_cookies(ingredient_name))"
   ]
  },
  {
   "cell_type": "code",
   "execution_count": null,
   "metadata": {},
   "outputs": [],
   "source": [
    "# Разбор коктейля и ингредиентов для поиска цен\n",
    "pattern = r\"\\*\\*(.*?)\\*\\*:.*?((?:\\n\\s*-\\s*.*?\\n)+)\"\n",
    "match = re.search(pattern, response, re.DOTALL)\n",
    "if match:\n",
    "    cocktail_name = match.group(1)\n",
    "    ingredients_section = match.group(2)\n",
    "    print(f\"\\nКоктейль: {cocktail_name}\")\n",
    "    print(f\"Ингредиенты:\")\n",
    "    print(ingredients_section)\n",
    "    \n",
    "    # Поиск цен для каждого ингредиента\n",
    "    ingredient_lines = ingredients_section.strip().split(\"\\n\")\n",
    "    for line in ingredient_lines:\n",
    "        ingredient_match = re.search(r\"-\\s*\\d+\\s*мл\\s*([^\\n]+)\", line)\n",
    "        if ingredient_match:\n",
    "            ingredient_name = ingredient_match.group(1)\n",
    "            print(f\"\\nИщем цену для: {ingredient_name}\")\n",
    "            prices = search_price(ingredient_name)\n",
    "            print(prices)\n",
    "        else:\n",
    "            print(f\"\\nНе удалось извлечь название ингредиента из строки: {line}\")\n",
    "else:\n",
    "    print(\"Не удалось найти информацию о коктейле и ингредиентах в ответе модели.\")"
   ]
  },
  {
   "cell_type": "markdown",
   "metadata": {},
   "source": [
    "## Поиск с помощью Selenium"
   ]
  },
  {
   "cell_type": "code",
   "execution_count": null,
   "metadata": {},
   "outputs": [],
   "source": [
    "pip install selenium -q"
   ]
  },
  {
   "cell_type": "code",
   "execution_count": null,
   "metadata": {},
   "outputs": [],
   "source": [
    "from selenium import webdriver\n",
    "from selenium.webdriver.chrome.service import Service\n",
    "from selenium.webdriver.chrome.options import Options\n",
    "from selenium.webdriver.common.by import By\n",
    "from selenium.webdriver.common.keys import Keys\n",
    "from selenium.webdriver.support.ui import WebDriverWait\n",
    "from selenium.webdriver.support import expected_conditions as EC\n",
    "import time\n",
    "\n",
    "def search_price_with_selenium(ingredient):\n",
    "    \"\"\"\n",
    "    Поиск цен на ингредиенты с использованием Selenium.\n",
    "    \"\"\"\n",
    "    # Укажите путь к вашему WebDriver\n",
    "    service = Service('/home/elijah/Documents/chromedriver-linux64/chromedriver')  # Укажите корректный путь к ChromeDriver\n",
    "    chrome_options = Options()\n",
    "    chrome_options.add_argument(\"--headless\")  # Запуск в безголовом режиме\n",
    "    chrome_options.add_argument(\"--no-sandbox\")\n",
    "    chrome_options.add_argument(\"--disable-dev-shm-usage\")\n",
    "    chrome_options.add_argument(\"--disable-gpu\")\n",
    "\n",
    "    driver = webdriver.Chrome(service=service, options=chrome_options)\n",
    "\n",
    "    results = []\n",
    "    try:\n",
    "        # Магазин Winelаб\n",
    "        driver.get(\"https://www.winelab.ru\")\n",
    "\n",
    "        # Подтверждение возраста\n",
    "        age_button = WebDriverWait(driver, 10).until(\n",
    "            EC.element_to_be_clickable((By.CLASS_NAME, \"age-confirm\"))\n",
    "        )\n",
    "        age_button.click()\n",
    "\n",
    "        # Поиск ингредиента\n",
    "        search_box = WebDriverWait(driver, 10).until(\n",
    "            EC.presence_of_element_located((By.NAME, \"text\"))  # Обратите внимание на имя поля\n",
    "        )\n",
    "\n",
    "        # Добавление небольшой задержки для обеспечения доступности элемента\n",
    "        time.sleep(1)\n",
    "\n",
    "        # Используем JavaScript для установки значения в поле ввода\n",
    "        driver.execute_script(\"arguments[0].value = arguments[1];\", search_box, ingredient)\n",
    "        \n",
    "        # Теперь вызываем событие input для имитации ввода текста\n",
    "        search_box.send_keys(Keys.RETURN)\n",
    "\n",
    "        # Найдите кнопку отправки и нажмите ее (если это необходимо)\n",
    "        # search_button = driver.find_element(By.CLASS_NAME, \"js_search_button\")\n",
    "        # search_button.click()\n",
    "\n",
    "        # Сбор результатов\n",
    "        products = WebDriverWait(driver, 10).until(\n",
    "            EC.presence_of_all_elements_located((By.CLASS_NAME, \"product-card\"))\n",
    "        )\n",
    "        \n",
    "        for product in products[:3]:  # Берём максимум 3 результата\n",
    "            title = product.find_element(By.CLASS_NAME, \"product-card__title\").text\n",
    "            price = product.find_element(By.CLASS_NAME, \"price__main-value\").text\n",
    "            \n",
    "            results.append(f\"- {title} {price.strip()} рублей\")\n",
    "\n",
    "    except Exception as e:\n",
    "        results.append(f\"Ошибка при обработке ингредиента {ingredient}: {str(e)}\")\n",
    "    finally:\n",
    "        driver.quit()\n",
    "\n",
    "    return results if results else f\"Данные о наличии в продаже {ingredient} не найдены.\"\n",
    "\n",
    "# Пример использования\n",
    "ingredient_name = \"водка\"\n",
    "print(search_price_with_selenium(ingredient_name))"
   ]
  }
 ],
 "metadata": {
  "kernelspec": {
   "display_name": ".venv",
   "language": "python",
   "name": "python3"
  },
  "language_info": {
   "codemirror_mode": {
    "name": "ipython",
    "version": 3
   },
   "file_extension": ".py",
   "mimetype": "text/x-python",
   "name": "python",
   "nbconvert_exporter": "python",
   "pygments_lexer": "ipython3",
   "version": "3.10.12"
  }
 },
 "nbformat": 4,
 "nbformat_minor": 4
}
