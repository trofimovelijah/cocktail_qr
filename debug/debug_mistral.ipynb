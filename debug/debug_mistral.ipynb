{
 "cells": [
  {
   "cell_type": "markdown",
   "metadata": {},
   "source": [
    "## Импорт и определение библиотек"
   ]
  },
  {
   "cell_type": "code",
   "execution_count": null,
   "metadata": {},
   "outputs": [],
   "source": [
    "# отключение параллелизма\n",
    "import os\n",
    "os.environ[\"TOKENIZERS_PARALLELISM\"] = \"false\""
   ]
  },
  {
   "cell_type": "code",
   "execution_count": null,
   "metadata": {},
   "outputs": [],
   "source": [
    "# ставим разные пакеты оттуда\n",
    "!pip install langchain langchain-community langchain_huggingface unstructured pypandoc -q\n",
    "!pip install faiss-cpu -q\n",
    "!pip install langchain-ollama -q"
   ]
  },
  {
   "cell_type": "code",
   "execution_count": null,
   "metadata": {},
   "outputs": [],
   "source": [
    "# импортируем библиотеки\n",
    "from langchain.document_loaders import WebBaseLoader, PyPDFLoader, UnstructuredEPubLoader\n",
    "from langchain_core.documents import Document\n",
    "from langchain.prompts import PromptTemplate\n",
    "from langchain.tools import Tool\n",
    "from langchain.agents import initialize_agent\n",
    "from langchain.chains import RetrievalQA\n",
    "from langchain_huggingface import HuggingFaceEmbeddings\n",
    "import tqdm as notebook_tqdm\n",
    "from langchain_community.vectorstores import FAISS\n",
    "from langchain.llms import Ollama\n",
    "from langchain_ollama import OllamaLLM\n",
    "from langchain.text_splitter import TextSplitter\n",
    "from typing import List"
   ]
  },
  {
   "cell_type": "markdown",
   "metadata": {},
   "source": [
    "# Готовим коктейль с помощью RAG\n",
    "## Чутка `embeddings` с `HuggingFace` для оснастки"
   ]
  },
  {
   "cell_type": "code",
   "execution_count": null,
   "metadata": {},
   "outputs": [],
   "source": [
    "# Чтение токена из файла\n",
    "def read_token(file_path): \n",
    "    with open(file_path, 'r') as f:\n",
    "        for line in f:\n",
    "            if line.startswith(\"HUGGINGFACEHUB_API_TOKEN\"):\n",
    "                return line.split('=')[1].strip()\n",
    "    raise ValueError(\"Token not found in the specified file.\")\n",
    "\n",
    "# Загрузка токена\n",
    "hf_token = read_token('../.env')\n",
    "\n",
    "# Формирование эмбеддингов\n",
    "hf_embeddings_model = HuggingFaceEmbeddings(\n",
    "    model_name=\"cointegrated/LaBSE-en-ru\",  \n",
    "    #\"sentence-transformers/paraphrase-multilingual-mpnet-base-v2\", \n",
    "    model_kwargs={\"device\": \"cpu\", \"token\": hf_token},\n",
    "    encode_kwargs={\n",
    "        'normalize_embeddings': True  # Для косинусной схожести\n",
    "    }\n",
    ")"
   ]
  },
  {
   "cell_type": "markdown",
   "metadata": {},
   "source": [
    "## Можно пропустить (если используете наполненную чашу векторного хранилища)\n",
    "### Немного `Document Loader`"
   ]
  },
  {
   "cell_type": "code",
   "execution_count": null,
   "metadata": {},
   "outputs": [],
   "source": [
    "# Загрузка EPUB файла от бармена-литературоведа\n",
    "loader = UnstructuredEPubLoader('../docs/Federle.epub', show_progress=True)\n",
    "doc_epub_mistral = loader.load()\n",
    "\n",
    "# смотрим, скока получилось загрузить\n",
    "print('pages count:', len(doc_epub_mistral))\n",
    "print('max chars on page:', max([len(page.page_content) for page in doc_epub_mistral]))"
   ]
  },
  {
   "cell_type": "code",
   "execution_count": null,
   "metadata": {},
   "outputs": [],
   "source": [
    "\"\"\"# Загружаем книгу от крутого бармена\n",
    "#loader = WebBaseLoader(url)\n",
    "loader = PyPDFLoader('../docs/Bortnik_1000.pdf')\n",
    "data_pdf = loader.load()\n",
    "\n",
    "print('pages count:', len(data_pdf))\n",
    "print('max chars on page:', max([len(page.page_content) for page in data_pdf]))\"\"\"\n",
    "\n",
    "# на тот случай, если решим загружать подобную литературу пачкой pdf\n",
    "\"\"\"\n",
    "#!pip install unstructured \"unstructured[pdf]\" -q\n",
    "from langchain_community.document_loaders import DirectoryLoader\n",
    "loader = DirectoryLoader(\"../docs\", glob=\"**/*.pdf\", show_progress=True)\n",
    "data = loader.load()\"\"\""
   ]
  },
  {
   "cell_type": "markdown",
   "metadata": {},
   "source": [
    "### Исполним `Text splitters` и разобьём на чанки"
   ]
  },
  {
   "cell_type": "code",
   "execution_count": null,
   "metadata": {},
   "outputs": [],
   "source": [
    "class RecipeSplitter(TextSplitter):\n",
    "    def __init__(self):\n",
    "        super().__init__(chunk_size=1000, chunk_overlap=300)\n",
    "    \n",
    "    def split_text(self, text: str) -> List[str]:\n",
    "        # Убираем все пустые строки и лишние пробелы\n",
    "        cleaned_text = \"\\n\".join([line.strip() for line in text.split(\"\\n\") if line.strip()])\n",
    "        \n",
    "        # Разделяем текст на рецепты по маркеру \"НАЗВАНИЕ_РЕЦЕПТА\\nАВТОР\"\n",
    "        chunks = []\n",
    "        current_chunk = []\n",
    "        lines = cleaned_text.split(\"\\n\")\n",
    "        \n",
    "        i = 0\n",
    "        while i < len(lines):\n",
    "            line = lines[i]\n",
    "            # Проверяем начало нового рецепта\n",
    "            if i + 1 < len(lines) and lines[i+1].isupper() and \"(\" in lines[i+1] and \")\" in lines[i+1]:\n",
    "                if current_chunk:\n",
    "                    chunks.append(\"\\n\".join(current_chunk))\n",
    "                    current_chunk = []\n",
    "                current_chunk.append(line)\n",
    "                current_chunk.append(lines[i+1])\n",
    "                i += 2\n",
    "                continue\n",
    "            \n",
    "            current_chunk.append(line)\n",
    "            i += 1\n",
    "        \n",
    "        if current_chunk:\n",
    "            chunks.append(\"\\n\".join(current_chunk))\n",
    "        \n",
    "        return chunks\n",
    "    \n",
    "splitter = RecipeSplitter()"
   ]
  },
  {
   "cell_type": "code",
   "execution_count": 25,
   "metadata": {},
   "outputs": [
    {
     "name": "stdout",
     "output_type": "stream",
     "text": [
      "Количество чанков: 73\n",
      "Максимальное количество символов в чанке: 15125\n"
     ]
    }
   ],
   "source": [
    "chunks = splitter.split_documents(doc_epub_mistral)\n",
    "print('Количество чанков:', len(chunks))\n",
    "print('Максимальное количество символов в чанке:', max([len(chunk.page_content) for chunk in chunks]))"
   ]
  },
  {
   "cell_type": "markdown",
   "metadata": {},
   "source": [
    "### Наполним чашу `Vector Store`"
   ]
  },
  {
   "cell_type": "code",
   "execution_count": null,
   "metadata": {},
   "outputs": [],
   "source": [
    "# Если нужно сохранить новый документ в базу\n",
    "try:\n",
    "    db_embed = FAISS.from_documents(\n",
    "            split_documents, \n",
    "            hf_embeddings_model\n",
    "        )\n",
    "except Exception as e:\n",
    "    raise RuntimeError(f\"Ошибка при создании базы данных FAISS: {e}\")\n",
    "\n",
    "\n",
    "# Сохраняем векторную базу локально\n",
    "db_embed.save_local(\"../data/faiss_db_epub_mistral2\")"
   ]
  },
  {
   "cell_type": "markdown",
   "metadata": {},
   "source": [
    "## Нужно запустить (если используете готовое векторное хранилище)\n",
    "### Испьём чашу `Vector Store`"
   ]
  },
  {
   "cell_type": "code",
   "execution_count": 18,
   "metadata": {},
   "outputs": [],
   "source": [
    "# Если нужно изъять из уже сохранённого документа из базы\n",
    "# Загрузка векторной базы данных из локального файла\n",
    "db_embed = FAISS.load_local(\n",
    "        \"../data/faiss_db_epub_mistral2\", \n",
    "        hf_embeddings_model,\n",
    "        allow_dangerous_deserialization = True\n",
    "    )"
   ]
  },
  {
   "cell_type": "code",
   "execution_count": null,
   "metadata": {},
   "outputs": [],
   "source": [
    "# альтернативный подход для гибридного поиска\n",
    "# возможно нужно будет позже вернуться\n",
    "\"\"\"!pip install rank_bm25 -q\n",
    "\n",
    "from langchain.retrievers import BM25Retriever, EnsembleRetriever\n",
    "\n",
    "# Создаем гибридный поиск (семантический + ключевые слова)\n",
    "bm25_retriever = BM25Retriever.from_documents(split_documents)\n",
    "bm25_retriever.k = 3\n",
    "\n",
    "faiss_retriever = db_embed.as_retriever(search_kwargs={\"k\": 1})\n",
    "\n",
    "ensemble_retriever = EnsembleRetriever(\n",
    "    retrievers=[bm25_retriever, faiss_retriever],\n",
    "    weights=[0.2, 0.8]\n",
    ")\n",
    "\n",
    "# Использование:\n",
    "processed_query = \"ингредиенты: \" + query  # Добавляем контекст для поиска\n",
    "results = ensemble_retriever.invoke(processed_query)\n",
    "for result in results:\n",
    "    print(result.metadata['ingredients'])\"\"\""
   ]
  },
  {
   "cell_type": "code",
   "execution_count": 24,
   "metadata": {},
   "outputs": [
    {
     "name": "stdout",
     "output_type": "stream",
     "text": [
      "Последний из Мохито\n",
      "ПОСЛЕДНИЙ ИЗ МОГИКАН (1826)\n",
      "ДЖЕЙМС ФЕНИМОР КУПЕР\n",
      "Задолго до выхода одноименного фильма «Последний из могикан» считался классическим литературным произведением (хотя и слегка сомнительным в плане историзма). Живописуя хронику борьбы коренного населения против завоевателей, Купер вплетает в повествование многословные пассажи вроде: «Дункан пошел бродить между хижинами, стараясь найти какие-нибудь следы той, ради которой он подвергался опасности. Никто не обращал на него внимания, он мог бы легко бежать…»[1] Мы поможем вам преодолеть самые тягучие отрывки текста. Вооружимся же мохито и развернем свою атаку, для аутентичности заменив сахар сиропом агавы:\n",
      "5 свежих вымытых ягод черники;\n",
      "3 свежих вымытых ягоды земляники;\n",
      "8 свежих тщательно промытых веточек мяты;\n",
      "15 мл лимонного сока;\n",
      "30 мл сиропа агавы;\n",
      "50 мл светлого рома;\n",
      "сильногазированная вода для долива.\n",
      "В стакане коллинз толчем мадлером ягоды, мяту, сок и сироп. Добавляем две пригоршни льда и ром, тщательно перемешиваем, доверху доливаем газировкой. Замираем в ожидании, когда прольются слезы радости.\n",
      "Ром радости и удачи\n",
      "КЛУБ РАДОСТИ И УДАЧИ (1989)\n",
      "ЭМИ ТАН\n",
      "Ах, семейные предания… Помните рассказ бабули, как она в первый раз увидела дедулю среди толпы его лоботрясов-сокурсников и как его пламенный взор немедленно вперился в ее прелести… Хм, бабник он был тот еще, дедуля. Собственно, вот мы к чему: китайскую семейную сагу Эми Тан мог бы пересказать любой, у кого есть словоохотливый родич. И ничто так не располагает к выбалтыванию семейных тайн, как легкий хмель. Достанем же с верхней полки семейные альбомы и полистаем их под сладкий, как печенье с предсказаниями, напиток, приносящий удачу.\n",
      "НА ЧЕТЫРЕ ПОРЦИИ:\n",
      "375 мл светлого рома;\n",
      "375 мл апельсинового сока;\n",
      "125 мл газированной воды;\n",
      "60 мл лимонного сока;\n",
      "60 мл бренди;\n",
      "60 мл оршада.\n",
      "Все ингредиенты, а также две пригоршни льда помещаем в кувшин и тщательно перемешиваем. Разливаем в бокалы, вооружаемся соломинками, смакуем напиток и семейные сплетни; может, даже рискнем спросить дедулю, отчего бабуля в свое время получила прозвище Алиса-всегда-пожалуйста. Или не стоит?..\n",
      "Часть 4. Освежающее для читающе-просыхающих\n",
      "Выполняйте трезвым все, что наобещали пьяным. Это мигом научит вас держать язык за зубами.\n",
      "Эрнест Хемингуэй\n",
      "На любой вечеринке кто-то всегда за рулем. Да и самый закоренелый пьяница порой испытывает потребность слегка притормозить. Доставайте из книжного шкафа наши любимые детские книжки: вспомним времена попроще, когда пристрастия были безобиднее. Для дней похмелья и отдыха мы подготовили коллекцию безалкогольных коктейлей, навеянных историями, когда-то будоражившими наши детские умы, – вам наверняка захочется освежить их в памяти, так сказать, на трезвую голову. Вооружитесь фонариком, накройтесь одеялом с головой, прихватите книжку и с десяток кубиков льда. Что дальше? Отбой, вот что! А вы себе втихаря читайте.\n"
     ]
    }
   ],
   "source": [
    "query = \"черника, агава, ром\"\n",
    "results = db_embed.similarity_search(query, k=2)\n",
    "for result in results:\n",
    "    print(result.page_content)"
   ]
  },
  {
   "cell_type": "markdown",
   "metadata": {},
   "source": [
    "# Месье системный промт"
   ]
  },
  {
   "cell_type": "code",
   "execution_count": null,
   "metadata": {},
   "outputs": [],
   "source": [
    "system_prompt = \"\"\"\n",
    "        Ты — помощник для поиска рецептов коктейлей. У тебя есть доступ к базе данных с рецептами, вдохновлёнными литературными произведениями.\n",
    "        Когда пользователь вводит ингредиенты, используй инструмент \"Cocktail Recipe Finder\", чтобы найти подходящие рецепты.\n",
    "        Если рецепт не найден, предложи альтернативные варианты или уточни запрос.\n",
    "\n",
    "        ===\n",
    "        \n",
    "        Пример:\n",
    "        Пользователь: Какие коктейли можно сделать из водки и апельсинового сока?\n",
    "        Агент: Использую инструмент \"Cocktail Recipe Finder\" для поиска рецептов. Вот что найдено: [рецепт].\n",
    "\n",
    "        ===\n",
    "\n",
    "        Пример корректного ответа по введённым ингредиентам (ржаной виски, грейпфрутовый сок):\n",
    "        Коктейль \"Рожь и предубеждение\"\n",
    "        Состав:\n",
    "        - Ржаной виски (50 мл)\n",
    "        - Грейпфрутовый сок (90 мл)\n",
    "        Способ приготовления:\n",
    "        - Ингредиенты выливаем в стакан рокс поверх кубиков льда, размешиваем в ритме «сердце вскачь». \n",
    "        - Хотим подчеркнуть, юные леди, мы нисколечко не предубеждены против замужества, а лишь призываем вас уяснить главное: чтобы почувствовать себя королевой, не нужно и дворца (как, впрочем, и короля).\n",
    "    \"\"\""
   ]
  },
  {
   "cell_type": "code",
   "execution_count": null,
   "metadata": {},
   "outputs": [],
   "source": [
    "# Промпт для LangChain\n",
    "qa_prompt = PromptTemplate(\n",
    "    template=system_prompt + \"\\nКонтекст: {context}\\nВопрос: {question}\\nОтвет:\",\n",
    "    input_variables=[\"style\", \"context\", \"question\"]\n",
    ")"
   ]
  },
  {
   "cell_type": "markdown",
   "metadata": {},
   "source": [
    "## Полирнём `Retriver` и инициализирует `llm` для вкуса"
   ]
  },
  {
   "cell_type": "code",
   "execution_count": null,
   "metadata": {},
   "outputs": [],
   "source": [
    "# Инициализация модели\n",
    "llm = OllamaLLM(\n",
    "    model=\"mistral:instruct\",\n",
    "    #temperature=0.2,          # Для креативности\n",
    "    num_predict=512,         # Увеличенная длина ответа\n",
    "    stop=[\"\\\\n\\\\n\", \"###\"],   # Стоп-токены\n",
    "    #top_k=40\n",
    ")"
   ]
  },
  {
   "cell_type": "code",
   "execution_count": null,
   "metadata": {},
   "outputs": [],
   "source": [
    "# Модифицируем параметры ретривера\n",
    "retriever = db_embed.as_retriever(\n",
    "    search_type=\"mmr\",              # Maximal Marginal Relevance\n",
    "    search_kwargs={\n",
    "        \"k\": 3,                     # Уменьшаем количество возвращаемых документов\n",
    "        \"fetch_k\": 20,              # Уменьшаем общий пул для поиска\n",
    "        #\"lambda_mult\": 0.5          # Баланс между релевантностью и разнообразием\n",
    "    }\n",
    ")\n",
    "\n",
    "# Инициализация цепочки RetrievalQA\n",
    "retrieval_qa = RetrievalQA.from_chain_type(\n",
    "    llm=llm,\n",
    "    retriever=retriever,\n",
    "    return_source_documents=True\n",
    ")"
   ]
  },
  {
   "cell_type": "markdown",
   "metadata": {},
   "source": [
    "# Миксуем рецепт коктейля `agent` 00х"
   ]
  },
  {
   "cell_type": "code",
   "execution_count": null,
   "metadata": {},
   "outputs": [],
   "source": [
    "# Создание инструмента\n",
    "agent_tools = [\n",
    "    Tool(\n",
    "        name=\"Cocktail Recipe Finder\",\n",
    "        func=retrieval_qa.run,\n",
    "        description=\"Используй этот инструмент, чтобы найти рецепты коктейлей по заданным ингредиентам. Вводи список ингредиентов, и инструмент вернёт подходящие рецепты. Пример: ['сок', 'виски'].\"\n",
    "    )\n",
    "]\n",
    "\n",
    "# создание агента\n",
    "agent = initialize_agent(\n",
    "    tools=agent_tools, \n",
    "    llm=llm, \n",
    "    agent=\"conversational-react-description\",       #\"zero-shot-react-description\", \"plan-and-execute\"\n",
    "    verbose=True,\n",
    "    system_prompt=system_prompt                     # не забыть указать системный промт для вкуса\n",
    ")"
   ]
  },
  {
   "cell_type": "markdown",
   "metadata": {},
   "source": [
    "# Задаём общие параметры, после чего коктейль готов\n",
    "## Вначале коктейль"
   ]
  },
  {
   "cell_type": "code",
   "execution_count": null,
   "metadata": {},
   "outputs": [],
   "source": [
    "# Объявление функции на ввод данных от пользователя\n",
    "def get_user_input():\n",
    "    \"\"\"\n",
    "    Запрашивает у пользователя ингредиенты для поиска рецептов.\n",
    "    \"\"\"\n",
    "    user_input = input(\"Введите ингредиенты, разделенные запятыми: \")\n",
    "    ingredients = [ingredient.strip() for ingredient in user_input.split(\",\")]\n",
    "    return ingredients\n",
    "\n",
    "\n",
    "# Обработка ответа\n",
    "def format_response(response):\n",
    "    if \"не знаю\" in response.lower() or \"не найдено\" in response.lower():\n",
    "        return \"К сожалению, я не нашёл коктейлей с этими ингредиентами. Попробуйте другие ингредиенты.\"\n",
    "    else:\n",
    "        return response\n",
    "    \n",
    "\n",
    "# Функция выбора стиля ответа\n",
    "def choose_style(styles):\n",
    "    chosen_style = input(\"Выберите номер стиля (по умолчанию 4): \") or \"4\"\n",
    "    return styles.get(chosen_style, styles[\"4\"])#[\"name\"]"
   ]
  },
  {
   "cell_type": "code",
   "execution_count": null,
   "metadata": {},
   "outputs": [],
   "source": [
    "def main():\n",
    "    # Определение стилей\n",
    "    styles = {\n",
    "        \"1\": \"стиль космического ужаса и хтонического мрака Говарда Ф. Лавкрафта\",\n",
    "        \"2\": \"гопническо-быдляцкий жаргон\",\n",
    "        \"3\": \"экспериментальный стиль нарезок Уильяма Берроуза\",\n",
    "        \"4\": \"стиль без изменений\"  # Стиль по умолчанию\n",
    "    }\n",
    "    \n",
    "    while True:\n",
    "        ingredients = get_user_input()\n",
    "        if not ingredients:\n",
    "            print(\"Вы не ввели ингредиенты. Попробуйте снова.\")\n",
    "            continue\n",
    "        \n",
    "        # Преобразуем массив ингредиентов в строку\n",
    "        ingredients_str = \", \".join(ingredients)\n",
    "        \n",
    "        # Формируем текстовый запрос\n",
    "        user_prompt = (\n",
    "            \"\"\"Напиши, какие коктейли можно изготовить из представленных ниже ингредиентов. \n",
    "            Для каждого коктейля опиши подробный способ приготовления и укажи пропорции. \n",
    "            Отвечай строго на русском языке, используя чёткий и лаконичный формат. \n",
    "            Не добавляй лишнюю информацию, которая не относится к рецепту. \n",
    "            Ингредиенты: {ingredients}\"\"\".format(ingredients=ingredients_str)\n",
    "        )\n",
    "        response = retrieval_qa.invoke({\"query\": user_prompt})  \n",
    "        \n",
    "        # Получаем ответ без вывода его на экран\n",
    "        original_response = response[\"result\"]\n",
    "        # Выбор стиля\n",
    "        style = choose_style(styles)\n",
    "        prompt = PromptTemplate(input_variables=['output_text', 'style'],\n",
    "                                template='''Добро пожаловать в поиск коктейлей!\\nПерепиши этот текст в заданном стиле: {output_text}\\nСтиль: {style}.\\nРезультат:\\n''')\n",
    "        \n",
    "        # Генерация текста с использованием оригинального ответа и выбранного стиля\n",
    "        styled_prompt = prompt.format(output_text=original_response, style=style)\n",
    "        \n",
    "        # Применение выбранного стиля к оригинальному ответу\n",
    "        styled_response = llm.invoke(styled_prompt)\n",
    "        print(styled_response)\n",
    "        break\n",
    "    \n",
    "    return styled_response\n",
    "\n",
    "if __name__ == \"__main__\":\n",
    "    # Сохраняем результат в переменную\n",
    "    recipe = main()"
   ]
  }
 ],
 "metadata": {
  "kernelspec": {
   "display_name": ".venv",
   "language": "python",
   "name": "python3"
  },
  "language_info": {
   "codemirror_mode": {
    "name": "ipython",
    "version": 3
   },
   "file_extension": ".py",
   "mimetype": "text/x-python",
   "name": "python",
   "nbconvert_exporter": "python",
   "pygments_lexer": "ipython3",
   "version": "3.10.12"
  }
 },
 "nbformat": 4,
 "nbformat_minor": 4
}
