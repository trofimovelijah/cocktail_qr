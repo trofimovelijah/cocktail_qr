{
 "cells": [
  {
   "cell_type": "markdown",
   "metadata": {},
   "source": [
    "## Импорт и определение библиотек"
   ]
  },
  {
   "cell_type": "code",
   "execution_count": 1,
   "metadata": {},
   "outputs": [],
   "source": [
    "# отключение параллелизма\n",
    "import os\n",
    "os.environ[\"TOKENIZERS_PARALLELISM\"] = \"false\""
   ]
  },
  {
   "cell_type": "code",
   "execution_count": null,
   "metadata": {},
   "outputs": [],
   "source": [
    "# ставим разные пакеты оттуда\n",
    "!pip install langchain langchain-community langchain_huggingface unstructured pypandoc -q\n",
    "!pip install faiss-cpu -q\n",
    "!pip install langchain-ollama -q"
   ]
  },
  {
   "cell_type": "code",
   "execution_count": 2,
   "metadata": {},
   "outputs": [
    {
     "name": "stderr",
     "output_type": "stream",
     "text": [
      "USER_AGENT environment variable not set, consider setting it to identify your requests.\n"
     ]
    }
   ],
   "source": [
    "# импортируем библиотеки\n",
    "from langchain.document_loaders import WebBaseLoader, PyPDFLoader, UnstructuredEPubLoader\n",
    "from langchain_core.documents import Document\n",
    "from langchain.prompts import PromptTemplate\n",
    "from langchain.tools import Tool\n",
    "from langchain.agents import initialize_agent\n",
    "from langchain.chains import RetrievalQA\n",
    "from langchain_huggingface import HuggingFaceEmbeddings\n",
    "import tqdm as notebook_tqdm\n",
    "from langchain_community.vectorstores import FAISS\n",
    "from langchain.llms import Ollama\n",
    "from langchain_ollama import OllamaLLM\n",
    "from langchain.text_splitter import TextSplitter\n",
    "from typing import List"
   ]
  },
  {
   "cell_type": "markdown",
   "metadata": {},
   "source": [
    "# Готовим коктейль с помощью RAG\n",
    "## Чутка `embeddings` с `HuggingFace` для оснастки"
   ]
  },
  {
   "cell_type": "code",
   "execution_count": 4,
   "metadata": {},
   "outputs": [
    {
     "name": "stderr",
     "output_type": "stream",
     "text": [
      "/home/elijah/Documents/LLM/cocktail_qr/.venv/lib/python3.10/site-packages/tqdm/auto.py:21: TqdmWarning: IProgress not found. Please update jupyter and ipywidgets. See https://ipywidgets.readthedocs.io/en/stable/user_install.html\n",
      "  from .autonotebook import tqdm as notebook_tqdm\n"
     ]
    }
   ],
   "source": [
    "# Чтение токена из файла\n",
    "def read_token(file_path): \n",
    "    with open(file_path, 'r') as f:\n",
    "        for line in f:\n",
    "            if line.startswith(\"HUGGINGFACEHUB_API_TOKEN\"):\n",
    "                return line.split('=')[1].strip()\n",
    "    raise ValueError(\"Token not found in the specified file.\")\n",
    "\n",
    "# Загрузка токена\n",
    "hf_token = read_token('../.env')\n",
    "\n",
    "# Формирование эмбеддингов\n",
    "hf_embeddings_model = HuggingFaceEmbeddings(\n",
    "    model_name=\"cointegrated/LaBSE-en-ru\",  \n",
    "    #\"sentence-transformers/paraphrase-multilingual-mpnet-base-v2\", \n",
    "    model_kwargs={\"device\": \"cpu\", \"token\": hf_token},\n",
    "    encode_kwargs={\n",
    "        'normalize_embeddings': True  # Для косинусной схожести\n",
    "    }\n",
    ")"
   ]
  },
  {
   "cell_type": "markdown",
   "metadata": {},
   "source": [
    "## Можно пропустить (если используете наполненную чашу векторного хранилища)\n",
    "### Немного `Document Loader`"
   ]
  },
  {
   "cell_type": "code",
   "execution_count": 10,
   "metadata": {},
   "outputs": [
    {
     "name": "stdout",
     "output_type": "stream",
     "text": [
      "pages count: 1\n",
      "max chars on page: 107261\n"
     ]
    }
   ],
   "source": [
    "# Загрузка EPUB файла от бармена-литературоведа\n",
    "loader = UnstructuredEPubLoader('../docs/Federle.epub', show_progress=True)\n",
    "doc_epub_mistral = loader.load()\n",
    "\n",
    "# смотрим, скока получилось загрузить\n",
    "print('pages count:', len(doc_epub_mistral))\n",
    "print('max chars on page:', max([len(page.page_content) for page in doc_epub_mistral]))"
   ]
  },
  {
   "cell_type": "code",
   "execution_count": null,
   "metadata": {},
   "outputs": [],
   "source": [
    "\"\"\"# Загружаем книгу от крутого бармена\n",
    "#loader = WebBaseLoader(url)\n",
    "loader = PyPDFLoader('../docs/Bortnik_1000.pdf')\n",
    "data_pdf = loader.load()\n",
    "\n",
    "print('pages count:', len(data_pdf))\n",
    "print('max chars on page:', max([len(page.page_content) for page in data_pdf]))\"\"\"\n",
    "\n",
    "# на тот случай, если решим загружать подобную литературу пачкой pdf\n",
    "\"\"\"\n",
    "#!pip install unstructured \"unstructured[pdf]\" -q\n",
    "from langchain_community.document_loaders import DirectoryLoader\n",
    "loader = DirectoryLoader(\"../docs\", glob=\"**/*.pdf\", show_progress=True)\n",
    "data = loader.load()\"\"\""
   ]
  },
  {
   "cell_type": "markdown",
   "metadata": {},
   "source": [
    "### Исполним `Text splitters` и разобьём на чанки"
   ]
  },
  {
   "cell_type": "code",
   "execution_count": 11,
   "metadata": {},
   "outputs": [],
   "source": [
    "class RecipeSplitter(TextSplitter):\n",
    "    def __init__(self):\n",
    "        super().__init__(chunk_size=1000, chunk_overlap=300)\n",
    "    \n",
    "    def split_text(self, text: str) -> List[str]:\n",
    "        # Убираем все пустые строки и лишние пробелы\n",
    "        cleaned_text = \"\\n\".join([line.strip() for line in text.split(\"\\n\") if line.strip()])\n",
    "        \n",
    "        # Разделяем текст на рецепты по маркеру \"НАЗВАНИЕ_РЕЦЕПТА\\nАВТОР\"\n",
    "        chunks = []\n",
    "        current_chunk = []\n",
    "        lines = cleaned_text.split(\"\\n\")\n",
    "        \n",
    "        i = 0\n",
    "        while i < len(lines):\n",
    "            line = lines[i]\n",
    "            # Проверяем начало нового рецепта\n",
    "            if i + 1 < len(lines) and lines[i+1].isupper() and \"(\" in lines[i+1] and \")\" in lines[i+1]:\n",
    "                if current_chunk:\n",
    "                    chunks.append(\"\\n\".join(current_chunk))\n",
    "                    current_chunk = []\n",
    "                current_chunk.append(line)\n",
    "                current_chunk.append(lines[i+1])\n",
    "                i += 2\n",
    "                continue\n",
    "            \n",
    "            current_chunk.append(line)\n",
    "            i += 1\n",
    "        \n",
    "        if current_chunk:\n",
    "            chunks.append(\"\\n\".join(current_chunk))\n",
    "        \n",
    "        return chunks\n",
    "    \n",
    "splitter = RecipeSplitter()"
   ]
  },
  {
   "cell_type": "code",
   "execution_count": 12,
   "metadata": {},
   "outputs": [
    {
     "name": "stdout",
     "output_type": "stream",
     "text": [
      "Количество чанков: 73\n",
      "Максимальное количество символов в чанке: 15125\n"
     ]
    }
   ],
   "source": [
    "chunks = splitter.split_documents(doc_epub_mistral)\n",
    "print('Количество чанков:', len(chunks))\n",
    "print('Максимальное количество символов в чанке:', max([len(chunk.page_content) for chunk in chunks]))"
   ]
  },
  {
   "cell_type": "markdown",
   "metadata": {},
   "source": [
    "### Наполним чашу `Vector Store`"
   ]
  },
  {
   "cell_type": "code",
   "execution_count": 17,
   "metadata": {},
   "outputs": [],
   "source": [
    "# Если нужно сохранить новый документ в базу\n",
    "try:\n",
    "    db_embed = FAISS.from_documents(\n",
    "            chunks, \n",
    "            hf_embeddings_model\n",
    "        )\n",
    "except Exception as e:\n",
    "    raise RuntimeError(f\"Ошибка при создании базы данных FAISS: {e}\")\n",
    "\n",
    "\n",
    "# Сохраняем векторную базу локально\n",
    "db_embed.save_local(\"../data/faiss_db_epub_mistral\")"
   ]
  },
  {
   "cell_type": "markdown",
   "metadata": {},
   "source": [
    "## Нужно запустить (если используете готовое векторное хранилище)\n",
    "### Испьём чашу `Vector Store`"
   ]
  },
  {
   "cell_type": "code",
   "execution_count": 18,
   "metadata": {},
   "outputs": [],
   "source": [
    "# Если нужно изъять из уже сохранённого документа из базы\n",
    "# Загрузка векторной базы данных из локального файла\n",
    "db_embed = FAISS.load_local(\n",
    "        \"../data/faiss_db_epub_mistral\", \n",
    "        hf_embeddings_model,\n",
    "        allow_dangerous_deserialization = True\n",
    "    )"
   ]
  },
  {
   "cell_type": "code",
   "execution_count": null,
   "metadata": {},
   "outputs": [],
   "source": [
    "# альтернативный подход для гибридного поиска\n",
    "# возможно нужно будет позже вернуться\n",
    "\"\"\"!pip install rank_bm25 -q\n",
    "\n",
    "from langchain.retrievers import BM25Retriever, EnsembleRetriever\n",
    "\n",
    "# Создаем гибридный поиск (семантический + ключевые слова)\n",
    "bm25_retriever = BM25Retriever.from_documents(split_documents)\n",
    "bm25_retriever.k = 3\n",
    "\n",
    "faiss_retriever = db_embed.as_retriever(search_kwargs={\"k\": 1})\n",
    "\n",
    "ensemble_retriever = EnsembleRetriever(\n",
    "    retrievers=[bm25_retriever, faiss_retriever],\n",
    "    weights=[0.2, 0.8]\n",
    ")\n",
    "\n",
    "# Использование:\n",
    "processed_query = \"ингредиенты: \" + query  # Добавляем контекст для поиска\n",
    "results = ensemble_retriever.invoke(processed_query)\n",
    "for result in results:\n",
    "    print(result.metadata['ingredients'])\"\"\""
   ]
  },
  {
   "cell_type": "code",
   "execution_count": 30,
   "metadata": {},
   "outputs": [
    {
     "name": "stdout",
     "output_type": "stream",
     "text": [
      "Лорд Крюшон\n",
      "ЛОРД ДЖИМ (1899)\n",
      "ДЖОЗЕФ КОНРАД\n",
      "Помните мистера Марлоу из «Сердца тьмы»? (Да бросьте, это было всего-то десять рецептов назад.) На сей раз наш знакомец ведет рассказ не о себе. Молодой моряк Джим грезил героическими подвигами – и бросил на произвол судьбы терпящее бедствие судно с направлявшимися в Мекку паломниками. (На заметку: для быстрого обогащения на литературной ниве возвращайтесь в позапрошлый век и описывайте человеческие драмы на фоне морской пучины.) Хотя повествование ведется от лица нескольких рассказчиков, а нарушенная хронология событий должна бы добавлять интриги, «Лорд Джим» местами тяжеловат. Предлагаем оживить постных британцев их же знаменитым крюшоном (этот напиток любого тихоню превратит в героя):\n",
      "1 огурец, нарезанный кружочками, и ломтик для украшения;\n",
      "60 мл крюшона «Пиммз № 1» (Pimm’s № 1);\n",
      "1 банка (0,33 л) лимонно-лаймовой газировки (кстати, «Буратино» или «Лимонад» отлично подойдут для подобных миксов!);\n",
      "долька лимона.\n",
      "Помещаем в коллинз несколько кружочков огурца, добавляем лед и крюшон. Доливаем доверху содовой, дольку лимона выжимаем в стакан и бросаем туда же; украшаем ломтиком огурца. Огромная просьба: как настоящие моряки, обслужите первыми дам и инфантильных господ.\n",
      "\n",
      "Коктейль о двух городах\n",
      "ПОВЕСТЬ О ДВУХ ГОРОДАХ (1859)\n",
      "ЧАРЛЬЗ ДИККЕНС\n",
      "Диккенс на протяжении более чем 30 выпусков держал в напряжении читателей издаваемого им литературного еженедельника «Круглый год». История драматических коллизий судьбы его героев, мечущихся между Лондоном и Парижем в тревожные времена Французской революции, печаталась порциями. Хотя оба города и сами по себе заслуживают играть первые роли в повествовании, на сей раз они лишь декорация, на фоне которой разворачивается история главных героев: златокудрой красавицы и двух благородных мужей, готовых умереть ради нее (эх, было время!). Поднимем же за рыцаря, чье желание положить свою жизнь на алтарь счастья возлюбленной не разошлось с делом, бокал прославленного напитка, который придумали в легендарном парижском баре «Нью-Йорк» (к вопросу о том, как посетить два города за одну ночь без загранпаспорта!):\n",
      "1 кубик сахара-рафинада;\n",
      "30 мл джина;\n",
      "15 мл лимонного сока;\n",
      "шампанское для долива.\n",
      "Помещаем в бокал флюте кубик рафинада. Джин и лимонный сок заливаем в шейкер, само собой, со льдом; как следует взбалтываем. Процеживаем через стрейнер в бокал. Доливаем шампанское до краев. Уж поверьте, результат будет революционным.\n",
      "\n"
     ]
    }
   ],
   "source": [
    "query = \"джин, лимонный сок, черносмородиновый ликер\"\n",
    "results = db_embed.similarity_search(query, k=2)\n",
    "for result in results:\n",
    "    print(result.page_content)\n",
    "    print()"
   ]
  },
  {
   "cell_type": "markdown",
   "metadata": {},
   "source": [
    "# Месье системный промт"
   ]
  },
  {
   "cell_type": "code",
   "execution_count": null,
   "metadata": {},
   "outputs": [],
   "source": [
    "system_prompt = \"\"\"\n",
    "        Ты — помощник для поиска рецептов коктейлей. У тебя есть доступ к базе данных с рецептами, вдохновлёнными литературными произведениями.\n",
    "        Когда пользователь вводит ингредиенты, используй инструмент \"Cocktail Recipe Finder\", чтобы найти подходящие рецепты.\n",
    "        Если рецепт не найден, предложи альтернативные варианты или уточни запрос.\n",
    "\n",
    "        ===\n",
    "        \n",
    "        Пример:\n",
    "        Пользователь: Какие коктейли можно сделать из водки и апельсинового сока?\n",
    "        Агент: Использую инструмент \"Cocktail Recipe Finder\" для поиска рецептов. Вот что найдено: [рецепт].\n",
    "\n",
    "        ===\n",
    "\n",
    "        Пример корректного ответа по введённым ингредиентам (ржаной виски, грейпфрутовый сок):\n",
    "        Коктейль \"Рожь и предубеждение\"\n",
    "        Состав:\n",
    "        - Ржаной виски (50 мл)\n",
    "        - Грейпфрутовый сок (90 мл)\n",
    "        Способ приготовления:\n",
    "        - Ингредиенты выливаем в стакан рокс поверх кубиков льда, размешиваем в ритме «сердце вскачь». \n",
    "        - Хотим подчеркнуть, юные леди, мы нисколечко не предубеждены против замужества, а лишь призываем вас уяснить главное: чтобы почувствовать себя королевой, не нужно и дворца (как, впрочем, и короля).\n",
    "    \"\"\""
   ]
  },
  {
   "cell_type": "code",
   "execution_count": null,
   "metadata": {},
   "outputs": [],
   "source": [
    "# Промпт для LangChain\n",
    "qa_prompt = PromptTemplate(\n",
    "    template=system_prompt + \"\\nКонтекст: {context}\\nВопрос: {question}\\nОтвет:\",\n",
    "    input_variables=[\"style\", \"context\", \"question\"]\n",
    ")"
   ]
  },
  {
   "cell_type": "markdown",
   "metadata": {},
   "source": [
    "## Полирнём `Retriver` и инициализирует `llm` для вкуса"
   ]
  },
  {
   "cell_type": "code",
   "execution_count": null,
   "metadata": {},
   "outputs": [],
   "source": [
    "# Инициализация модели\n",
    "llm = OllamaLLM(\n",
    "    model=\"mistral:instruct\",\n",
    "    #temperature=0.2,          # Для креативности\n",
    "    num_predict=512,         # Увеличенная длина ответа\n",
    "    stop=[\"\\\\n\\\\n\", \"###\"],   # Стоп-токены\n",
    "    #top_k=40\n",
    ")"
   ]
  },
  {
   "cell_type": "code",
   "execution_count": null,
   "metadata": {},
   "outputs": [],
   "source": [
    "# Модифицируем параметры ретривера\n",
    "retriever = db_embed.as_retriever(\n",
    "    search_type=\"mmr\",              # Maximal Marginal Relevance\n",
    "    search_kwargs={\n",
    "        \"k\": 3,                     # Уменьшаем количество возвращаемых документов\n",
    "        \"fetch_k\": 20,              # Уменьшаем общий пул для поиска\n",
    "        #\"lambda_mult\": 0.5          # Баланс между релевантностью и разнообразием\n",
    "    }\n",
    ")\n",
    "\n",
    "# Инициализация цепочки RetrievalQA\n",
    "retrieval_qa = RetrievalQA.from_chain_type(\n",
    "    llm=llm,\n",
    "    retriever=retriever,\n",
    "    return_source_documents=True\n",
    ")"
   ]
  },
  {
   "cell_type": "markdown",
   "metadata": {},
   "source": [
    "# Миксуем рецепт коктейля `agent` 00х"
   ]
  },
  {
   "cell_type": "code",
   "execution_count": null,
   "metadata": {},
   "outputs": [],
   "source": [
    "# Создание инструмента\n",
    "agent_tools = [\n",
    "    Tool(\n",
    "        name=\"Cocktail Recipe Finder\",\n",
    "        func=retrieval_qa.run,\n",
    "        description=\"Используй этот инструмент, чтобы найти рецепты коктейлей по заданным ингредиентам. Вводи список ингредиентов, и инструмент вернёт подходящие рецепты. Пример: ['сок', 'виски'].\"\n",
    "    )\n",
    "]\n",
    "\n",
    "# создание агента\n",
    "agent = initialize_agent(\n",
    "    tools=agent_tools, \n",
    "    llm=llm, \n",
    "    agent=\"conversational-react-description\",       #\"zero-shot-react-description\", \"plan-and-execute\"\n",
    "    verbose=True,\n",
    "    system_prompt=system_prompt                     # не забыть указать системный промт для вкуса\n",
    ")"
   ]
  },
  {
   "cell_type": "markdown",
   "metadata": {},
   "source": [
    "# Задаём общие параметры, после чего коктейль готов\n",
    "## Вначале коктейль"
   ]
  },
  {
   "cell_type": "code",
   "execution_count": null,
   "metadata": {},
   "outputs": [],
   "source": [
    "# Объявление функции на ввод данных от пользователя\n",
    "def get_user_input():\n",
    "    \"\"\"\n",
    "    Запрашивает у пользователя ингредиенты для поиска рецептов.\n",
    "    \"\"\"\n",
    "    user_input = input(\"Введите ингредиенты, разделенные запятыми: \")\n",
    "    ingredients = [ingredient.strip() for ingredient in user_input.split(\",\")]\n",
    "    return ingredients\n",
    "\n",
    "\n",
    "# Обработка ответа\n",
    "def format_response(response):\n",
    "    if \"не знаю\" in response.lower() or \"не найдено\" in response.lower():\n",
    "        return \"К сожалению, я не нашёл коктейлей с этими ингредиентами. Попробуйте другие ингредиенты.\"\n",
    "    else:\n",
    "        return response\n",
    "    \n",
    "\n",
    "# Функция выбора стиля ответа\n",
    "def choose_style(styles):\n",
    "    chosen_style = input(\"Выберите номер стиля (по умолчанию 4): \") or \"4\"\n",
    "    return styles.get(chosen_style, styles[\"4\"])#[\"name\"]"
   ]
  },
  {
   "cell_type": "code",
   "execution_count": null,
   "metadata": {},
   "outputs": [],
   "source": [
    "def main():\n",
    "    # Определение стилей\n",
    "    styles = {\n",
    "        \"1\": \"стиль космического ужаса и хтонического мрака Говарда Ф. Лавкрафта\",\n",
    "        \"2\": \"гопническо-быдляцкий жаргон\",\n",
    "        \"3\": \"экспериментальный стиль нарезок Уильяма Берроуза\",\n",
    "        \"4\": \"стиль без изменений\"  # Стиль по умолчанию\n",
    "    }\n",
    "    \n",
    "    while True:\n",
    "        ingredients = get_user_input()\n",
    "        if not ingredients:\n",
    "            print(\"Вы не ввели ингредиенты. Попробуйте снова.\")\n",
    "            continue\n",
    "        \n",
    "        # Преобразуем массив ингредиентов в строку\n",
    "        ingredients_str = \", \".join(ingredients)\n",
    "        \n",
    "        # Формируем текстовый запрос\n",
    "        user_prompt = (\n",
    "            \"\"\"Напиши, какие коктейли можно изготовить из представленных ниже ингредиентов. \n",
    "            Для каждого коктейля опиши подробный способ приготовления и укажи пропорции. \n",
    "            Отвечай строго на русском языке, используя чёткий и лаконичный формат. \n",
    "            Не добавляй лишнюю информацию, которая не относится к рецепту. \n",
    "            Ингредиенты: {ingredients}\"\"\".format(ingredients=ingredients_str)\n",
    "        )\n",
    "        response = retrieval_qa.invoke({\"query\": user_prompt})  \n",
    "        \n",
    "        # Получаем ответ без вывода его на экран\n",
    "        original_response = response[\"result\"]\n",
    "        # Выбор стиля\n",
    "        style = choose_style(styles)\n",
    "        prompt = PromptTemplate(input_variables=['output_text', 'style'],\n",
    "                                template='''Добро пожаловать в поиск коктейлей!\\nПерепиши этот текст в заданном стиле: {output_text}\\nСтиль: {style}.\\nРезультат:\\n''')\n",
    "        \n",
    "        # Генерация текста с использованием оригинального ответа и выбранного стиля\n",
    "        styled_prompt = prompt.format(output_text=original_response, style=style)\n",
    "        \n",
    "        # Применение выбранного стиля к оригинальному ответу\n",
    "        styled_response = llm.invoke(styled_prompt)\n",
    "        print(styled_response)\n",
    "        break\n",
    "    \n",
    "    return styled_response\n",
    "\n",
    "if __name__ == \"__main__\":\n",
    "    # Сохраняем результат в переменную\n",
    "    recipe = main()"
   ]
  }
 ],
 "metadata": {
  "kernelspec": {
   "display_name": ".venv",
   "language": "python",
   "name": "python3"
  },
  "language_info": {
   "codemirror_mode": {
    "name": "ipython",
    "version": 3
   },
   "file_extension": ".py",
   "mimetype": "text/x-python",
   "name": "python",
   "nbconvert_exporter": "python",
   "pygments_lexer": "ipython3",
   "version": "3.10.12"
  }
 },
 "nbformat": 4,
 "nbformat_minor": 4
}
